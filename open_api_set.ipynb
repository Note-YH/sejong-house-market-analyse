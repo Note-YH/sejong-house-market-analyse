{
  "cells": [
    {
      "cell_type": "code",
      "execution_count": 1,
      "metadata": {
        "colab": {
          "base_uri": "https://localhost:8080/"
        },
        "id": "gBa5MxqaI6U2",
        "outputId": "033660f5-d4d1-4a24-8447-a6121d614acd"
      },
      "outputs": [],
      "source": [
        "import numpy as np\r\n",
        "import pandas as pd\r\n",
        "\r\n",
        "#pd.options.display.max_rows = 1000000 \r\n",
        "\r\n",
        "%matplotlib inline\r\n",
        "import matplotlib\r\n",
        "import matplotlib as mpl\r\n",
        "import matplotlib.pyplot as plt\r\n",
        "plt.rcParams['axes.unicode_minus'] = False\r\n",
        "plt.rcParams[\"font.family\"] = 'NanumBarunGothic'\r\n",
        "plt.rcParams[\"font.size\"] = 20\r\n",
        "plt.rcParams[\"figure.figsize\"] = (15,8)\r\n",
        "\r\n",
        "mpl.rc('axes', labelsize=12)\r\n",
        "mpl.rc('xtick', labelsize=8)\r\n",
        "mpl.rc('ytick', labelsize=8)\r\n",
        "\r\n",
        "import seaborn as sns\r\n",
        "#corr_set\r\n",
        "from itertools import product"
      ]
    },
    {
      "cell_type": "code",
      "execution_count": null,
      "metadata": {},
      "outputs": [],
      "source": []
    }
  ],
  "metadata": {
    "colab": {
      "collapsed_sections": [],
      "name": "data_summary_by_dong.ipynb",
      "provenance": []
    },
    "kernelspec": {
      "display_name": "Python 3",
      "language": "python",
      "name": "python3"
    },
    "language_info": {
      "codemirror_mode": {
        "name": "ipython",
        "version": 3
      },
      "file_extension": ".py",
      "mimetype": "text/x-python",
      "name": "python",
      "nbconvert_exporter": "python",
      "pygments_lexer": "ipython3",
      "version": "3.8.5"
    }
  },
  "nbformat": 4,
  "nbformat_minor": 0
}