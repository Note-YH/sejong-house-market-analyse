{
  "cells": [
    {
      "cell_type": "code",
      "execution_count": 33,
      "metadata": {
        "colab": {
          "base_uri": "https://localhost:8080/"
        },
        "id": "gBa5MxqaI6U2",
        "outputId": "033660f5-d4d1-4a24-8447-a6121d614acd"
      },
      "outputs": [],
      "source": [
        "import numpy as np\r\n",
        "import pandas as pd\r\n",
        "\r\n",
        "from urllib.request import urlopen\r\n",
        "from urllib.parse import urlencode, unquote, quote_plus\r\n",
        "import requests, bs4\r\n",
        "from lxml import html\r\n",
        "from bs4 import BeautifulSoup\r\n",
        "#pd.options.display.max_rows = 1000000 \r\n",
        "\r\n",
        "import seaborn as sns\r\n",
        "#corr_set\r\n",
        "from itertools import product"
      ]
    },
    {
      "cell_type": "code",
      "execution_count": 73,
      "metadata": {},
      "outputs": [],
      "source": [
        "url = 'http://apis.data.go.kr/1611000/ArchPmsService/getApHoExposPubuseAreaInfo'\r\n",
        "key = unquote('CDobnGagmInKUc/CoWYvY5eCKOqJF+4R8GOZXH8daypI1NSJV5O+QTkounu5WIAaQxKyoVj7NLYyTnhyVpUmeg==')\r\n",
        "queryParams = '?' + urlencode(\r\n",
        "    { \r\n",
        "        quote_plus('ServiceKey') : key, \r\n",
        "        quote_plus('sigunguCd') : '11680', \r\n",
        "        quote_plus('bjdongCd') : '10300', \r\n",
        "        quote_plus('platGbCd') : '0', \r\n",
        "        quote_plus('bun') : '0012', \r\n",
        "        quote_plus('ji') : '0004', \r\n",
        "        quote_plus('startDate') : '', \r\n",
        "        quote_plus('endDate') : '', \r\n",
        "        quote_plus('numOfRows') : '10', \r\n",
        "        quote_plus('pageNo') : '1' })\r\n",
        "\r\n",
        "response = requests.get(url + queryParams).text.encode('utf-8')\r\n",
        "xmlobj = bs4.BeautifulSoup(response, 'lxml-xml')"
      ]
    },
    {
      "cell_type": "code",
      "execution_count": 74,
      "metadata": {},
      "outputs": [],
      "source": [
        "rows = xmlobj.findAll('item')"
      ]
    },
    {
      "cell_type": "code",
      "execution_count": 75,
      "metadata": {},
      "outputs": [
        {
          "data": {
            "text/plain": "[<item><area>280.38</area><bjdongCd>10300</bjdongCd><block> </block><bun>0012</bun><crtnDay>20110215</crtnDay><etcPurps> </etcPurps><exposPubuseGbCd>1</exposPubuseGbCd><exposPubuseGbCdNm>전유</exposPubuseGbCdNm><flrGbCd>20</flrGbCd><flrGbCdNm>지상</flrGbCdNm><flrNo>7</flrNo><ji>0004</ji><lot> </lot><mainAtchGbCd>0</mainAtchGbCd><mainAtchGbCdNm>주건축물</mainAtchGbCdNm><mainPurpsCd>13011</mainPurpsCd><mainPurpsCdNm>골프연습장</mainPurpsCdNm><mgmHoDetlPk>11680-100009983</mgmHoDetlPk><mgmHoExposPubuseAreaPk>11680-100026003</mgmHoExposPubuseAreaPk><platGbCd>0</platGbCd><platPlc>서울특별시 강남구 개포동 12-4번지</platPlc><pngtypGbNm>701호</pngtypGbNm><rnum>1</rnum><sigunguCd>11680</sigunguCd><splotNm> </splotNm><strctCd>21</strctCd><strctCdNm>철근콘크리트구조</strctCdNm></item>,\n <item><area>675.42</area><bjdongCd>10300</bjdongCd><block> </block><bun>0012</bun><crtnDay>20110215</crtnDay><etcPurps> </etcPurps><exposPubuseGbCd>1</exposPubuseGbCd><exposPubuseGbCdNm>전유</exposPubuseGbCdNm><flrGbCd>20</flrGbCd><flrGbCdNm>지상</flrGbCdNm><flrNo>7</flrNo><ji>0004</ji><lot> </lot><mainAtchGbCd>0</mainAtchGbCd><mainAtchGbCdNm>주건축물</mainAtchGbCdNm><mainPurpsCd>13006</mainPurpsCd><mainPurpsCdNm>체력단련장</mainPurpsCdNm><mgmHoDetlPk>11680-100009983</mgmHoDetlPk><mgmHoExposPubuseAreaPk>11680-100026004</mgmHoExposPubuseAreaPk><platGbCd>0</platGbCd><platPlc>서울특별시 강남구 개포동 12-4번지</platPlc><pngtypGbNm>701호</pngtypGbNm><rnum>2</rnum><sigunguCd>11680</sigunguCd><splotNm> </splotNm><strctCd>21</strctCd><strctCdNm>철근콘크리트구조</strctCdNm></item>,\n <item><area>181.2</area><bjdongCd>10300</bjdongCd><block> </block><bun>0012</bun><crtnDay>20160420</crtnDay><etcPurps> </etcPurps><exposPubuseGbCd>1</exposPubuseGbCd><exposPubuseGbCdNm>전유</exposPubuseGbCdNm><flrGbCd>20</flrGbCd><flrGbCdNm>지상</flrGbCdNm><flrNo>4</flrNo><ji>0004</ji><lot> </lot><mainAtchGbCd>0</mainAtchGbCd><mainAtchGbCdNm>주건축물</mainAtchGbCdNm><mainPurpsCd>10003</mainPurpsCd><mainPurpsCdNm>학원</mainPurpsCdNm><mgmHoDetlPk>11680-100040071</mgmHoDetlPk><mgmHoExposPubuseAreaPk>11680-100100209</mgmHoExposPubuseAreaPk><platGbCd>0</platGbCd><platPlc>서울특별시 강남구 개포동 12-4번지</platPlc><pngtypGbNm>429.24</pngtypGbNm><rnum>3</rnum><sigunguCd>11680</sigunguCd><splotNm> </splotNm><strctCd>21</strctCd><strctCdNm>철근콘크리트구조</strctCdNm></item>,\n <item><area>248.04</area><bjdongCd>10300</bjdongCd><block> </block><bun>0012</bun><crtnDay>20160420</crtnDay><etcPurps> </etcPurps><exposPubuseGbCd>1</exposPubuseGbCd><exposPubuseGbCdNm>전유</exposPubuseGbCdNm><flrGbCd>20</flrGbCd><flrGbCdNm>지상</flrGbCdNm><flrNo>4</flrNo><ji>0004</ji><lot> </lot><mainAtchGbCd>0</mainAtchGbCd><mainAtchGbCdNm>주건축물</mainAtchGbCdNm><mainPurpsCd>06101</mainPurpsCd><mainPurpsCdNm>교회</mainPurpsCdNm><mgmHoDetlPk>11680-100040071</mgmHoDetlPk><mgmHoExposPubuseAreaPk>11680-100100210</mgmHoExposPubuseAreaPk><platGbCd>0</platGbCd><platPlc>서울특별시 강남구 개포동 12-4번지</platPlc><pngtypGbNm>429.24</pngtypGbNm><rnum>4</rnum><sigunguCd>11680</sigunguCd><splotNm> </splotNm><strctCd>21</strctCd><strctCdNm>철근콘크리트구조</strctCdNm></item>,\n <item><area>58.45</area><bjdongCd>10300</bjdongCd><block> </block><bun>0012</bun><crtnDay>20160420</crtnDay><etcPurps>기계실</etcPurps><exposPubuseGbCd>2</exposPubuseGbCd><exposPubuseGbCdNm>공용</exposPubuseGbCdNm><flrGbCd>10</flrGbCd><flrGbCdNm>지하</flrGbCdNm><flrNo>1</flrNo><ji>0004</ji><lot> </lot><mainAtchGbCd>0</mainAtchGbCd><mainAtchGbCdNm>주건축물</mainAtchGbCdNm><mainPurpsCd>06101</mainPurpsCd><mainPurpsCdNm>교회</mainPurpsCdNm><mgmHoDetlPk>11680-100040071</mgmHoDetlPk><mgmHoExposPubuseAreaPk>11680-100100211</mgmHoExposPubuseAreaPk><platGbCd>0</platGbCd><platPlc>서울특별시 강남구 개포동 12-4번지</platPlc><pngtypGbNm>429.24</pngtypGbNm><rnum>5</rnum><sigunguCd>11680</sigunguCd><splotNm> </splotNm><strctCd>21</strctCd><strctCdNm>철근콘크리트구조</strctCdNm></item>,\n <item><area>239.89</area><bjdongCd>10300</bjdongCd><block> </block><bun>0012</bun><crtnDay>20160420</crtnDay><etcPurps>지하주차장</etcPurps><exposPubuseGbCd>2</exposPubuseGbCd><exposPubuseGbCdNm>공용</exposPubuseGbCdNm><flrGbCd>10</flrGbCd><flrGbCdNm>지하</flrGbCdNm><flrNo>1</flrNo><ji>0004</ji><lot> </lot><mainAtchGbCd>0</mainAtchGbCd><mainAtchGbCdNm>주건축물</mainAtchGbCdNm><mainPurpsCd>06101</mainPurpsCd><mainPurpsCdNm>교회</mainPurpsCdNm><mgmHoDetlPk>11680-100040071</mgmHoDetlPk><mgmHoExposPubuseAreaPk>11680-100100212</mgmHoExposPubuseAreaPk><platGbCd>0</platGbCd><platPlc>서울특별시 강남구 개포동 12-4번지</platPlc><pngtypGbNm>429.24</pngtypGbNm><rnum>6</rnum><sigunguCd>11680</sigunguCd><splotNm> </splotNm><strctCd>21</strctCd><strctCdNm>철근콘크리트구조</strctCdNm></item>,\n <item><area>141.73</area><bjdongCd>10300</bjdongCd><block> </block><bun>0012</bun><crtnDay>20160420</crtnDay><etcPurps>계단</etcPurps><exposPubuseGbCd>2</exposPubuseGbCd><exposPubuseGbCdNm>공용</exposPubuseGbCdNm><flrGbCd>20</flrGbCd><flrGbCdNm>지상</flrGbCdNm><flrNo>1</flrNo><ji>0004</ji><lot> </lot><mainAtchGbCd>0</mainAtchGbCd><mainAtchGbCdNm>주건축물</mainAtchGbCdNm><mainPurpsCd>06101</mainPurpsCd><mainPurpsCdNm>교회</mainPurpsCdNm><mgmHoDetlPk>11680-100040071</mgmHoDetlPk><mgmHoExposPubuseAreaPk>11680-100100213</mgmHoExposPubuseAreaPk><platGbCd>0</platGbCd><platPlc>서울특별시 강남구 개포동 12-4번지</platPlc><pngtypGbNm>429.24</pngtypGbNm><rnum>7</rnum><sigunguCd>11680</sigunguCd><splotNm> </splotNm><strctCd>21</strctCd><strctCdNm>철근콘크리트구조</strctCdNm></item>,\n <item><area>10.31</area><bjdongCd>10300</bjdongCd><block> </block><bun>0012</bun><crtnDay>20160420</crtnDay><etcPurps>현관</etcPurps><exposPubuseGbCd>2</exposPubuseGbCd><exposPubuseGbCdNm>공용</exposPubuseGbCdNm><flrGbCd>20</flrGbCd><flrGbCdNm>지상</flrGbCdNm><flrNo>1</flrNo><ji>0004</ji><lot> </lot><mainAtchGbCd>0</mainAtchGbCd><mainAtchGbCdNm>주건축물</mainAtchGbCdNm><mainPurpsCd>06101</mainPurpsCd><mainPurpsCdNm>교회</mainPurpsCdNm><mgmHoDetlPk>11680-100040071</mgmHoDetlPk><mgmHoExposPubuseAreaPk>11680-100100214</mgmHoExposPubuseAreaPk><platGbCd>0</platGbCd><platPlc>서울특별시 강남구 개포동 12-4번지</platPlc><pngtypGbNm>429.24</pngtypGbNm><rnum>8</rnum><sigunguCd>11680</sigunguCd><splotNm> </splotNm><strctCd>21</strctCd><strctCdNm>철근콘크리트구조</strctCdNm></item>,\n <item><area>16.82</area><bjdongCd>10300</bjdongCd><block> </block><bun>0012</bun><crtnDay>20160420</crtnDay><etcPurps>화장실</etcPurps><exposPubuseGbCd>2</exposPubuseGbCd><exposPubuseGbCdNm>공용</exposPubuseGbCdNm><flrGbCd>20</flrGbCd><flrGbCdNm>지상</flrGbCdNm><flrNo>4</flrNo><ji>0004</ji><lot> </lot><mainAtchGbCd>0</mainAtchGbCd><mainAtchGbCdNm>주건축물</mainAtchGbCdNm><mainPurpsCd>06101</mainPurpsCd><mainPurpsCdNm>교회</mainPurpsCdNm><mgmHoDetlPk>11680-100040071</mgmHoDetlPk><mgmHoExposPubuseAreaPk>11680-100100215</mgmHoExposPubuseAreaPk><platGbCd>0</platGbCd><platPlc>서울특별시 강남구 개포동 12-4번지</platPlc><pngtypGbNm>429.24</pngtypGbNm><rnum>9</rnum><sigunguCd>11680</sigunguCd><splotNm> </splotNm><strctCd>21</strctCd><strctCdNm>철근콘크리트구조</strctCdNm></item>]"
          },
          "execution_count": 75,
          "metadata": {},
          "output_type": "execute_result"
        }
      ],
      "source": [
        "rows"
      ]
    },
    {
      "cell_type": "code",
      "execution_count": null,
      "metadata": {},
      "outputs": [],
      "source": []
    }
  ],
  "metadata": {
    "colab": {
      "collapsed_sections": [],
      "name": "data_summary_by_dong.ipynb",
      "provenance": []
    },
    "kernelspec": {
      "display_name": "Python 3",
      "language": "python",
      "name": "python3"
    },
    "language_info": {
      "codemirror_mode": {
        "name": "ipython",
        "version": 3
      },
      "file_extension": ".py",
      "mimetype": "text/x-python",
      "name": "python",
      "nbconvert_exporter": "python",
      "pygments_lexer": "ipython3",
      "version": "3.8.5"
    }
  },
  "nbformat": 4,
  "nbformat_minor": 0
}