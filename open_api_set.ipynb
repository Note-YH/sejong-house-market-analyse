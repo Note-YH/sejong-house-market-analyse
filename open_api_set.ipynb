{
  "cells": [
    {
      "cell_type": "code",
      "execution_count": 92,
      "metadata": {
        "colab": {
          "base_uri": "https://localhost:8080/"
        },
        "id": "gBa5MxqaI6U2",
        "outputId": "033660f5-d4d1-4a24-8447-a6121d614acd"
      },
      "outputs": [],
      "source": [
        "import numpy as np\r\n",
        "import pandas as pd\r\n",
        "\r\n",
        "from urllib.request import urlopen\r\n",
        "from urllib.parse import urlencode, unquote, quote_plus\r\n",
        "import requests, bs4\r\n",
        "from lxml import html\r\n",
        "from bs4 import BeautifulSoup\r\n",
        "#pd.options.display.max_rows = 1000000 \r\n",
        "\r\n",
        "import seaborn as sns\r\n",
        "#corr_set\r\n",
        "from itertools import product"
      ]
    },
    {
      "cell_type": "markdown",
      "metadata": {},
      "source": [
        "**Setting**\r\n"
      ]
    },
    {
      "cell_type": "code",
      "execution_count": 108,
      "metadata": {},
      "outputs": [
        {
          "name": "stdout",
          "output_type": "stream",
          "text": [
            "b'<OpenAPI_ServiceResponse>\\n\\t<cmmMsgHeader>\\n\\t\\t<errMsg>SERVICE ERROR</errMsg>\\n\\t\\t<returnAuthMsg>SERVICE_KEY_IS_NOT_REGISTERED_ERROR</returnAuthMsg>\\n\\t\\t<returnReasonCode>30</returnReasonCode>\\n\\t</cmmMsgHeader>\\n</OpenAPI_ServiceResponse>'\n"
          ]
        }
      ],
      "source": [
        "url = 'http://apis.data.go.kr/1613000/BldRgstService_v2/getBrExposPubuseAreaInfo?serviceKey='\r\n",
        "key = unquote('CDobnGagmInKUc%2FCoWYvY5eCKOqJF%2B4R8GOZXH8daypI1NSJV5O%2BQTkounu5WIAaQxKyoVj7NLYyTnhyVpUmeg%3D%3D')\r\n",
        "queryParams = '?' + urlencode(\r\n",
        "    { \r\n",
        "        quote_plus('ServiceKey') : key, \r\n",
        "        quote_plus('sigunguCd') : '36110', \r\n",
        "        quote_plus('bjdongCd') : '10700', \r\n",
        "        quote_plus('platGbCd') : '0', \r\n",
        "        quote_plus('bun') : '0764',\r\n",
        "        quote_plus('pageNo') : '1'\r\n",
        "     })\r\n",
        "\r\n",
        "response = requests.get(url + queryParams).text.encode('utf-8')\r\n",
        "print(response)\r\n",
        "xmlobj = bs4.BeautifulSoup(response, 'lxml-xml')"
      ]
    },
    {
      "cell_type": "code",
      "execution_count": 102,
      "metadata": {},
      "outputs": [],
      "source": [
        "rows = xmlobj.findAll('item')"
      ]
    },
    {
      "cell_type": "code",
      "execution_count": 103,
      "metadata": {},
      "outputs": [
        {
          "data": {
            "text/plain": "[]"
          },
          "execution_count": 103,
          "metadata": {},
          "output_type": "execute_result"
        }
      ],
      "source": [
        "rows"
      ]
    },
    {
      "cell_type": "code",
      "execution_count": null,
      "metadata": {},
      "outputs": [],
      "source": []
    }
  ],
  "metadata": {
    "colab": {
      "collapsed_sections": [],
      "name": "data_summary_by_dong.ipynb",
      "provenance": []
    },
    "kernelspec": {
      "display_name": "Python 3",
      "language": "python",
      "name": "python3"
    },
    "language_info": {
      "codemirror_mode": {
        "name": "ipython",
        "version": 3
      },
      "file_extension": ".py",
      "mimetype": "text/x-python",
      "name": "python",
      "nbconvert_exporter": "python",
      "pygments_lexer": "ipython3",
      "version": "3.8.5"
    }
  },
  "nbformat": 4,
  "nbformat_minor": 0
}