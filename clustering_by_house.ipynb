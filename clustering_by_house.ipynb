{
 "metadata": {
  "language_info": {
   "codemirror_mode": {
    "name": "ipython",
    "version": 3
   },
   "file_extension": ".py",
   "mimetype": "text/x-python",
   "name": "python",
   "nbconvert_exporter": "python",
   "pygments_lexer": "ipython3",
   "version": "3.8.7"
  },
  "orig_nbformat": 2,
  "kernelspec": {
   "name": "python3",
   "display_name": "Python 3.8.7 64-bit ('nlev': pyenv)",
   "metadata": {
    "interpreter": {
     "hash": "6bec863cdf94583bcf57fa53baab9b65525e03224c0a2e0069214c3933bd9a35"
    }
   }
  }
 },
 "nbformat": 4,
 "nbformat_minor": 2,
 "cells": [
  {
   "source": [
    "# 주택단위 분석을 위한 자료 및 코드 set-up\n",
    "- 주택 특성마다 가격이 다르게 형성 >> 이런 연구를 어떻게 하는지에 대한 조사(오피스텔과 아파트의 특성 타입 비교)"
   ],
   "cell_type": "markdown",
   "metadata": {}
  },
  {
   "cell_type": "code",
   "execution_count": 115,
   "metadata": {},
   "outputs": [],
   "source": [
    "import pandas as pd\n",
    "import numpy as np\n",
    "import json\n",
    "\n",
    "\n",
    "%matplotlib inline\n",
    "import matplotlib\n",
    "import matplotlib as mpl\n",
    "import matplotlib.pyplot as plt\n",
    "mpl.rc('axes', labelsize=12)\n",
    "mpl.rc('xtick', labelsize=8)\n",
    "mpl.rc('ytick', labelsize=8)\n",
    "\n",
    "\n",
    "matplotlib.rc('font', family='AppleGothic')  # MacOS\n",
    "plt.rcParams['axes.unicode_minus'] = False\n",
    "\n",
    "\n",
    "# pandas max row \n",
    "pd.options.display.max_rows = 1000\n"
   ]
  },
  {
   "source": [
    "## 아파트\n",
    "\n",
    "- 전세\n",
    "- 월세\n",
    "- 매매\n",
    "\n",
    "위 세개를 같이 놓고 비교 해야한다. → 트렌드 양상 비교 \n",
    "\n",
    "`공식` = 전세금 * 시중금리(그해의) = 월세 (반대도 가능)\n",
    "\n",
    "\n"
   ],
   "cell_type": "markdown",
   "metadata": {}
  },
  {
   "cell_type": "code",
   "execution_count": 116,
   "metadata": {},
   "outputs": [],
   "source": [
    "apt_trd = pd.read_csv('data/3.세종시_아파트(매매)_실거래가.csv')\n",
    "apt_mth_yr = pd.read_csv('data/7.세종시_아파트(전월세)_실거래가.csv')"
   ]
  },
  {
   "cell_type": "code",
   "execution_count": 117,
   "metadata": {},
   "outputs": [
    {
     "output_type": "stream",
     "name": "stdout",
     "text": [
      "<class 'pandas.core.frame.DataFrame'>\nRangeIndex: 18409 entries, 0 to 18408\nData columns (total 11 columns):\n #   Column    Non-Null Count  Dtype  \n---  ------    --------------  -----  \n 0   계약년월      18409 non-null  int64  \n 1   계약일       18409 non-null  int64  \n 2   시군구       18409 non-null  object \n 3   본번        18409 non-null  object \n 4   부번        18409 non-null  int64  \n 5   단지명       18409 non-null  object \n 6   전용면적(㎡)   18409 non-null  float64\n 7   거래금액(만원)  18409 non-null  object \n 8   층         18409 non-null  int64  \n 9   건축년도      18409 non-null  int64  \n 10  해제사유발생일   490 non-null    float64\ndtypes: float64(2), int64(5), object(4)\nmemory usage: 1.5+ MB\n"
     ]
    }
   ],
   "source": [
    "apt_trd.info()"
   ]
  },
  {
   "cell_type": "code",
   "execution_count": 118,
   "metadata": {},
   "outputs": [
    {
     "output_type": "execute_result",
     "data": {
      "text/plain": [
       "     계약년월  계약일          시군구    본번  부번               단지명  전용면적(㎡) 거래금액(만원)   층  \\\n",
       "0  201701   19  세종특별자치시 고운동  1401   0  가락마을13단지(대광로제비앙)  59.6550   23,000  11   \n",
       "1  201701    2  세종특별자치시 고운동  1393   0   가락마을15단지(중흥파크뷰)  84.9894   32,000   3   \n",
       "2  201701   14  세종특별자치시 고운동  1395   0    가락마을16단지(에듀그린)  84.8788   32,500  21   \n",
       "\n",
       "   건축년도  해제사유발생일  \n",
       "0  2015      NaN  \n",
       "1  2015      NaN  \n",
       "2  2015      NaN  "
      ],
      "text/html": "<div>\n<style scoped>\n    .dataframe tbody tr th:only-of-type {\n        vertical-align: middle;\n    }\n\n    .dataframe tbody tr th {\n        vertical-align: top;\n    }\n\n    .dataframe thead th {\n        text-align: right;\n    }\n</style>\n<table border=\"1\" class=\"dataframe\">\n  <thead>\n    <tr style=\"text-align: right;\">\n      <th></th>\n      <th>계약년월</th>\n      <th>계약일</th>\n      <th>시군구</th>\n      <th>본번</th>\n      <th>부번</th>\n      <th>단지명</th>\n      <th>전용면적(㎡)</th>\n      <th>거래금액(만원)</th>\n      <th>층</th>\n      <th>건축년도</th>\n      <th>해제사유발생일</th>\n    </tr>\n  </thead>\n  <tbody>\n    <tr>\n      <th>0</th>\n      <td>201701</td>\n      <td>19</td>\n      <td>세종특별자치시 고운동</td>\n      <td>1401</td>\n      <td>0</td>\n      <td>가락마을13단지(대광로제비앙)</td>\n      <td>59.6550</td>\n      <td>23,000</td>\n      <td>11</td>\n      <td>2015</td>\n      <td>NaN</td>\n    </tr>\n    <tr>\n      <th>1</th>\n      <td>201701</td>\n      <td>2</td>\n      <td>세종특별자치시 고운동</td>\n      <td>1393</td>\n      <td>0</td>\n      <td>가락마을15단지(중흥파크뷰)</td>\n      <td>84.9894</td>\n      <td>32,000</td>\n      <td>3</td>\n      <td>2015</td>\n      <td>NaN</td>\n    </tr>\n    <tr>\n      <th>2</th>\n      <td>201701</td>\n      <td>14</td>\n      <td>세종특별자치시 고운동</td>\n      <td>1395</td>\n      <td>0</td>\n      <td>가락마을16단지(에듀그린)</td>\n      <td>84.8788</td>\n      <td>32,500</td>\n      <td>21</td>\n      <td>2015</td>\n      <td>NaN</td>\n    </tr>\n  </tbody>\n</table>\n</div>"
     },
     "metadata": {},
     "execution_count": 118
    }
   ],
   "source": [
    "apt_trd.head(3)"
   ]
  },
  {
   "cell_type": "code",
   "execution_count": 119,
   "metadata": {},
   "outputs": [
    {
     "output_type": "execute_result",
     "data": {
      "text/plain": [
       "     계약년월  계약일          시군구    본번  부번                  단지명 전월세구분  전용면적(㎡)  \\\n",
       "0  201701   13  세종특별자치시 고운동  1396   0  가락마을 20단지(호반베르디움5차)    전세  84.9895   \n",
       "1  201701   14  세종특별자치시 고운동  1396   0  가락마을 20단지(호반베르디움5차)    전세  84.9895   \n",
       "2  201701   14  세종특별자치시 고운동  1396   0  가락마을 20단지(호반베르디움5차)    전세  59.8338   \n",
       "\n",
       "  보증금(만원)  월세(만원)   층  건축년도  \n",
       "0  10,000       0  13  2015  \n",
       "1  18,000       0  19  2015  \n",
       "2  17,000       0  10  2015  "
      ],
      "text/html": "<div>\n<style scoped>\n    .dataframe tbody tr th:only-of-type {\n        vertical-align: middle;\n    }\n\n    .dataframe tbody tr th {\n        vertical-align: top;\n    }\n\n    .dataframe thead th {\n        text-align: right;\n    }\n</style>\n<table border=\"1\" class=\"dataframe\">\n  <thead>\n    <tr style=\"text-align: right;\">\n      <th></th>\n      <th>계약년월</th>\n      <th>계약일</th>\n      <th>시군구</th>\n      <th>본번</th>\n      <th>부번</th>\n      <th>단지명</th>\n      <th>전월세구분</th>\n      <th>전용면적(㎡)</th>\n      <th>보증금(만원)</th>\n      <th>월세(만원)</th>\n      <th>층</th>\n      <th>건축년도</th>\n    </tr>\n  </thead>\n  <tbody>\n    <tr>\n      <th>0</th>\n      <td>201701</td>\n      <td>13</td>\n      <td>세종특별자치시 고운동</td>\n      <td>1396</td>\n      <td>0</td>\n      <td>가락마을 20단지(호반베르디움5차)</td>\n      <td>전세</td>\n      <td>84.9895</td>\n      <td>10,000</td>\n      <td>0</td>\n      <td>13</td>\n      <td>2015</td>\n    </tr>\n    <tr>\n      <th>1</th>\n      <td>201701</td>\n      <td>14</td>\n      <td>세종특별자치시 고운동</td>\n      <td>1396</td>\n      <td>0</td>\n      <td>가락마을 20단지(호반베르디움5차)</td>\n      <td>전세</td>\n      <td>84.9895</td>\n      <td>18,000</td>\n      <td>0</td>\n      <td>19</td>\n      <td>2015</td>\n    </tr>\n    <tr>\n      <th>2</th>\n      <td>201701</td>\n      <td>14</td>\n      <td>세종특별자치시 고운동</td>\n      <td>1396</td>\n      <td>0</td>\n      <td>가락마을 20단지(호반베르디움5차)</td>\n      <td>전세</td>\n      <td>59.8338</td>\n      <td>17,000</td>\n      <td>0</td>\n      <td>10</td>\n      <td>2015</td>\n    </tr>\n  </tbody>\n</table>\n</div>"
     },
     "metadata": {},
     "execution_count": 119
    }
   ],
   "source": [
    "apt_mth_yr.head(3)"
   ]
  },
  {
   "cell_type": "code",
   "execution_count": 120,
   "metadata": {},
   "outputs": [],
   "source": [
    "# 전세와 월세 분할\n",
    "apt_yr = apt_mth_yr[apt_mth_yr['전월세구분']=='전세'].drop(['전월세구분', '월세(만원)'], axis=1)\n",
    "apt_mth = apt_mth_yr[apt_mth_yr['전월세구분']=='월세'].drop('전월세구분', axis=1)"
   ]
  },
  {
   "cell_type": "code",
   "execution_count": 121,
   "metadata": {},
   "outputs": [
    {
     "output_type": "stream",
     "name": "stdout",
     "text": [
      "<class 'pandas.core.frame.DataFrame'>\nInt64Index: 26935 entries, 0 to 38893\nData columns (total 10 columns):\n #   Column   Non-Null Count  Dtype  \n---  ------   --------------  -----  \n 0   계약년월     26935 non-null  int64  \n 1   계약일      26935 non-null  int64  \n 2   시군구      26935 non-null  object \n 3   본번       26935 non-null  object \n 4   부번       26935 non-null  int64  \n 5   단지명      26935 non-null  object \n 6   전용면적(㎡)  26935 non-null  float64\n 7   보증금(만원)  26935 non-null  object \n 8   층        26935 non-null  int64  \n 9   건축년도     26935 non-null  int64  \ndtypes: float64(1), int64(5), object(4)\nmemory usage: 2.3+ MB\n"
     ]
    }
   ],
   "source": [
    "apt_yr.info()"
   ]
  },
  {
   "cell_type": "code",
   "execution_count": 122,
   "metadata": {},
   "outputs": [
    {
     "output_type": "stream",
     "name": "stdout",
     "text": [
      "<class 'pandas.core.frame.DataFrame'>\nInt64Index: 11960 entries, 4 to 38894\nData columns (total 11 columns):\n #   Column   Non-Null Count  Dtype  \n---  ------   --------------  -----  \n 0   계약년월     11960 non-null  int64  \n 1   계약일      11960 non-null  int64  \n 2   시군구      11960 non-null  object \n 3   본번       11960 non-null  object \n 4   부번       11960 non-null  int64  \n 5   단지명      11960 non-null  object \n 6   전용면적(㎡)  11960 non-null  float64\n 7   보증금(만원)  11960 non-null  object \n 8   월세(만원)   11960 non-null  int64  \n 9   층        11960 non-null  int64  \n 10  건축년도     11960 non-null  int64  \ndtypes: float64(1), int64(6), object(4)\nmemory usage: 1.1+ MB\n"
     ]
    }
   ],
   "source": [
    "apt_mth.info()"
   ]
  },
  {
   "cell_type": "code",
   "execution_count": 123,
   "metadata": {},
   "outputs": [
    {
     "output_type": "execute_result",
     "data": {
      "text/plain": [
       "조치원읍    3583\n",
       "종촌동     2790\n",
       "아름동     2329\n",
       "고운동     1984\n",
       "한솔동     1919\n",
       "도담동     1589\n",
       "새롬동      634\n",
       "다정동      592\n",
       "소담동      577\n",
       "금남면      432\n",
       "어진동      422\n",
       "보람동      380\n",
       "나성동      290\n",
       "연동면      178\n",
       "대평동      167\n",
       "연서면      129\n",
       "전의면      104\n",
       "반곡동      103\n",
       "부강면       93\n",
       "장군면       71\n",
       "소정면       21\n",
       "전동면       21\n",
       "가람동        1\n",
       "Name: 시군구, dtype: int64"
      ]
     },
     "metadata": {},
     "execution_count": 123
    }
   ],
   "source": [
    "apt_trd['시군구'].str.split(' ').str[1].value_counts()"
   ]
  },
  {
   "cell_type": "code",
   "execution_count": 124,
   "metadata": {},
   "outputs": [],
   "source": [
    "def processData(df, price_column):\n",
    "    # 법정동 구분\n",
    "    df['법정동'] = df['시군구'].str.split(' ').str[1]\n",
    "\n",
    "    # 숫자형 변환 \n",
    "    df[price_column] = df[price_column].str.replace(',','').astype('int64')\n",
    "\n",
    "\n",
    "    # 문자열 변환\n",
    "    df['계약년월'] = df['계약년월'].astype(str)\n",
    "    df['계약일'] = df['계약일'].astype(str)\n",
    "\n",
    "\n",
    "    # datetime 변환\n",
    "    df['계약년월일'] = pd.to_datetime(df['계약년월'] + df['계약일'], format='%Y%m%d')\n",
    "    df = df.drop(columns=['계약일'])\n",
    "# df['건축년도'] = df['건축년도'].dt.to_period('Y')\n",
    "    return df\n",
    "\n"
   ]
  },
  {
   "cell_type": "code",
   "execution_count": 125,
   "metadata": {},
   "outputs": [],
   "source": [
    "apt_trd = processData(apt_trd, '거래금액(만원)')\n",
    "apt_yr = processData(apt_yr, '보증금(만원)')\n",
    "apt_mth= processData(apt_mth, '보증금(만원)')\n",
    "\n"
   ]
  },
  {
   "source": [
    "## 아파트 매매"
   ],
   "cell_type": "markdown",
   "metadata": {}
  },
  {
   "cell_type": "code",
   "execution_count": 126,
   "metadata": {},
   "outputs": [
    {
     "output_type": "execute_result",
     "data": {
      "text/plain": [
       "     계약년월          시군구    본번  부번               단지명  전용면적(㎡)  거래금액(만원)   층  \\\n",
       "0  201701  세종특별자치시 고운동  1401   0  가락마을13단지(대광로제비앙)  59.6550     23000  11   \n",
       "1  201701  세종특별자치시 고운동  1393   0   가락마을15단지(중흥파크뷰)  84.9894     32000   3   \n",
       "2  201701  세종특별자치시 고운동  1395   0    가락마을16단지(에듀그린)  84.8788     32500  21   \n",
       "3  201701  세종특별자치시 고운동  1386   0   가락마을17단지(골드클래스)  59.9159     25100   7   \n",
       "4  201701  세종특별자치시 고운동  1390   0    가락마을21단지(에듀포레)  99.9434     32250   3   \n",
       "\n",
       "   건축년도  해제사유발생일  법정동      계약년월일  \n",
       "0  2015      NaN  고운동 2017-01-19  \n",
       "1  2015      NaN  고운동 2017-01-02  \n",
       "2  2015      NaN  고운동 2017-01-14  \n",
       "3  2015      NaN  고운동 2017-01-09  \n",
       "4  2015      NaN  고운동 2017-01-09  "
      ],
      "text/html": "<div>\n<style scoped>\n    .dataframe tbody tr th:only-of-type {\n        vertical-align: middle;\n    }\n\n    .dataframe tbody tr th {\n        vertical-align: top;\n    }\n\n    .dataframe thead th {\n        text-align: right;\n    }\n</style>\n<table border=\"1\" class=\"dataframe\">\n  <thead>\n    <tr style=\"text-align: right;\">\n      <th></th>\n      <th>계약년월</th>\n      <th>시군구</th>\n      <th>본번</th>\n      <th>부번</th>\n      <th>단지명</th>\n      <th>전용면적(㎡)</th>\n      <th>거래금액(만원)</th>\n      <th>층</th>\n      <th>건축년도</th>\n      <th>해제사유발생일</th>\n      <th>법정동</th>\n      <th>계약년월일</th>\n    </tr>\n  </thead>\n  <tbody>\n    <tr>\n      <th>0</th>\n      <td>201701</td>\n      <td>세종특별자치시 고운동</td>\n      <td>1401</td>\n      <td>0</td>\n      <td>가락마을13단지(대광로제비앙)</td>\n      <td>59.6550</td>\n      <td>23000</td>\n      <td>11</td>\n      <td>2015</td>\n      <td>NaN</td>\n      <td>고운동</td>\n      <td>2017-01-19</td>\n    </tr>\n    <tr>\n      <th>1</th>\n      <td>201701</td>\n      <td>세종특별자치시 고운동</td>\n      <td>1393</td>\n      <td>0</td>\n      <td>가락마을15단지(중흥파크뷰)</td>\n      <td>84.9894</td>\n      <td>32000</td>\n      <td>3</td>\n      <td>2015</td>\n      <td>NaN</td>\n      <td>고운동</td>\n      <td>2017-01-02</td>\n    </tr>\n    <tr>\n      <th>2</th>\n      <td>201701</td>\n      <td>세종특별자치시 고운동</td>\n      <td>1395</td>\n      <td>0</td>\n      <td>가락마을16단지(에듀그린)</td>\n      <td>84.8788</td>\n      <td>32500</td>\n      <td>21</td>\n      <td>2015</td>\n      <td>NaN</td>\n      <td>고운동</td>\n      <td>2017-01-14</td>\n    </tr>\n    <tr>\n      <th>3</th>\n      <td>201701</td>\n      <td>세종특별자치시 고운동</td>\n      <td>1386</td>\n      <td>0</td>\n      <td>가락마을17단지(골드클래스)</td>\n      <td>59.9159</td>\n      <td>25100</td>\n      <td>7</td>\n      <td>2015</td>\n      <td>NaN</td>\n      <td>고운동</td>\n      <td>2017-01-09</td>\n    </tr>\n    <tr>\n      <th>4</th>\n      <td>201701</td>\n      <td>세종특별자치시 고운동</td>\n      <td>1390</td>\n      <td>0</td>\n      <td>가락마을21단지(에듀포레)</td>\n      <td>99.9434</td>\n      <td>32250</td>\n      <td>3</td>\n      <td>2015</td>\n      <td>NaN</td>\n      <td>고운동</td>\n      <td>2017-01-09</td>\n    </tr>\n  </tbody>\n</table>\n</div>"
     },
     "metadata": {},
     "execution_count": 126
    }
   ],
   "source": [
    "apt_trd.head()"
   ]
  },
  {
   "source": [
    "## 아파트 전세"
   ],
   "cell_type": "markdown",
   "metadata": {}
  },
  {
   "cell_type": "code",
   "execution_count": 127,
   "metadata": {},
   "outputs": [
    {
     "output_type": "execute_result",
     "data": {
      "text/plain": [
       "     계약년월          시군구    본번  부번                  단지명  전용면적(㎡)  보증금(만원)   층  \\\n",
       "0  201701  세종특별자치시 고운동  1396   0  가락마을 20단지(호반베르디움5차)  84.9895    10000  13   \n",
       "1  201701  세종특별자치시 고운동  1396   0  가락마을 20단지(호반베르디움5차)  84.9895    18000  19   \n",
       "2  201701  세종특별자치시 고운동  1396   0  가락마을 20단지(호반베르디움5차)  59.8338    17000  10   \n",
       "\n",
       "   건축년도  법정동      계약년월일  \n",
       "0  2015  고운동 2017-01-13  \n",
       "1  2015  고운동 2017-01-14  \n",
       "2  2015  고운동 2017-01-14  "
      ],
      "text/html": "<div>\n<style scoped>\n    .dataframe tbody tr th:only-of-type {\n        vertical-align: middle;\n    }\n\n    .dataframe tbody tr th {\n        vertical-align: top;\n    }\n\n    .dataframe thead th {\n        text-align: right;\n    }\n</style>\n<table border=\"1\" class=\"dataframe\">\n  <thead>\n    <tr style=\"text-align: right;\">\n      <th></th>\n      <th>계약년월</th>\n      <th>시군구</th>\n      <th>본번</th>\n      <th>부번</th>\n      <th>단지명</th>\n      <th>전용면적(㎡)</th>\n      <th>보증금(만원)</th>\n      <th>층</th>\n      <th>건축년도</th>\n      <th>법정동</th>\n      <th>계약년월일</th>\n    </tr>\n  </thead>\n  <tbody>\n    <tr>\n      <th>0</th>\n      <td>201701</td>\n      <td>세종특별자치시 고운동</td>\n      <td>1396</td>\n      <td>0</td>\n      <td>가락마을 20단지(호반베르디움5차)</td>\n      <td>84.9895</td>\n      <td>10000</td>\n      <td>13</td>\n      <td>2015</td>\n      <td>고운동</td>\n      <td>2017-01-13</td>\n    </tr>\n    <tr>\n      <th>1</th>\n      <td>201701</td>\n      <td>세종특별자치시 고운동</td>\n      <td>1396</td>\n      <td>0</td>\n      <td>가락마을 20단지(호반베르디움5차)</td>\n      <td>84.9895</td>\n      <td>18000</td>\n      <td>19</td>\n      <td>2015</td>\n      <td>고운동</td>\n      <td>2017-01-14</td>\n    </tr>\n    <tr>\n      <th>2</th>\n      <td>201701</td>\n      <td>세종특별자치시 고운동</td>\n      <td>1396</td>\n      <td>0</td>\n      <td>가락마을 20단지(호반베르디움5차)</td>\n      <td>59.8338</td>\n      <td>17000</td>\n      <td>10</td>\n      <td>2015</td>\n      <td>고운동</td>\n      <td>2017-01-14</td>\n    </tr>\n  </tbody>\n</table>\n</div>"
     },
     "metadata": {},
     "execution_count": 127
    }
   ],
   "source": [
    "apt_yr.head(3)"
   ]
  },
  {
   "source": [
    "## 아파트 월세"
   ],
   "cell_type": "markdown",
   "metadata": {}
  },
  {
   "cell_type": "code",
   "execution_count": 128,
   "metadata": {},
   "outputs": [
    {
     "output_type": "execute_result",
     "data": {
      "text/plain": [
       "      계약년월          시군구    본번  부번                  단지명  전용면적(㎡)  보증금(만원)  \\\n",
       "4   201702  세종특별자치시 고운동  1396   0  가락마을 20단지(호반베르디움5차)  84.9895    10000   \n",
       "12  201702  세종특별자치시 고운동  1396   0  가락마을 20단지(호반베르디움5차)  59.8338     4000   \n",
       "32  201706  세종특별자치시 고운동  1396   0  가락마을 20단지(호반베르디움5차)  59.8338     1000   \n",
       "\n",
       "    월세(만원)   층  건축년도  법정동      계약년월일  \n",
       "4       30  13  2015  고운동 2017-02-04  \n",
       "12      38   7  2015  고운동 2017-02-28  \n",
       "32      46  17  2015  고운동 2017-06-19  "
      ],
      "text/html": "<div>\n<style scoped>\n    .dataframe tbody tr th:only-of-type {\n        vertical-align: middle;\n    }\n\n    .dataframe tbody tr th {\n        vertical-align: top;\n    }\n\n    .dataframe thead th {\n        text-align: right;\n    }\n</style>\n<table border=\"1\" class=\"dataframe\">\n  <thead>\n    <tr style=\"text-align: right;\">\n      <th></th>\n      <th>계약년월</th>\n      <th>시군구</th>\n      <th>본번</th>\n      <th>부번</th>\n      <th>단지명</th>\n      <th>전용면적(㎡)</th>\n      <th>보증금(만원)</th>\n      <th>월세(만원)</th>\n      <th>층</th>\n      <th>건축년도</th>\n      <th>법정동</th>\n      <th>계약년월일</th>\n    </tr>\n  </thead>\n  <tbody>\n    <tr>\n      <th>4</th>\n      <td>201702</td>\n      <td>세종특별자치시 고운동</td>\n      <td>1396</td>\n      <td>0</td>\n      <td>가락마을 20단지(호반베르디움5차)</td>\n      <td>84.9895</td>\n      <td>10000</td>\n      <td>30</td>\n      <td>13</td>\n      <td>2015</td>\n      <td>고운동</td>\n      <td>2017-02-04</td>\n    </tr>\n    <tr>\n      <th>12</th>\n      <td>201702</td>\n      <td>세종특별자치시 고운동</td>\n      <td>1396</td>\n      <td>0</td>\n      <td>가락마을 20단지(호반베르디움5차)</td>\n      <td>59.8338</td>\n      <td>4000</td>\n      <td>38</td>\n      <td>7</td>\n      <td>2015</td>\n      <td>고운동</td>\n      <td>2017-02-28</td>\n    </tr>\n    <tr>\n      <th>32</th>\n      <td>201706</td>\n      <td>세종특별자치시 고운동</td>\n      <td>1396</td>\n      <td>0</td>\n      <td>가락마을 20단지(호반베르디움5차)</td>\n      <td>59.8338</td>\n      <td>1000</td>\n      <td>46</td>\n      <td>17</td>\n      <td>2015</td>\n      <td>고운동</td>\n      <td>2017-06-19</td>\n    </tr>\n  </tbody>\n</table>\n</div>"
     },
     "metadata": {},
     "execution_count": 128
    }
   ],
   "source": [
    "apt_mth.head(3)"
   ]
  },
  {
   "source": [
    "## Merge 매매, 전세, 월세 "
   ],
   "cell_type": "markdown",
   "metadata": {}
  },
  {
   "cell_type": "code",
   "execution_count": 129,
   "metadata": {},
   "outputs": [],
   "source": [
    "apt_trd = apt_trd.rename(columns={'거래금액(만원)':'거래금액'})\n",
    "apt_trd['유형'] = '매매'"
   ]
  },
  {
   "cell_type": "code",
   "execution_count": 130,
   "metadata": {},
   "outputs": [],
   "source": [
    "# 전세\n",
    "apt_yr = apt_yr.rename(columns={'보증금(만원)':'거래금액'})\n",
    "apt_yr['유형'] = '전세'\n",
    "\n",
    "# 월세\n",
    "apt_mth['유형'] = '월세'"
   ]
  },
  {
   "cell_type": "code",
   "execution_count": 131,
   "metadata": {},
   "outputs": [
    {
     "output_type": "execute_result",
     "data": {
      "text/plain": [
       "      계약년월          시군구    본번  부번                  단지명  전용면적(㎡)  보증금(만원)  \\\n",
       "4   201702  세종특별자치시 고운동  1396   0  가락마을 20단지(호반베르디움5차)  84.9895    10000   \n",
       "12  201702  세종특별자치시 고운동  1396   0  가락마을 20단지(호반베르디움5차)  59.8338     4000   \n",
       "32  201706  세종특별자치시 고운동  1396   0  가락마을 20단지(호반베르디움5차)  59.8338     1000   \n",
       "\n",
       "    월세(만원)   층  건축년도  법정동      계약년월일  유형  \n",
       "4       30  13  2015  고운동 2017-02-04  월세  \n",
       "12      38   7  2015  고운동 2017-02-28  월세  \n",
       "32      46  17  2015  고운동 2017-06-19  월세  "
      ],
      "text/html": "<div>\n<style scoped>\n    .dataframe tbody tr th:only-of-type {\n        vertical-align: middle;\n    }\n\n    .dataframe tbody tr th {\n        vertical-align: top;\n    }\n\n    .dataframe thead th {\n        text-align: right;\n    }\n</style>\n<table border=\"1\" class=\"dataframe\">\n  <thead>\n    <tr style=\"text-align: right;\">\n      <th></th>\n      <th>계약년월</th>\n      <th>시군구</th>\n      <th>본번</th>\n      <th>부번</th>\n      <th>단지명</th>\n      <th>전용면적(㎡)</th>\n      <th>보증금(만원)</th>\n      <th>월세(만원)</th>\n      <th>층</th>\n      <th>건축년도</th>\n      <th>법정동</th>\n      <th>계약년월일</th>\n      <th>유형</th>\n    </tr>\n  </thead>\n  <tbody>\n    <tr>\n      <th>4</th>\n      <td>201702</td>\n      <td>세종특별자치시 고운동</td>\n      <td>1396</td>\n      <td>0</td>\n      <td>가락마을 20단지(호반베르디움5차)</td>\n      <td>84.9895</td>\n      <td>10000</td>\n      <td>30</td>\n      <td>13</td>\n      <td>2015</td>\n      <td>고운동</td>\n      <td>2017-02-04</td>\n      <td>월세</td>\n    </tr>\n    <tr>\n      <th>12</th>\n      <td>201702</td>\n      <td>세종특별자치시 고운동</td>\n      <td>1396</td>\n      <td>0</td>\n      <td>가락마을 20단지(호반베르디움5차)</td>\n      <td>59.8338</td>\n      <td>4000</td>\n      <td>38</td>\n      <td>7</td>\n      <td>2015</td>\n      <td>고운동</td>\n      <td>2017-02-28</td>\n      <td>월세</td>\n    </tr>\n    <tr>\n      <th>32</th>\n      <td>201706</td>\n      <td>세종특별자치시 고운동</td>\n      <td>1396</td>\n      <td>0</td>\n      <td>가락마을 20단지(호반베르디움5차)</td>\n      <td>59.8338</td>\n      <td>1000</td>\n      <td>46</td>\n      <td>17</td>\n      <td>2015</td>\n      <td>고운동</td>\n      <td>2017-06-19</td>\n      <td>월세</td>\n    </tr>\n  </tbody>\n</table>\n</div>"
     },
     "metadata": {},
     "execution_count": 131
    }
   ],
   "source": [
    "apt_mth.head(3)"
   ]
  },
  {
   "source": [
    "### 월세 -> 전세\n",
    "- 전월세전환률: 4.4\t"
   ],
   "cell_type": "markdown",
   "metadata": {}
  },
  {
   "cell_type": "code",
   "execution_count": 132,
   "metadata": {},
   "outputs": [],
   "source": [
    "apt_mth['거래금액'] = apt_mth['월세(만원)']*12 / 0.044 + apt_mth['보증금(만원)']\n",
    "apt_mth = apt_mth.drop(columns=['보증금(만원)',\t'월세(만원)'])"
   ]
  },
  {
   "cell_type": "code",
   "execution_count": 133,
   "metadata": {},
   "outputs": [],
   "source": [
    "apt_yr_mth =  apt_yr.append(apt_mth)\n",
    "apt = apt_trd.append(apt_yr_mth)"
   ]
  },
  {
   "cell_type": "code",
   "execution_count": 138,
   "metadata": {},
   "outputs": [
    {
     "output_type": "execute_result",
     "data": {
      "text/plain": [
       "         계약년월          시군구    본번  부번               단지명   전용면적(㎡)  \\\n",
       "0      201701  세종특별자치시 고운동  1401   0  가락마을13단지(대광로제비앙)   59.6550   \n",
       "1      201701  세종특별자치시 고운동  1393   0   가락마을15단지(중흥파크뷰)   84.9894   \n",
       "2      201701  세종특별자치시 고운동  1395   0    가락마을16단지(에듀그린)   84.8788   \n",
       "3      201701  세종특별자치시 고운동  1386   0   가락마을17단지(골드클래스)   59.9159   \n",
       "4      201701  세종특별자치시 고운동  1390   0    가락마을21단지(에듀포레)   99.9434   \n",
       "...       ...          ...   ...  ..               ...       ...   \n",
       "38880  202010  세종특별자치시 해밀동  6402   1          해밀마을 2단지   84.9500   \n",
       "38884  202010  세종특별자치시 해밀동  6402   1          해밀마을 2단지   84.9500   \n",
       "38890  202011  세종특별자치시 해밀동  6402   1          해밀마을 2단지  102.8300   \n",
       "38891  202012  세종특별자치시 해밀동  6402   1          해밀마을 2단지  102.5300   \n",
       "38894  202012  세종특별자치시 해밀동  6402   1          해밀마을 2단지   84.9500   \n",
       "\n",
       "               거래금액   층  건축년도  해제사유발생일  법정동      계약년월일  유형  \n",
       "0      23000.000000  11  2015      NaN  고운동 2017-01-19  매매  \n",
       "1      32000.000000   3  2015      NaN  고운동 2017-01-02  매매  \n",
       "2      32500.000000  21  2015      NaN  고운동 2017-01-14  매매  \n",
       "3      25100.000000   7  2015      NaN  고운동 2017-01-09  매매  \n",
       "4      32250.000000   3  2015      NaN  고운동 2017-01-09  매매  \n",
       "...             ...  ..   ...      ...  ...        ...  ..  \n",
       "38880  27090.909091   2  2020      NaN  해밀동 2020-10-13  월세  \n",
       "38884  24818.181818  10  2020      NaN  해밀동 2020-10-28  월세  \n",
       "38890  37272.727273   5  2020      NaN  해밀동 2020-11-21  월세  \n",
       "38891  35909.090909  14  2020      NaN  해밀동 2020-12-08  월세  \n",
       "38894  31181.818182  16  2020      NaN  해밀동 2020-12-13  월세  \n",
       "\n",
       "[57304 rows x 13 columns]"
      ],
      "text/html": "<div>\n<style scoped>\n    .dataframe tbody tr th:only-of-type {\n        vertical-align: middle;\n    }\n\n    .dataframe tbody tr th {\n        vertical-align: top;\n    }\n\n    .dataframe thead th {\n        text-align: right;\n    }\n</style>\n<table border=\"1\" class=\"dataframe\">\n  <thead>\n    <tr style=\"text-align: right;\">\n      <th></th>\n      <th>계약년월</th>\n      <th>시군구</th>\n      <th>본번</th>\n      <th>부번</th>\n      <th>단지명</th>\n      <th>전용면적(㎡)</th>\n      <th>거래금액</th>\n      <th>층</th>\n      <th>건축년도</th>\n      <th>해제사유발생일</th>\n      <th>법정동</th>\n      <th>계약년월일</th>\n      <th>유형</th>\n    </tr>\n  </thead>\n  <tbody>\n    <tr>\n      <th>0</th>\n      <td>201701</td>\n      <td>세종특별자치시 고운동</td>\n      <td>1401</td>\n      <td>0</td>\n      <td>가락마을13단지(대광로제비앙)</td>\n      <td>59.6550</td>\n      <td>23000.000000</td>\n      <td>11</td>\n      <td>2015</td>\n      <td>NaN</td>\n      <td>고운동</td>\n      <td>2017-01-19</td>\n      <td>매매</td>\n    </tr>\n    <tr>\n      <th>1</th>\n      <td>201701</td>\n      <td>세종특별자치시 고운동</td>\n      <td>1393</td>\n      <td>0</td>\n      <td>가락마을15단지(중흥파크뷰)</td>\n      <td>84.9894</td>\n      <td>32000.000000</td>\n      <td>3</td>\n      <td>2015</td>\n      <td>NaN</td>\n      <td>고운동</td>\n      <td>2017-01-02</td>\n      <td>매매</td>\n    </tr>\n    <tr>\n      <th>2</th>\n      <td>201701</td>\n      <td>세종특별자치시 고운동</td>\n      <td>1395</td>\n      <td>0</td>\n      <td>가락마을16단지(에듀그린)</td>\n      <td>84.8788</td>\n      <td>32500.000000</td>\n      <td>21</td>\n      <td>2015</td>\n      <td>NaN</td>\n      <td>고운동</td>\n      <td>2017-01-14</td>\n      <td>매매</td>\n    </tr>\n    <tr>\n      <th>3</th>\n      <td>201701</td>\n      <td>세종특별자치시 고운동</td>\n      <td>1386</td>\n      <td>0</td>\n      <td>가락마을17단지(골드클래스)</td>\n      <td>59.9159</td>\n      <td>25100.000000</td>\n      <td>7</td>\n      <td>2015</td>\n      <td>NaN</td>\n      <td>고운동</td>\n      <td>2017-01-09</td>\n      <td>매매</td>\n    </tr>\n    <tr>\n      <th>4</th>\n      <td>201701</td>\n      <td>세종특별자치시 고운동</td>\n      <td>1390</td>\n      <td>0</td>\n      <td>가락마을21단지(에듀포레)</td>\n      <td>99.9434</td>\n      <td>32250.000000</td>\n      <td>3</td>\n      <td>2015</td>\n      <td>NaN</td>\n      <td>고운동</td>\n      <td>2017-01-09</td>\n      <td>매매</td>\n    </tr>\n    <tr>\n      <th>...</th>\n      <td>...</td>\n      <td>...</td>\n      <td>...</td>\n      <td>...</td>\n      <td>...</td>\n      <td>...</td>\n      <td>...</td>\n      <td>...</td>\n      <td>...</td>\n      <td>...</td>\n      <td>...</td>\n      <td>...</td>\n      <td>...</td>\n    </tr>\n    <tr>\n      <th>38880</th>\n      <td>202010</td>\n      <td>세종특별자치시 해밀동</td>\n      <td>6402</td>\n      <td>1</td>\n      <td>해밀마을 2단지</td>\n      <td>84.9500</td>\n      <td>27090.909091</td>\n      <td>2</td>\n      <td>2020</td>\n      <td>NaN</td>\n      <td>해밀동</td>\n      <td>2020-10-13</td>\n      <td>월세</td>\n    </tr>\n    <tr>\n      <th>38884</th>\n      <td>202010</td>\n      <td>세종특별자치시 해밀동</td>\n      <td>6402</td>\n      <td>1</td>\n      <td>해밀마을 2단지</td>\n      <td>84.9500</td>\n      <td>24818.181818</td>\n      <td>10</td>\n      <td>2020</td>\n      <td>NaN</td>\n      <td>해밀동</td>\n      <td>2020-10-28</td>\n      <td>월세</td>\n    </tr>\n    <tr>\n      <th>38890</th>\n      <td>202011</td>\n      <td>세종특별자치시 해밀동</td>\n      <td>6402</td>\n      <td>1</td>\n      <td>해밀마을 2단지</td>\n      <td>102.8300</td>\n      <td>37272.727273</td>\n      <td>5</td>\n      <td>2020</td>\n      <td>NaN</td>\n      <td>해밀동</td>\n      <td>2020-11-21</td>\n      <td>월세</td>\n    </tr>\n    <tr>\n      <th>38891</th>\n      <td>202012</td>\n      <td>세종특별자치시 해밀동</td>\n      <td>6402</td>\n      <td>1</td>\n      <td>해밀마을 2단지</td>\n      <td>102.5300</td>\n      <td>35909.090909</td>\n      <td>14</td>\n      <td>2020</td>\n      <td>NaN</td>\n      <td>해밀동</td>\n      <td>2020-12-08</td>\n      <td>월세</td>\n    </tr>\n    <tr>\n      <th>38894</th>\n      <td>202012</td>\n      <td>세종특별자치시 해밀동</td>\n      <td>6402</td>\n      <td>1</td>\n      <td>해밀마을 2단지</td>\n      <td>84.9500</td>\n      <td>31181.818182</td>\n      <td>16</td>\n      <td>2020</td>\n      <td>NaN</td>\n      <td>해밀동</td>\n      <td>2020-12-13</td>\n      <td>월세</td>\n    </tr>\n  </tbody>\n</table>\n<p>57304 rows × 13 columns</p>\n</div>"
     },
     "metadata": {},
     "execution_count": 138
    }
   ],
   "source": [
    "apt"
   ]
  },
  {
   "cell_type": "code",
   "execution_count": 162,
   "metadata": {},
   "outputs": [
    {
     "output_type": "execute_result",
     "data": {
      "text/plain": [
       "0        201701\n",
       "1        201701\n",
       "2        201701\n",
       "3        201701\n",
       "4        201701\n",
       "          ...  \n",
       "38880    202010\n",
       "38884    202010\n",
       "38890    202011\n",
       "38891    202012\n",
       "38894    202012\n",
       "Name: 계약년월, Length: 57304, dtype: object"
      ]
     },
     "metadata": {},
     "execution_count": 162
    }
   ],
   "source": [
    "apt['계약년월']"
   ]
  },
  {
   "cell_type": "code",
   "execution_count": null,
   "metadata": {},
   "outputs": [],
   "source": []
  }
 ]
}