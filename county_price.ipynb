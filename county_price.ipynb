{
 "metadata": {
  "language_info": {
   "codemirror_mode": {
    "name": "ipython",
    "version": 3
   },
   "file_extension": ".py",
   "mimetype": "text/x-python",
   "name": "python",
   "nbconvert_exporter": "python",
   "pygments_lexer": "ipython3",
   "version": "3.8.7-final"
  },
  "orig_nbformat": 2,
  "kernelspec": {
   "name": "python3",
   "display_name": "Python 3.8.7 64-bit ('comp': venv)",
   "metadata": {
    "interpreter": {
     "hash": "6b04cc8c54d913d959de419488fe0cf641f2b2e783dc5bfcf2a478193a6cdb76"
    }
   }
  }
 },
 "nbformat": 4,
 "nbformat_minor": 2,
 "cells": [
  {
   "cell_type": "code",
   "execution_count": 1,
   "metadata": {},
   "outputs": [],
   "source": [
    "import pandas as pd\n",
    "import numpy as np\n",
    "\n",
    "\n",
    "# pandas max row \n",
    "pd.options.display.max_rows = 5000"
   ]
  },
  {
   "cell_type": "code",
   "execution_count": 2,
   "metadata": {},
   "outputs": [],
   "source": [
    "apt_tra = pd.read_csv('data/3.세종시_아파트(매매)_실거래가.csv', parse_dates = ['계약년월','계약일', '건축년도'])\n",
    "mulit_tra = pd.read_csv('data/4.세종시_연립다세대(매매)_실거래가.csv')\n",
    "single_tra = pd.read_csv('data/5.세종시_단독다가구(매매)_실거래가.csv')\n",
    "offi_tra = pd.read_csv('data/6.세종시_오피스텔(매매)_실거래가.csv')\n"
   ]
  },
  {
   "cell_type": "code",
   "execution_count": 3,
   "metadata": {},
   "outputs": [],
   "source": [
    "apt_tra['거래금액(만원)'] = apt_tra['거래금액(만원)'].str.replace(',','').astype('int64')\n",
    "\n",
    "apt_tra['계약년월일'] = pd.to_datetime(apt_tra['계약년월'] + apt_tra['계약일'], format='%Y%m%d')\n",
    "apt_tra = apt_tra.drop(columns=['계약일'])\n",
    "\n",
    "apt_tra['건축년도'] = apt_tra['건축년도'].dt.to_period('Y')\n",
    "\n"
   ]
  },
  {
   "cell_type": "code",
   "execution_count": 4,
   "metadata": {},
   "outputs": [
    {
     "output_type": "execute_result",
     "data": {
      "text/plain": [
       "     계약년월          시군구    본번  부번               단지명  전용면적(㎡)  거래금액(만원)   층  \\\n",
       "0  201701  세종특별자치시 고운동  1401   0  가락마을13단지(대광로제비앙)  59.6550     23000  11   \n",
       "1  201701  세종특별자치시 고운동  1393   0   가락마을15단지(중흥파크뷰)  84.9894     32000   3   \n",
       "2  201701  세종특별자치시 고운동  1395   0    가락마을16단지(에듀그린)  84.8788     32500  21   \n",
       "3  201701  세종특별자치시 고운동  1386   0   가락마을17단지(골드클래스)  59.9159     25100   7   \n",
       "4  201701  세종특별자치시 고운동  1390   0    가락마을21단지(에듀포레)  99.9434     32250   3   \n",
       "\n",
       "   건축년도  해제사유발생일      계약년월일  \n",
       "0  2015      NaN 2017-01-19  \n",
       "1  2015      NaN 2017-01-02  \n",
       "2  2015      NaN 2017-01-14  \n",
       "3  2015      NaN 2017-01-09  \n",
       "4  2015      NaN 2017-01-09  "
      ],
      "text/html": "<div>\n<style scoped>\n    .dataframe tbody tr th:only-of-type {\n        vertical-align: middle;\n    }\n\n    .dataframe tbody tr th {\n        vertical-align: top;\n    }\n\n    .dataframe thead th {\n        text-align: right;\n    }\n</style>\n<table border=\"1\" class=\"dataframe\">\n  <thead>\n    <tr style=\"text-align: right;\">\n      <th></th>\n      <th>계약년월</th>\n      <th>시군구</th>\n      <th>본번</th>\n      <th>부번</th>\n      <th>단지명</th>\n      <th>전용면적(㎡)</th>\n      <th>거래금액(만원)</th>\n      <th>층</th>\n      <th>건축년도</th>\n      <th>해제사유발생일</th>\n      <th>계약년월일</th>\n    </tr>\n  </thead>\n  <tbody>\n    <tr>\n      <th>0</th>\n      <td>201701</td>\n      <td>세종특별자치시 고운동</td>\n      <td>1401</td>\n      <td>0</td>\n      <td>가락마을13단지(대광로제비앙)</td>\n      <td>59.6550</td>\n      <td>23000</td>\n      <td>11</td>\n      <td>2015</td>\n      <td>NaN</td>\n      <td>2017-01-19</td>\n    </tr>\n    <tr>\n      <th>1</th>\n      <td>201701</td>\n      <td>세종특별자치시 고운동</td>\n      <td>1393</td>\n      <td>0</td>\n      <td>가락마을15단지(중흥파크뷰)</td>\n      <td>84.9894</td>\n      <td>32000</td>\n      <td>3</td>\n      <td>2015</td>\n      <td>NaN</td>\n      <td>2017-01-02</td>\n    </tr>\n    <tr>\n      <th>2</th>\n      <td>201701</td>\n      <td>세종특별자치시 고운동</td>\n      <td>1395</td>\n      <td>0</td>\n      <td>가락마을16단지(에듀그린)</td>\n      <td>84.8788</td>\n      <td>32500</td>\n      <td>21</td>\n      <td>2015</td>\n      <td>NaN</td>\n      <td>2017-01-14</td>\n    </tr>\n    <tr>\n      <th>3</th>\n      <td>201701</td>\n      <td>세종특별자치시 고운동</td>\n      <td>1386</td>\n      <td>0</td>\n      <td>가락마을17단지(골드클래스)</td>\n      <td>59.9159</td>\n      <td>25100</td>\n      <td>7</td>\n      <td>2015</td>\n      <td>NaN</td>\n      <td>2017-01-09</td>\n    </tr>\n    <tr>\n      <th>4</th>\n      <td>201701</td>\n      <td>세종특별자치시 고운동</td>\n      <td>1390</td>\n      <td>0</td>\n      <td>가락마을21단지(에듀포레)</td>\n      <td>99.9434</td>\n      <td>32250</td>\n      <td>3</td>\n      <td>2015</td>\n      <td>NaN</td>\n      <td>2017-01-09</td>\n    </tr>\n  </tbody>\n</table>\n</div>"
     },
     "metadata": {},
     "execution_count": 4
    }
   ],
   "source": [
    "apt_tra.head()"
   ]
  },
  {
   "cell_type": "code",
   "execution_count": 6,
   "metadata": {},
   "outputs": [
    {
     "output_type": "execute_result",
     "data": {
      "text/plain": [
       "array(['세종특별자치시 고운동', '세종특별자치시 금남면 용포리', '세종특별자치시 나성동', '세종특별자치시 도담동',\n",
       "       '세종특별자치시 보람동', '세종특별자치시 부강면 부강리', '세종특별자치시 소담동', '세종특별자치시 아름동',\n",
       "       '세종특별자치시 어진동', '세종특별자치시 연동면 명학리', '세종특별자치시 연서면 봉암리',\n",
       "       '세종특별자치시 장군면 금암리', '세종특별자치시 전동면 노장리', '세종특별자치시 전의면 동교리',\n",
       "       '세종특별자치시 조치원읍 남리', '세종특별자치시 조치원읍 번암리', '세종특별자치시 조치원읍 서창리',\n",
       "       '세종특별자치시 조치원읍 신안리', '세종특별자치시 조치원읍 신흥리', '세종특별자치시 조치원읍 죽림리',\n",
       "       '세종특별자치시 조치원읍 침산리', '세종특별자치시 종촌동', '세종특별자치시 한솔동',\n",
       "       '세종특별자치시 전의면 유천리', '세종특별자치시 조치원읍 교리', '세종특별자치시 소정면 운당리',\n",
       "       '세종특별자치시 새롬동', '세종특별자치시 조치원읍 정리', '세종특별자치시 다정동', '세종특별자치시 대평동',\n",
       "       '세종특별자치시 조치원읍 원리', '세종특별자치시 반곡동', '세종특별자치시 가람동'], dtype=object)"
      ]
     },
     "metadata": {},
     "execution_count": 6
    }
   ],
   "source": [
    "apt_tra['시군구'].unique()"
   ]
  },
  {
   "cell_type": "code",
   "execution_count": 26,
   "metadata": {},
   "outputs": [],
   "source": [
    "apt_tra['행정동(읍면리)'] = apt_tra['시군구'].str.replace('세종특별자치시', '')\n",
    "apt_tra['행정동'] = apt_tra['행정동(읍면리)'].str.split().str[0]"
   ]
  },
  {
   "cell_type": "code",
   "execution_count": 27,
   "metadata": {},
   "outputs": [
    {
     "output_type": "execute_result",
     "data": {
      "text/plain": [
       "     계약년월          시군구    본번  부번               단지명  전용면적(㎡)  거래금액(만원)   층  \\\n",
       "0  201701  세종특별자치시 고운동  1401   0  가락마을13단지(대광로제비앙)  59.6550     23000  11   \n",
       "1  201701  세종특별자치시 고운동  1393   0   가락마을15단지(중흥파크뷰)  84.9894     32000   3   \n",
       "2  201701  세종특별자치시 고운동  1395   0    가락마을16단지(에듀그린)  84.8788     32500  21   \n",
       "3  201701  세종특별자치시 고운동  1386   0   가락마을17단지(골드클래스)  59.9159     25100   7   \n",
       "4  201701  세종특별자치시 고운동  1390   0    가락마을21단지(에듀포레)  99.9434     32250   3   \n",
       "\n",
       "   건축년도  해제사유발생일      계약년월일 행정동(읍면리)  행정동  \n",
       "0  2015      NaN 2017-01-19      고운동  고운동  \n",
       "1  2015      NaN 2017-01-02      고운동  고운동  \n",
       "2  2015      NaN 2017-01-14      고운동  고운동  \n",
       "3  2015      NaN 2017-01-09      고운동  고운동  \n",
       "4  2015      NaN 2017-01-09      고운동  고운동  "
      ],
      "text/html": "<div>\n<style scoped>\n    .dataframe tbody tr th:only-of-type {\n        vertical-align: middle;\n    }\n\n    .dataframe tbody tr th {\n        vertical-align: top;\n    }\n\n    .dataframe thead th {\n        text-align: right;\n    }\n</style>\n<table border=\"1\" class=\"dataframe\">\n  <thead>\n    <tr style=\"text-align: right;\">\n      <th></th>\n      <th>계약년월</th>\n      <th>시군구</th>\n      <th>본번</th>\n      <th>부번</th>\n      <th>단지명</th>\n      <th>전용면적(㎡)</th>\n      <th>거래금액(만원)</th>\n      <th>층</th>\n      <th>건축년도</th>\n      <th>해제사유발생일</th>\n      <th>계약년월일</th>\n      <th>행정동(읍면리)</th>\n      <th>행정동</th>\n    </tr>\n  </thead>\n  <tbody>\n    <tr>\n      <th>0</th>\n      <td>201701</td>\n      <td>세종특별자치시 고운동</td>\n      <td>1401</td>\n      <td>0</td>\n      <td>가락마을13단지(대광로제비앙)</td>\n      <td>59.6550</td>\n      <td>23000</td>\n      <td>11</td>\n      <td>2015</td>\n      <td>NaN</td>\n      <td>2017-01-19</td>\n      <td>고운동</td>\n      <td>고운동</td>\n    </tr>\n    <tr>\n      <th>1</th>\n      <td>201701</td>\n      <td>세종특별자치시 고운동</td>\n      <td>1393</td>\n      <td>0</td>\n      <td>가락마을15단지(중흥파크뷰)</td>\n      <td>84.9894</td>\n      <td>32000</td>\n      <td>3</td>\n      <td>2015</td>\n      <td>NaN</td>\n      <td>2017-01-02</td>\n      <td>고운동</td>\n      <td>고운동</td>\n    </tr>\n    <tr>\n      <th>2</th>\n      <td>201701</td>\n      <td>세종특별자치시 고운동</td>\n      <td>1395</td>\n      <td>0</td>\n      <td>가락마을16단지(에듀그린)</td>\n      <td>84.8788</td>\n      <td>32500</td>\n      <td>21</td>\n      <td>2015</td>\n      <td>NaN</td>\n      <td>2017-01-14</td>\n      <td>고운동</td>\n      <td>고운동</td>\n    </tr>\n    <tr>\n      <th>3</th>\n      <td>201701</td>\n      <td>세종특별자치시 고운동</td>\n      <td>1386</td>\n      <td>0</td>\n      <td>가락마을17단지(골드클래스)</td>\n      <td>59.9159</td>\n      <td>25100</td>\n      <td>7</td>\n      <td>2015</td>\n      <td>NaN</td>\n      <td>2017-01-09</td>\n      <td>고운동</td>\n      <td>고운동</td>\n    </tr>\n    <tr>\n      <th>4</th>\n      <td>201701</td>\n      <td>세종특별자치시 고운동</td>\n      <td>1390</td>\n      <td>0</td>\n      <td>가락마을21단지(에듀포레)</td>\n      <td>99.9434</td>\n      <td>32250</td>\n      <td>3</td>\n      <td>2015</td>\n      <td>NaN</td>\n      <td>2017-01-09</td>\n      <td>고운동</td>\n      <td>고운동</td>\n    </tr>\n  </tbody>\n</table>\n</div>"
     },
     "metadata": {},
     "execution_count": 27
    }
   ],
   "source": [
    "apt_tra.head()"
   ]
  },
  {
   "cell_type": "code",
   "execution_count": 99,
   "metadata": {},
   "outputs": [
    {
     "output_type": "execute_result",
     "data": {
      "text/plain": [
       "array(['고운동', '금남면', '나성동', '도담동', '보람동', '부강면', '소담동', '아름동', '어진동',\n",
       "       '연동면', '연서면', '장군면', '전동면', '전의면', '조치원읍', '종촌동', '한솔동', '소정면',\n",
       "       '새롬동', '다정동', '대평동', '반곡동', '가람동'], dtype=object)"
      ]
     },
     "metadata": {},
     "execution_count": 99
    }
   ],
   "source": [
    "apt_tra['행정동'].unique()"
   ]
  },
  {
   "cell_type": "code",
   "execution_count": 31,
   "metadata": {},
   "outputs": [],
   "source": [
    "apt_cnty = apt_tra.groupby('행정동').mean()[['전용면적(㎡)','거래금액(만원)','층']]\n"
   ]
  },
  {
   "cell_type": "code",
   "execution_count": 84,
   "metadata": {},
   "outputs": [
    {
     "output_type": "execute_result",
     "data": {
      "text/plain": [
       "        전용면적(㎡)      거래금액(만원)          층\n",
       "행정동                                     \n",
       "가람동   59.933100  54000.000000   5.000000\n",
       "고운동   75.812906  34431.779738  10.310988\n",
       "금남면   52.873269  13959.120370   7.951389\n",
       "나성동   27.205074  10585.482759   5.682759\n",
       "다정동   81.698369  62177.157095   9.966216\n",
       "대평동   84.745504  73175.011976  10.574850\n",
       "도담동   74.161839  44911.933291  10.904342\n",
       "반곡동   77.063544  57494.951456   8.067961\n",
       "보람동   84.261626  65879.284211  10.589474\n",
       "부강면   58.348387   7851.290323   6.161290\n",
       "새롬동   80.992821  66054.370662  10.195584\n",
       "소담동   79.421503  56853.738302  11.202773\n",
       "소정면   60.480476   6392.857143   6.571429\n",
       "아름동   85.020698  35044.949764  11.605410\n",
       "어진동   59.810456  39625.319905   8.016588\n",
       "연동면   46.472096   6625.719101   4.921348\n",
       "연서면   70.738062  11966.279070   5.387597\n",
       "장군면   28.805141   2771.408451   2.633803\n",
       "전동면   49.380000   5652.380952   2.142857\n",
       "전의면   56.668365   7903.365385   4.807692\n",
       "조치원읍  82.511428  16970.891432   7.861848\n",
       "종촌동   80.286730  39196.429032  12.029032\n",
       "한솔동   90.959136  40881.186555  10.190724"
      ],
      "text/html": "<div>\n<style scoped>\n    .dataframe tbody tr th:only-of-type {\n        vertical-align: middle;\n    }\n\n    .dataframe tbody tr th {\n        vertical-align: top;\n    }\n\n    .dataframe thead th {\n        text-align: right;\n    }\n</style>\n<table border=\"1\" class=\"dataframe\">\n  <thead>\n    <tr style=\"text-align: right;\">\n      <th></th>\n      <th>전용면적(㎡)</th>\n      <th>거래금액(만원)</th>\n      <th>층</th>\n    </tr>\n    <tr>\n      <th>행정동</th>\n      <th></th>\n      <th></th>\n      <th></th>\n    </tr>\n  </thead>\n  <tbody>\n    <tr>\n      <th>가람동</th>\n      <td>59.933100</td>\n      <td>54000.000000</td>\n      <td>5.000000</td>\n    </tr>\n    <tr>\n      <th>고운동</th>\n      <td>75.812906</td>\n      <td>34431.779738</td>\n      <td>10.310988</td>\n    </tr>\n    <tr>\n      <th>금남면</th>\n      <td>52.873269</td>\n      <td>13959.120370</td>\n      <td>7.951389</td>\n    </tr>\n    <tr>\n      <th>나성동</th>\n      <td>27.205074</td>\n      <td>10585.482759</td>\n      <td>5.682759</td>\n    </tr>\n    <tr>\n      <th>다정동</th>\n      <td>81.698369</td>\n      <td>62177.157095</td>\n      <td>9.966216</td>\n    </tr>\n    <tr>\n      <th>대평동</th>\n      <td>84.745504</td>\n      <td>73175.011976</td>\n      <td>10.574850</td>\n    </tr>\n    <tr>\n      <th>도담동</th>\n      <td>74.161839</td>\n      <td>44911.933291</td>\n      <td>10.904342</td>\n    </tr>\n    <tr>\n      <th>반곡동</th>\n      <td>77.063544</td>\n      <td>57494.951456</td>\n      <td>8.067961</td>\n    </tr>\n    <tr>\n      <th>보람동</th>\n      <td>84.261626</td>\n      <td>65879.284211</td>\n      <td>10.589474</td>\n    </tr>\n    <tr>\n      <th>부강면</th>\n      <td>58.348387</td>\n      <td>7851.290323</td>\n      <td>6.161290</td>\n    </tr>\n    <tr>\n      <th>새롬동</th>\n      <td>80.992821</td>\n      <td>66054.370662</td>\n      <td>10.195584</td>\n    </tr>\n    <tr>\n      <th>소담동</th>\n      <td>79.421503</td>\n      <td>56853.738302</td>\n      <td>11.202773</td>\n    </tr>\n    <tr>\n      <th>소정면</th>\n      <td>60.480476</td>\n      <td>6392.857143</td>\n      <td>6.571429</td>\n    </tr>\n    <tr>\n      <th>아름동</th>\n      <td>85.020698</td>\n      <td>35044.949764</td>\n      <td>11.605410</td>\n    </tr>\n    <tr>\n      <th>어진동</th>\n      <td>59.810456</td>\n      <td>39625.319905</td>\n      <td>8.016588</td>\n    </tr>\n    <tr>\n      <th>연동면</th>\n      <td>46.472096</td>\n      <td>6625.719101</td>\n      <td>4.921348</td>\n    </tr>\n    <tr>\n      <th>연서면</th>\n      <td>70.738062</td>\n      <td>11966.279070</td>\n      <td>5.387597</td>\n    </tr>\n    <tr>\n      <th>장군면</th>\n      <td>28.805141</td>\n      <td>2771.408451</td>\n      <td>2.633803</td>\n    </tr>\n    <tr>\n      <th>전동면</th>\n      <td>49.380000</td>\n      <td>5652.380952</td>\n      <td>2.142857</td>\n    </tr>\n    <tr>\n      <th>전의면</th>\n      <td>56.668365</td>\n      <td>7903.365385</td>\n      <td>4.807692</td>\n    </tr>\n    <tr>\n      <th>조치원읍</th>\n      <td>82.511428</td>\n      <td>16970.891432</td>\n      <td>7.861848</td>\n    </tr>\n    <tr>\n      <th>종촌동</th>\n      <td>80.286730</td>\n      <td>39196.429032</td>\n      <td>12.029032</td>\n    </tr>\n    <tr>\n      <th>한솔동</th>\n      <td>90.959136</td>\n      <td>40881.186555</td>\n      <td>10.190724</td>\n    </tr>\n  </tbody>\n</table>\n</div>"
     },
     "metadata": {},
     "execution_count": 84
    }
   ],
   "source": [
    "apt_cnty"
   ]
  },
  {
   "source": [
    "## 인구 정보"
   ],
   "cell_type": "markdown",
   "metadata": {}
  },
  {
   "cell_type": "code",
   "execution_count": 38,
   "metadata": {},
   "outputs": [],
   "source": [
    "df_pop = pd.read_csv('data/22.세종시_연령별_인구현황.csv')\n",
    "df_pop.head()\n",
    "\n",
    "df_pop = df_pop.iloc[1:] #총 세종인구수 제거"
   ]
  },
  {
   "cell_type": "code",
   "execution_count": 39,
   "metadata": {},
   "outputs": [
    {
     "output_type": "execute_result",
     "data": {
      "text/plain": [
       "    읍면동  201701_남자(총_거주자_수)  201701_남자(연령구간인구수)  201701_남자(0~9세)  \\\n",
       "1  조치원읍               23529               23529             2525   \n",
       "2   연기면                1463                1463               56   \n",
       "3   연동면                1828                1828               87   \n",
       "4   부강면                3554                3554              235   \n",
       "5   금남면                5033                5033              263   \n",
       "\n",
       "   201701_남자(10~19세)  201701_남자(20~29세)  201701_남자(30~39세)  201701_남자(40~49세)  \\\n",
       "1               2473               3461               3783               4126   \n",
       "2                 93                220                176                263   \n",
       "3                123                210                228                247   \n",
       "4                287                472                505                588   \n",
       "5                287                616                620                767   \n",
       "\n",
       "   201701_남자(50~59세)  201701_남자(60~69세)  ...  202012_여자(10~19세)  \\\n",
       "1               3393               2131  ...               2050   \n",
       "2                296                203  ...                 54   \n",
       "3                368                318  ...                 63   \n",
       "4                650                396  ...                170   \n",
       "5               1013                814  ...                206   \n",
       "\n",
       "   202012_여자(20~29세)  202012_여자(30~39세)  202012_여자(40~49세)  202012_여자(50~59세)  \\\n",
       "1               2811               2436               3186               3110   \n",
       "2                156                104                109                210   \n",
       "3                112                116                123                245   \n",
       "4                255                274                314                457   \n",
       "5                369                354                387                715   \n",
       "\n",
       "   202012_여자(60~69세)  202012_여자(70~79세)  202012_여자(80~89세)  202012_여자(90~99세)  \\\n",
       "1               2676               1725                930                162   \n",
       "2                221                138                102                 23   \n",
       "3                307                224                212                 45   \n",
       "4                511                353                251                 32   \n",
       "5                836                606                437                 91   \n",
       "\n",
       "   202012_여자(100세_이상)  \n",
       "1                   7  \n",
       "2                   1  \n",
       "3                   0  \n",
       "4                   1  \n",
       "5                   2  \n",
       "\n",
       "[5 rows x 1249 columns]"
      ],
      "text/html": "<div>\n<style scoped>\n    .dataframe tbody tr th:only-of-type {\n        vertical-align: middle;\n    }\n\n    .dataframe tbody tr th {\n        vertical-align: top;\n    }\n\n    .dataframe thead th {\n        text-align: right;\n    }\n</style>\n<table border=\"1\" class=\"dataframe\">\n  <thead>\n    <tr style=\"text-align: right;\">\n      <th></th>\n      <th>읍면동</th>\n      <th>201701_남자(총_거주자_수)</th>\n      <th>201701_남자(연령구간인구수)</th>\n      <th>201701_남자(0~9세)</th>\n      <th>201701_남자(10~19세)</th>\n      <th>201701_남자(20~29세)</th>\n      <th>201701_남자(30~39세)</th>\n      <th>201701_남자(40~49세)</th>\n      <th>201701_남자(50~59세)</th>\n      <th>201701_남자(60~69세)</th>\n      <th>...</th>\n      <th>202012_여자(10~19세)</th>\n      <th>202012_여자(20~29세)</th>\n      <th>202012_여자(30~39세)</th>\n      <th>202012_여자(40~49세)</th>\n      <th>202012_여자(50~59세)</th>\n      <th>202012_여자(60~69세)</th>\n      <th>202012_여자(70~79세)</th>\n      <th>202012_여자(80~89세)</th>\n      <th>202012_여자(90~99세)</th>\n      <th>202012_여자(100세_이상)</th>\n    </tr>\n  </thead>\n  <tbody>\n    <tr>\n      <th>1</th>\n      <td>조치원읍</td>\n      <td>23529</td>\n      <td>23529</td>\n      <td>2525</td>\n      <td>2473</td>\n      <td>3461</td>\n      <td>3783</td>\n      <td>4126</td>\n      <td>3393</td>\n      <td>2131</td>\n      <td>...</td>\n      <td>2050</td>\n      <td>2811</td>\n      <td>2436</td>\n      <td>3186</td>\n      <td>3110</td>\n      <td>2676</td>\n      <td>1725</td>\n      <td>930</td>\n      <td>162</td>\n      <td>7</td>\n    </tr>\n    <tr>\n      <th>2</th>\n      <td>연기면</td>\n      <td>1463</td>\n      <td>1463</td>\n      <td>56</td>\n      <td>93</td>\n      <td>220</td>\n      <td>176</td>\n      <td>263</td>\n      <td>296</td>\n      <td>203</td>\n      <td>...</td>\n      <td>54</td>\n      <td>156</td>\n      <td>104</td>\n      <td>109</td>\n      <td>210</td>\n      <td>221</td>\n      <td>138</td>\n      <td>102</td>\n      <td>23</td>\n      <td>1</td>\n    </tr>\n    <tr>\n      <th>3</th>\n      <td>연동면</td>\n      <td>1828</td>\n      <td>1828</td>\n      <td>87</td>\n      <td>123</td>\n      <td>210</td>\n      <td>228</td>\n      <td>247</td>\n      <td>368</td>\n      <td>318</td>\n      <td>...</td>\n      <td>63</td>\n      <td>112</td>\n      <td>116</td>\n      <td>123</td>\n      <td>245</td>\n      <td>307</td>\n      <td>224</td>\n      <td>212</td>\n      <td>45</td>\n      <td>0</td>\n    </tr>\n    <tr>\n      <th>4</th>\n      <td>부강면</td>\n      <td>3554</td>\n      <td>3554</td>\n      <td>235</td>\n      <td>287</td>\n      <td>472</td>\n      <td>505</td>\n      <td>588</td>\n      <td>650</td>\n      <td>396</td>\n      <td>...</td>\n      <td>170</td>\n      <td>255</td>\n      <td>274</td>\n      <td>314</td>\n      <td>457</td>\n      <td>511</td>\n      <td>353</td>\n      <td>251</td>\n      <td>32</td>\n      <td>1</td>\n    </tr>\n    <tr>\n      <th>5</th>\n      <td>금남면</td>\n      <td>5033</td>\n      <td>5033</td>\n      <td>263</td>\n      <td>287</td>\n      <td>616</td>\n      <td>620</td>\n      <td>767</td>\n      <td>1013</td>\n      <td>814</td>\n      <td>...</td>\n      <td>206</td>\n      <td>369</td>\n      <td>354</td>\n      <td>387</td>\n      <td>715</td>\n      <td>836</td>\n      <td>606</td>\n      <td>437</td>\n      <td>91</td>\n      <td>2</td>\n    </tr>\n  </tbody>\n</table>\n<p>5 rows × 1249 columns</p>\n</div>"
     },
     "metadata": {},
     "execution_count": 39
    }
   ],
   "source": [
    "df_pop.head()"
   ]
  },
  {
   "cell_type": "code",
   "execution_count": 78,
   "metadata": {},
   "outputs": [
    {
     "output_type": "stream",
     "name": "stdout",
     "text": [
      "Index(['202001_남자(총_거주자_수)', '202001_남자(연령구간인구수)', '202001_남자(0~9세)',\n       '202001_남자(10~19세)', '202001_남자(20~29세)', '202001_남자(30~39세)',\n       '202001_남자(40~49세)', '202001_남자(50~59세)', '202001_남자(60~69세)',\n       '202001_남자(70~79세)',\n       ...\n       '202012_여자(10~19세)', '202012_여자(20~29세)', '202012_여자(30~39세)',\n       '202012_여자(40~49세)', '202012_여자(50~59세)', '202012_여자(60~69세)',\n       '202012_여자(70~79세)', '202012_여자(80~89세)', '202012_여자(90~99세)',\n       '202012_여자(100세_이상)'],\n      dtype='object', length=312)\n"
     ]
    }
   ],
   "source": [
    "print(df_pop.columns[-312:])"
   ]
  },
  {
   "cell_type": "code",
   "execution_count": 86,
   "metadata": {},
   "outputs": [
    {
     "output_type": "execute_result",
     "data": {
      "text/plain": [
       "(20, 3)"
      ]
     },
     "metadata": {},
     "execution_count": 86
    }
   ],
   "source": [
    "pop_2020 = df_pop[['읍면동','202012_남자(총_거주자_수)','202012_여자(총_거주자_수)']]\n"
   ]
  },
  {
   "cell_type": "code",
   "execution_count": 95,
   "metadata": {},
   "outputs": [],
   "source": [
    "pop_2020 = pop_2020.set_index('읍면동')"
   ]
  },
  {
   "cell_type": "code",
   "execution_count": 96,
   "metadata": {},
   "outputs": [
    {
     "output_type": "execute_result",
     "data": {
      "text/plain": [
       "      202012_남자(총_거주자_수)  202012_여자(총_거주자_수)\n",
       "읍면동                                         \n",
       "조치원읍               22136               20653\n",
       "연기면                 1512                1159\n",
       "연동면                 1628                1495\n",
       "부강면                 3412                2784\n",
       "금남면                 4616                4174\n",
       "장군면                 3785                2836\n",
       "연서면                 4046                3388\n",
       "전의면                 2979                2611\n",
       "전동면                 1903                1606\n",
       "소정면                 1278                1131\n",
       "한솔동                 9431                9777\n",
       "새롬동                14254               15136\n",
       "도담동                19118               20339\n",
       "아름동                11660               11865\n",
       "종촌동                14327               15209\n",
       "고운동                16800               17587\n",
       "소담동                15963               16440\n",
       "보람동                 9507                9879\n",
       "대평동                 5454                5514\n",
       "다정동                13189               14124"
      ],
      "text/html": "<div>\n<style scoped>\n    .dataframe tbody tr th:only-of-type {\n        vertical-align: middle;\n    }\n\n    .dataframe tbody tr th {\n        vertical-align: top;\n    }\n\n    .dataframe thead th {\n        text-align: right;\n    }\n</style>\n<table border=\"1\" class=\"dataframe\">\n  <thead>\n    <tr style=\"text-align: right;\">\n      <th></th>\n      <th>202012_남자(총_거주자_수)</th>\n      <th>202012_여자(총_거주자_수)</th>\n    </tr>\n    <tr>\n      <th>읍면동</th>\n      <th></th>\n      <th></th>\n    </tr>\n  </thead>\n  <tbody>\n    <tr>\n      <th>조치원읍</th>\n      <td>22136</td>\n      <td>20653</td>\n    </tr>\n    <tr>\n      <th>연기면</th>\n      <td>1512</td>\n      <td>1159</td>\n    </tr>\n    <tr>\n      <th>연동면</th>\n      <td>1628</td>\n      <td>1495</td>\n    </tr>\n    <tr>\n      <th>부강면</th>\n      <td>3412</td>\n      <td>2784</td>\n    </tr>\n    <tr>\n      <th>금남면</th>\n      <td>4616</td>\n      <td>4174</td>\n    </tr>\n    <tr>\n      <th>장군면</th>\n      <td>3785</td>\n      <td>2836</td>\n    </tr>\n    <tr>\n      <th>연서면</th>\n      <td>4046</td>\n      <td>3388</td>\n    </tr>\n    <tr>\n      <th>전의면</th>\n      <td>2979</td>\n      <td>2611</td>\n    </tr>\n    <tr>\n      <th>전동면</th>\n      <td>1903</td>\n      <td>1606</td>\n    </tr>\n    <tr>\n      <th>소정면</th>\n      <td>1278</td>\n      <td>1131</td>\n    </tr>\n    <tr>\n      <th>한솔동</th>\n      <td>9431</td>\n      <td>9777</td>\n    </tr>\n    <tr>\n      <th>새롬동</th>\n      <td>14254</td>\n      <td>15136</td>\n    </tr>\n    <tr>\n      <th>도담동</th>\n      <td>19118</td>\n      <td>20339</td>\n    </tr>\n    <tr>\n      <th>아름동</th>\n      <td>11660</td>\n      <td>11865</td>\n    </tr>\n    <tr>\n      <th>종촌동</th>\n      <td>14327</td>\n      <td>15209</td>\n    </tr>\n    <tr>\n      <th>고운동</th>\n      <td>16800</td>\n      <td>17587</td>\n    </tr>\n    <tr>\n      <th>소담동</th>\n      <td>15963</td>\n      <td>16440</td>\n    </tr>\n    <tr>\n      <th>보람동</th>\n      <td>9507</td>\n      <td>9879</td>\n    </tr>\n    <tr>\n      <th>대평동</th>\n      <td>5454</td>\n      <td>5514</td>\n    </tr>\n    <tr>\n      <th>다정동</th>\n      <td>13189</td>\n      <td>14124</td>\n    </tr>\n  </tbody>\n</table>\n</div>"
     },
     "metadata": {},
     "execution_count": 96
    }
   ],
   "source": [
    "pop_2020"
   ]
  },
  {
   "cell_type": "code",
   "execution_count": 103,
   "metadata": {},
   "outputs": [
    {
     "output_type": "stream",
     "name": "stdout",
     "text": [
      "가람동\n나성동\n반곡동\n어진동\n"
     ]
    }
   ],
   "source": [
    "for cnty in apt_cnty.index:\n",
    "    if not cnty in pop_2020.index:\n",
    "        print(cnty)"
   ]
  },
  {
   "source": [
    "### 2020년 인구 조사에 포함되지 않은 행정동\n",
    "가람동\n",
    "나성동\n",
    "반곡동\n",
    "어진동\n",
    "\n",
    "거래내역에 포함되지 않은 행정동은 일단 지우기로!\n",
    "\n"
   ],
   "cell_type": "markdown",
   "metadata": {}
  },
  {
   "cell_type": "code",
   "execution_count": 125,
   "metadata": {},
   "outputs": [],
   "source": [
    "apt_cnty = apt_cnty[np.invert(apt_cnty.index.str.contains('가람동|나성동|반곡동|어진동'))]"
   ]
  },
  {
   "cell_type": "code",
   "execution_count": 126,
   "metadata": {},
   "outputs": [
    {
     "output_type": "execute_result",
     "data": {
      "text/plain": [
       "        전용면적(㎡)      거래금액(만원)          층\n",
       "행정동                                     \n",
       "고운동   75.812906  34431.779738  10.310988\n",
       "금남면   52.873269  13959.120370   7.951389\n",
       "다정동   81.698369  62177.157095   9.966216\n",
       "대평동   84.745504  73175.011976  10.574850\n",
       "도담동   74.161839  44911.933291  10.904342\n",
       "보람동   84.261626  65879.284211  10.589474\n",
       "부강면   58.348387   7851.290323   6.161290\n",
       "새롬동   80.992821  66054.370662  10.195584\n",
       "소담동   79.421503  56853.738302  11.202773\n",
       "소정면   60.480476   6392.857143   6.571429\n",
       "아름동   85.020698  35044.949764  11.605410\n",
       "연동면   46.472096   6625.719101   4.921348\n",
       "연서면   70.738062  11966.279070   5.387597\n",
       "장군면   28.805141   2771.408451   2.633803\n",
       "전동면   49.380000   5652.380952   2.142857\n",
       "전의면   56.668365   7903.365385   4.807692\n",
       "조치원읍  82.511428  16970.891432   7.861848\n",
       "종촌동   80.286730  39196.429032  12.029032\n",
       "한솔동   90.959136  40881.186555  10.190724"
      ],
      "text/html": "<div>\n<style scoped>\n    .dataframe tbody tr th:only-of-type {\n        vertical-align: middle;\n    }\n\n    .dataframe tbody tr th {\n        vertical-align: top;\n    }\n\n    .dataframe thead th {\n        text-align: right;\n    }\n</style>\n<table border=\"1\" class=\"dataframe\">\n  <thead>\n    <tr style=\"text-align: right;\">\n      <th></th>\n      <th>전용면적(㎡)</th>\n      <th>거래금액(만원)</th>\n      <th>층</th>\n    </tr>\n    <tr>\n      <th>행정동</th>\n      <th></th>\n      <th></th>\n      <th></th>\n    </tr>\n  </thead>\n  <tbody>\n    <tr>\n      <th>고운동</th>\n      <td>75.812906</td>\n      <td>34431.779738</td>\n      <td>10.310988</td>\n    </tr>\n    <tr>\n      <th>금남면</th>\n      <td>52.873269</td>\n      <td>13959.120370</td>\n      <td>7.951389</td>\n    </tr>\n    <tr>\n      <th>다정동</th>\n      <td>81.698369</td>\n      <td>62177.157095</td>\n      <td>9.966216</td>\n    </tr>\n    <tr>\n      <th>대평동</th>\n      <td>84.745504</td>\n      <td>73175.011976</td>\n      <td>10.574850</td>\n    </tr>\n    <tr>\n      <th>도담동</th>\n      <td>74.161839</td>\n      <td>44911.933291</td>\n      <td>10.904342</td>\n    </tr>\n    <tr>\n      <th>보람동</th>\n      <td>84.261626</td>\n      <td>65879.284211</td>\n      <td>10.589474</td>\n    </tr>\n    <tr>\n      <th>부강면</th>\n      <td>58.348387</td>\n      <td>7851.290323</td>\n      <td>6.161290</td>\n    </tr>\n    <tr>\n      <th>새롬동</th>\n      <td>80.992821</td>\n      <td>66054.370662</td>\n      <td>10.195584</td>\n    </tr>\n    <tr>\n      <th>소담동</th>\n      <td>79.421503</td>\n      <td>56853.738302</td>\n      <td>11.202773</td>\n    </tr>\n    <tr>\n      <th>소정면</th>\n      <td>60.480476</td>\n      <td>6392.857143</td>\n      <td>6.571429</td>\n    </tr>\n    <tr>\n      <th>아름동</th>\n      <td>85.020698</td>\n      <td>35044.949764</td>\n      <td>11.605410</td>\n    </tr>\n    <tr>\n      <th>연동면</th>\n      <td>46.472096</td>\n      <td>6625.719101</td>\n      <td>4.921348</td>\n    </tr>\n    <tr>\n      <th>연서면</th>\n      <td>70.738062</td>\n      <td>11966.279070</td>\n      <td>5.387597</td>\n    </tr>\n    <tr>\n      <th>장군면</th>\n      <td>28.805141</td>\n      <td>2771.408451</td>\n      <td>2.633803</td>\n    </tr>\n    <tr>\n      <th>전동면</th>\n      <td>49.380000</td>\n      <td>5652.380952</td>\n      <td>2.142857</td>\n    </tr>\n    <tr>\n      <th>전의면</th>\n      <td>56.668365</td>\n      <td>7903.365385</td>\n      <td>4.807692</td>\n    </tr>\n    <tr>\n      <th>조치원읍</th>\n      <td>82.511428</td>\n      <td>16970.891432</td>\n      <td>7.861848</td>\n    </tr>\n    <tr>\n      <th>종촌동</th>\n      <td>80.286730</td>\n      <td>39196.429032</td>\n      <td>12.029032</td>\n    </tr>\n    <tr>\n      <th>한솔동</th>\n      <td>90.959136</td>\n      <td>40881.186555</td>\n      <td>10.190724</td>\n    </tr>\n  </tbody>\n</table>\n</div>"
     },
     "metadata": {},
     "execution_count": 126
    }
   ],
   "source": [
    "apt_cnty"
   ]
  },
  {
   "cell_type": "code",
   "execution_count": 130,
   "metadata": {},
   "outputs": [
    {
     "output_type": "execute_result",
     "data": {
      "text/plain": [
       "        전용면적(㎡)      거래금액(만원)          층  202012_남자(총_거주자_수)  \\\n",
       "고운동   75.812906  34431.779738  10.310988               16800   \n",
       "금남면   52.873269  13959.120370   7.951389                4616   \n",
       "다정동   81.698369  62177.157095   9.966216               13189   \n",
       "대평동   84.745504  73175.011976  10.574850                5454   \n",
       "도담동   74.161839  44911.933291  10.904342               19118   \n",
       "보람동   84.261626  65879.284211  10.589474                9507   \n",
       "부강면   58.348387   7851.290323   6.161290                3412   \n",
       "새롬동   80.992821  66054.370662  10.195584               14254   \n",
       "소담동   79.421503  56853.738302  11.202773               15963   \n",
       "소정면   60.480476   6392.857143   6.571429                1278   \n",
       "아름동   85.020698  35044.949764  11.605410               11660   \n",
       "연동면   46.472096   6625.719101   4.921348                1628   \n",
       "연서면   70.738062  11966.279070   5.387597                4046   \n",
       "장군면   28.805141   2771.408451   2.633803                3785   \n",
       "전동면   49.380000   5652.380952   2.142857                1903   \n",
       "전의면   56.668365   7903.365385   4.807692                2979   \n",
       "조치원읍  82.511428  16970.891432   7.861848               22136   \n",
       "종촌동   80.286730  39196.429032  12.029032               14327   \n",
       "한솔동   90.959136  40881.186555  10.190724                9431   \n",
       "\n",
       "      202012_여자(총_거주자_수)  \n",
       "고운동                17587  \n",
       "금남면                 4174  \n",
       "다정동                14124  \n",
       "대평동                 5514  \n",
       "도담동                20339  \n",
       "보람동                 9879  \n",
       "부강면                 2784  \n",
       "새롬동                15136  \n",
       "소담동                16440  \n",
       "소정면                 1131  \n",
       "아름동                11865  \n",
       "연동면                 1495  \n",
       "연서면                 3388  \n",
       "장군면                 2836  \n",
       "전동면                 1606  \n",
       "전의면                 2611  \n",
       "조치원읍               20653  \n",
       "종촌동                15209  \n",
       "한솔동                 9777  "
      ],
      "text/html": "<div>\n<style scoped>\n    .dataframe tbody tr th:only-of-type {\n        vertical-align: middle;\n    }\n\n    .dataframe tbody tr th {\n        vertical-align: top;\n    }\n\n    .dataframe thead th {\n        text-align: right;\n    }\n</style>\n<table border=\"1\" class=\"dataframe\">\n  <thead>\n    <tr style=\"text-align: right;\">\n      <th></th>\n      <th>전용면적(㎡)</th>\n      <th>거래금액(만원)</th>\n      <th>층</th>\n      <th>202012_남자(총_거주자_수)</th>\n      <th>202012_여자(총_거주자_수)</th>\n    </tr>\n  </thead>\n  <tbody>\n    <tr>\n      <th>고운동</th>\n      <td>75.812906</td>\n      <td>34431.779738</td>\n      <td>10.310988</td>\n      <td>16800</td>\n      <td>17587</td>\n    </tr>\n    <tr>\n      <th>금남면</th>\n      <td>52.873269</td>\n      <td>13959.120370</td>\n      <td>7.951389</td>\n      <td>4616</td>\n      <td>4174</td>\n    </tr>\n    <tr>\n      <th>다정동</th>\n      <td>81.698369</td>\n      <td>62177.157095</td>\n      <td>9.966216</td>\n      <td>13189</td>\n      <td>14124</td>\n    </tr>\n    <tr>\n      <th>대평동</th>\n      <td>84.745504</td>\n      <td>73175.011976</td>\n      <td>10.574850</td>\n      <td>5454</td>\n      <td>5514</td>\n    </tr>\n    <tr>\n      <th>도담동</th>\n      <td>74.161839</td>\n      <td>44911.933291</td>\n      <td>10.904342</td>\n      <td>19118</td>\n      <td>20339</td>\n    </tr>\n    <tr>\n      <th>보람동</th>\n      <td>84.261626</td>\n      <td>65879.284211</td>\n      <td>10.589474</td>\n      <td>9507</td>\n      <td>9879</td>\n    </tr>\n    <tr>\n      <th>부강면</th>\n      <td>58.348387</td>\n      <td>7851.290323</td>\n      <td>6.161290</td>\n      <td>3412</td>\n      <td>2784</td>\n    </tr>\n    <tr>\n      <th>새롬동</th>\n      <td>80.992821</td>\n      <td>66054.370662</td>\n      <td>10.195584</td>\n      <td>14254</td>\n      <td>15136</td>\n    </tr>\n    <tr>\n      <th>소담동</th>\n      <td>79.421503</td>\n      <td>56853.738302</td>\n      <td>11.202773</td>\n      <td>15963</td>\n      <td>16440</td>\n    </tr>\n    <tr>\n      <th>소정면</th>\n      <td>60.480476</td>\n      <td>6392.857143</td>\n      <td>6.571429</td>\n      <td>1278</td>\n      <td>1131</td>\n    </tr>\n    <tr>\n      <th>아름동</th>\n      <td>85.020698</td>\n      <td>35044.949764</td>\n      <td>11.605410</td>\n      <td>11660</td>\n      <td>11865</td>\n    </tr>\n    <tr>\n      <th>연동면</th>\n      <td>46.472096</td>\n      <td>6625.719101</td>\n      <td>4.921348</td>\n      <td>1628</td>\n      <td>1495</td>\n    </tr>\n    <tr>\n      <th>연서면</th>\n      <td>70.738062</td>\n      <td>11966.279070</td>\n      <td>5.387597</td>\n      <td>4046</td>\n      <td>3388</td>\n    </tr>\n    <tr>\n      <th>장군면</th>\n      <td>28.805141</td>\n      <td>2771.408451</td>\n      <td>2.633803</td>\n      <td>3785</td>\n      <td>2836</td>\n    </tr>\n    <tr>\n      <th>전동면</th>\n      <td>49.380000</td>\n      <td>5652.380952</td>\n      <td>2.142857</td>\n      <td>1903</td>\n      <td>1606</td>\n    </tr>\n    <tr>\n      <th>전의면</th>\n      <td>56.668365</td>\n      <td>7903.365385</td>\n      <td>4.807692</td>\n      <td>2979</td>\n      <td>2611</td>\n    </tr>\n    <tr>\n      <th>조치원읍</th>\n      <td>82.511428</td>\n      <td>16970.891432</td>\n      <td>7.861848</td>\n      <td>22136</td>\n      <td>20653</td>\n    </tr>\n    <tr>\n      <th>종촌동</th>\n      <td>80.286730</td>\n      <td>39196.429032</td>\n      <td>12.029032</td>\n      <td>14327</td>\n      <td>15209</td>\n    </tr>\n    <tr>\n      <th>한솔동</th>\n      <td>90.959136</td>\n      <td>40881.186555</td>\n      <td>10.190724</td>\n      <td>9431</td>\n      <td>9777</td>\n    </tr>\n  </tbody>\n</table>\n</div>"
     },
     "metadata": {},
     "execution_count": 130
    }
   ],
   "source": [
    "cnty_stat = pd.concat([apt_cnty, pop_2020], axis=1, join='inner')\n",
    "cnty_stat"
   ]
  },
  {
   "cell_type": "code",
   "execution_count": 139,
   "metadata": {},
   "outputs": [],
   "source": [
    "cnty_stat =cnty_stat.rename(columns={'202012_남자(총_거주자_수)': '남자인구수','202012_여자(총_거주자_수)':'여자인구수'})"
   ]
  },
  {
   "cell_type": "code",
   "execution_count": 140,
   "metadata": {},
   "outputs": [
    {
     "output_type": "execute_result",
     "data": {
      "text/plain": [
       "        전용면적(㎡)      거래금액(만원)          층  남자인구수  여자인구수\n",
       "고운동   75.812906  34431.779738  10.310988  16800  17587\n",
       "금남면   52.873269  13959.120370   7.951389   4616   4174\n",
       "다정동   81.698369  62177.157095   9.966216  13189  14124\n",
       "대평동   84.745504  73175.011976  10.574850   5454   5514\n",
       "도담동   74.161839  44911.933291  10.904342  19118  20339\n",
       "보람동   84.261626  65879.284211  10.589474   9507   9879\n",
       "부강면   58.348387   7851.290323   6.161290   3412   2784\n",
       "새롬동   80.992821  66054.370662  10.195584  14254  15136\n",
       "소담동   79.421503  56853.738302  11.202773  15963  16440\n",
       "소정면   60.480476   6392.857143   6.571429   1278   1131\n",
       "아름동   85.020698  35044.949764  11.605410  11660  11865\n",
       "연동면   46.472096   6625.719101   4.921348   1628   1495\n",
       "연서면   70.738062  11966.279070   5.387597   4046   3388\n",
       "장군면   28.805141   2771.408451   2.633803   3785   2836\n",
       "전동면   49.380000   5652.380952   2.142857   1903   1606\n",
       "전의면   56.668365   7903.365385   4.807692   2979   2611\n",
       "조치원읍  82.511428  16970.891432   7.861848  22136  20653\n",
       "종촌동   80.286730  39196.429032  12.029032  14327  15209\n",
       "한솔동   90.959136  40881.186555  10.190724   9431   9777"
      ],
      "text/html": "<div>\n<style scoped>\n    .dataframe tbody tr th:only-of-type {\n        vertical-align: middle;\n    }\n\n    .dataframe tbody tr th {\n        vertical-align: top;\n    }\n\n    .dataframe thead th {\n        text-align: right;\n    }\n</style>\n<table border=\"1\" class=\"dataframe\">\n  <thead>\n    <tr style=\"text-align: right;\">\n      <th></th>\n      <th>전용면적(㎡)</th>\n      <th>거래금액(만원)</th>\n      <th>층</th>\n      <th>남자인구수</th>\n      <th>여자인구수</th>\n    </tr>\n  </thead>\n  <tbody>\n    <tr>\n      <th>고운동</th>\n      <td>75.812906</td>\n      <td>34431.779738</td>\n      <td>10.310988</td>\n      <td>16800</td>\n      <td>17587</td>\n    </tr>\n    <tr>\n      <th>금남면</th>\n      <td>52.873269</td>\n      <td>13959.120370</td>\n      <td>7.951389</td>\n      <td>4616</td>\n      <td>4174</td>\n    </tr>\n    <tr>\n      <th>다정동</th>\n      <td>81.698369</td>\n      <td>62177.157095</td>\n      <td>9.966216</td>\n      <td>13189</td>\n      <td>14124</td>\n    </tr>\n    <tr>\n      <th>대평동</th>\n      <td>84.745504</td>\n      <td>73175.011976</td>\n      <td>10.574850</td>\n      <td>5454</td>\n      <td>5514</td>\n    </tr>\n    <tr>\n      <th>도담동</th>\n      <td>74.161839</td>\n      <td>44911.933291</td>\n      <td>10.904342</td>\n      <td>19118</td>\n      <td>20339</td>\n    </tr>\n    <tr>\n      <th>보람동</th>\n      <td>84.261626</td>\n      <td>65879.284211</td>\n      <td>10.589474</td>\n      <td>9507</td>\n      <td>9879</td>\n    </tr>\n    <tr>\n      <th>부강면</th>\n      <td>58.348387</td>\n      <td>7851.290323</td>\n      <td>6.161290</td>\n      <td>3412</td>\n      <td>2784</td>\n    </tr>\n    <tr>\n      <th>새롬동</th>\n      <td>80.992821</td>\n      <td>66054.370662</td>\n      <td>10.195584</td>\n      <td>14254</td>\n      <td>15136</td>\n    </tr>\n    <tr>\n      <th>소담동</th>\n      <td>79.421503</td>\n      <td>56853.738302</td>\n      <td>11.202773</td>\n      <td>15963</td>\n      <td>16440</td>\n    </tr>\n    <tr>\n      <th>소정면</th>\n      <td>60.480476</td>\n      <td>6392.857143</td>\n      <td>6.571429</td>\n      <td>1278</td>\n      <td>1131</td>\n    </tr>\n    <tr>\n      <th>아름동</th>\n      <td>85.020698</td>\n      <td>35044.949764</td>\n      <td>11.605410</td>\n      <td>11660</td>\n      <td>11865</td>\n    </tr>\n    <tr>\n      <th>연동면</th>\n      <td>46.472096</td>\n      <td>6625.719101</td>\n      <td>4.921348</td>\n      <td>1628</td>\n      <td>1495</td>\n    </tr>\n    <tr>\n      <th>연서면</th>\n      <td>70.738062</td>\n      <td>11966.279070</td>\n      <td>5.387597</td>\n      <td>4046</td>\n      <td>3388</td>\n    </tr>\n    <tr>\n      <th>장군면</th>\n      <td>28.805141</td>\n      <td>2771.408451</td>\n      <td>2.633803</td>\n      <td>3785</td>\n      <td>2836</td>\n    </tr>\n    <tr>\n      <th>전동면</th>\n      <td>49.380000</td>\n      <td>5652.380952</td>\n      <td>2.142857</td>\n      <td>1903</td>\n      <td>1606</td>\n    </tr>\n    <tr>\n      <th>전의면</th>\n      <td>56.668365</td>\n      <td>7903.365385</td>\n      <td>4.807692</td>\n      <td>2979</td>\n      <td>2611</td>\n    </tr>\n    <tr>\n      <th>조치원읍</th>\n      <td>82.511428</td>\n      <td>16970.891432</td>\n      <td>7.861848</td>\n      <td>22136</td>\n      <td>20653</td>\n    </tr>\n    <tr>\n      <th>종촌동</th>\n      <td>80.286730</td>\n      <td>39196.429032</td>\n      <td>12.029032</td>\n      <td>14327</td>\n      <td>15209</td>\n    </tr>\n    <tr>\n      <th>한솔동</th>\n      <td>90.959136</td>\n      <td>40881.186555</td>\n      <td>10.190724</td>\n      <td>9431</td>\n      <td>9777</td>\n    </tr>\n  </tbody>\n</table>\n</div>"
     },
     "metadata": {},
     "execution_count": 140
    }
   ],
   "source": [
    "cnty_stat"
   ]
  },
  {
   "cell_type": "code",
   "execution_count": 146,
   "metadata": {},
   "outputs": [],
   "source": [
    "\n",
    "cnty_stat['총인구수'] =cnty_stat['남자인구수'] + cnty_stat['여자인구수']\n",
    "cnty_stat.to_csv('data/preprocess/행정동통계(2020).csv', encoding='utf-8')"
   ]
  },
  {
   "cell_type": "code",
   "execution_count": null,
   "metadata": {},
   "outputs": [],
   "source": []
  }
 ]
}