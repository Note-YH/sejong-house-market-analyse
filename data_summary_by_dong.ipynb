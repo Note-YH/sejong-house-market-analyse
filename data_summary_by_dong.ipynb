{
  "cells": [
    {
      "cell_type": "code",
      "execution_count": 60,
      "metadata": {
        "colab": {
          "base_uri": "https://localhost:8080/"
        },
        "id": "gBa5MxqaI6U2",
        "outputId": "033660f5-d4d1-4a24-8447-a6121d614acd"
      },
      "outputs": [],
      "source": [
        "import numpy as np\r\n",
        "import pandas as pd\r\n",
        "\r\n",
        "pd.options.display.max_rows = 1000000 \r\n",
        "\r\n",
        "%matplotlib inline\r\n",
        "import matplotlib\r\n",
        "import matplotlib as mpl\r\n",
        "import matplotlib.pyplot as plt\r\n",
        "plt.rcParams['axes.unicode_minus'] = False\r\n",
        "plt.rcParams[\"font.family\"] = 'NanumBarunGothic'\r\n",
        "plt.rcParams[\"font.size\"] = 20\r\n",
        "plt.rcParams[\"figure.figsize\"] = (15,8)\r\n",
        "\r\n",
        "mpl.rc('axes', labelsize=12)\r\n",
        "mpl.rc('xtick', labelsize=8)\r\n",
        "mpl.rc('ytick', labelsize=8)\r\n",
        "\r\n",
        "import seaborn as sns\r\n"
      ]
    },
    {
      "cell_type": "code",
      "execution_count": 3,
      "metadata": {
        "colab": {
          "base_uri": "https://localhost:8080/"
        },
        "id": "R2djum-6JoNG",
        "outputId": "8e82a1f3-f7d4-4636-f164-5303ed3a24e2"
      },
      "outputs": [
        {
          "name": "stderr",
          "output_type": "stream",
          "text": [
            "C:\\Anaconda\\lib\\site-packages\\IPython\\core\\interactiveshell.py:3146: DtypeWarning: Columns (10,13) have mixed types.Specify dtype option on import or set low_memory=False.\n",
            "  has_raised = await self.run_ast_nodes(code_ast.body, cell_name,\n"
          ]
        }
      ],
      "source": [
        "#읍면동 리스트\r\n",
        "sample = pd.read_csv('data/2.세종시_표제부.csv')\r\n",
        "sample['읍면동'] = sample['대지위치'].str.replace('세종특별자치시 ','')\r\n",
        "sample['읍면동'] = sample['읍면동'].str.replace('조치원읍 ','조치원읍')\r\n",
        "sample[['1', '2','3']] = sample['읍면동'].str.split(' ', n=2, expand=True)\r\n",
        "sample['2'] = sample['2'].str.replace('조치원읍','조치원읍 ')\r\n",
        "list_d = list(set(sample['2']))\r\n",
        "data_d = pd.DataFrame(list_d,columns={'읍면동'})\r\n",
        "#조치원읍/동/면 분리\r\n",
        "list_myn = []\r\n",
        "list_dong = []\r\n",
        "for i in list_d :\r\n",
        "  if '조치원읍 ' in i :\r\n",
        "    pass;\r\n",
        "  elif '동' in i :\r\n",
        "    list_dong.append(i)\r\n",
        "  else :\r\n",
        "    list_myn.append(i)"
      ]
    },
    {
      "cell_type": "code",
      "execution_count": 4,
      "metadata": {
        "id": "J0dg4h3qJ3w1"
      },
      "outputs": [],
      "source": [
        "def make_rentfee_df(a,b,c) :\r\n",
        "  df = pd.read_csv(a)\r\n",
        "  df['보증금(만원)'] = df['보증금(만원)'].str.replace(',','')\r\n",
        "  df = df.astype({'보증금(만원)' : float, '계약년월' : 'str'})\r\n",
        "  df['시군구'] = df['시군구'].str.replace('세종특별자치시 ','')\r\n",
        "  df.replace({'전세' : 'yr', '월세' : 'mth'},inplace=True)\r\n",
        "  \r\n",
        "  df_j = make_rentfee_data(df,b,'yr')\r\n",
        "  df_m = make_rentfee_data(df,b,'mth')\r\n",
        "  \r\n",
        "  d = pd.merge(c,df_j, how='outer',on='읍면동')\r\n",
        "  f = pd.merge(d,df_m, how='outer',on='읍면동')\r\n",
        "\r\n",
        "  return f\r\n",
        "\r\n",
        "def make_rentfee_data(i, b, c) :\r\n",
        "\r\n",
        "  df = i[i['전월세구분'] == c]\r\n",
        "  df[['읍면동', '2']] = df['시군구'].str.split(' ', n=1, expand=True)\r\n",
        "\r\n",
        "  df = df.groupby(['읍면동']).agg({'계약일' : 'count', '보증금(만원)':'mean'})\r\n",
        "  x = b+'_'+c+'_cnt'\r\n",
        "  y = b+'_'+c+'_price'\r\n",
        "  \r\n",
        "  df.columns = [x,y]\r\n",
        "\r\n",
        "  return df"
      ]
    },
    {
      "cell_type": "code",
      "execution_count": 11,
      "metadata": {
        "colab": {
          "base_uri": "https://localhost:8080/",
          "height": 522
        },
        "id": "TzKLOqrQJ7dq",
        "outputId": "d483035c-bba1-4202-bd2e-801b43d58949"
      },
      "outputs": [
        {
          "name": "stderr",
          "output_type": "stream",
          "text": [
            "C:\\Anaconda\\lib\\site-packages\\pandas\\core\\frame.py:3065: SettingWithCopyWarning: \n",
            "A value is trying to be set on a copy of a slice from a DataFrame.\n",
            "Try using .loc[row_indexer,col_indexer] = value instead\n",
            "\n",
            "See the caveats in the documentation: https://pandas.pydata.org/pandas-docs/stable/user_guide/indexing.html#returning-a-view-versus-a-copy\n",
            "  self[k1] = value[k2]\n"
          ]
        }
      ],
      "source": [
        "ofi = make_rentfee_df('data/10.세종시_오피스텔(전월세)_실거래가.csv','ofi',data_d)\r\n",
        "apt = make_rentfee_df('data/7.세종시_아파트(전월세)_실거래가.csv','apt',data_d)\r\n",
        "ali = make_rentfee_df('data/8.세종시_연립다세대(전월세)_실거래가.csv','ali',data_d)\r\n",
        "# 단독주택 제외 >> 대지단위(명확하게 비교하기가 어려움)\r\n",
        "summary = pd.merge(ofi, apt, how='outer', on='읍면동')\r\n",
        "summary = pd.merge(summary, ali, how='outer', on='읍면동')\r\n",
        "market = pd.read_csv('data/14.세종시_상권정보.csv')"
      ]
    },
    {
      "cell_type": "code",
      "execution_count": 12,
      "metadata": {},
      "outputs": [],
      "source": [
        "def make_summary_by_location(a,b,c) :\r\n",
        "    a = summary['읍면동'].str.contains(b)\r\n",
        "    a = summary[a]\r\n",
        "    a = a.reset_index(drop=True)\r\n",
        "    #'전동면'만 제외\r\n",
        "    if b == '동' :\r\n",
        "        a = a.loc[a['읍면동'] != \"전동면\"]\r\n",
        "        a = a.loc[a['읍면동'] != \"연동면\"]\r\n",
        "        a = a.reset_index(drop=True)\r\n",
        "    else :\r\n",
        "        a = summary[summary['읍면동'] == '전동면']\r\n",
        "        a = summary[summary['읍면동'] == '연동면']\r\n",
        "\r\n",
        "    ex = pd.DataFrame()\r\n",
        "\r\n",
        "    #market divieded\r\n",
        "    for i in a['읍면동'] :\r\n",
        "        df = market[market['행정동명']==i]\r\n",
        "        df = df.groupby('상권업종중분류코드').agg({'행정동명':'count','상권업종중분류명' : 'first','상권업종대분류코드' :'first','상권업종대분류명' : 'first'})\r\n",
        "        total = df['행정동명'].sum()\r\n",
        "        \r\n",
        "        df= df.transpose()\r\n",
        "        df['읍면동'] = i\r\n",
        "        df['total'] = total\r\n",
        "\r\n",
        "        list_x = df.iloc[0]\r\n",
        "\r\n",
        "        ex = ex.append(pd.Series(list_x), ignore_index=True)\r\n",
        "        \r\n",
        "    x = pd.merge(a,ex, how='outer', on='읍면동')\r\n",
        "    x.head()\r\n",
        "    \r\n",
        "    return x"
      ]
    },
    {
      "cell_type": "code",
      "execution_count": 10,
      "metadata": {
        "id": "sBcZZNzaK67l"
      },
      "outputs": [],
      "source": [
        "code = pd.read_csv('data/15.세종시_상권정보_업종코드.csv')\r\n",
        "list_main = list(set(code['대분류코드']))\r\n",
        "list_middle = list(set(code['중분류코드']))\r\n",
        "list_middle = sorted(list_middle)"
      ]
    },
    {
      "cell_type": "code",
      "execution_count": 53,
      "metadata": {},
      "outputs": [
        {
          "name": "stdout",
          "output_type": "stream",
          "text": [
            "             D01       D02         D03       D04        D05       D06  \\\n",
            "count   9.000000  7.000000    9.000000  4.000000   8.000000  6.000000   \n",
            "mean    6.111111  2.714286   50.666667  2.000000  12.125000  2.166667   \n",
            "std     4.512329  1.704336   58.088295  1.414214  10.232127  1.834848   \n",
            "min     1.000000  1.000000   11.000000  1.000000   3.000000  1.000000   \n",
            "25%     2.000000  1.000000   16.000000  1.000000   5.000000  1.000000   \n",
            "50%     6.000000  3.000000   28.000000  1.500000   8.000000  1.000000   \n",
            "75%     7.000000  4.000000   41.000000  2.500000  15.500000  3.250000   \n",
            "max    16.000000  5.000000  185.000000  4.000000  32.000000  5.000000   \n",
            "\n",
            "             D07       D08       D09       D10  ...       R13  ali_mth_cnt  \\\n",
            "count   7.000000  8.000000  6.000000  7.000000  ...  5.000000     3.000000   \n",
            "mean    5.142857  4.125000  1.166667  3.142857  ...  1.200000    41.000000   \n",
            "std     4.298394  2.587746  0.408248  1.345185  ...  0.447214    34.655447   \n",
            "min     1.000000  1.000000  1.000000  1.000000  ...  1.000000     1.000000   \n",
            "25%     2.000000  2.750000  1.000000  2.500000  ...  1.000000    30.500000   \n",
            "50%     4.000000  3.500000  1.000000  3.000000  ...  1.000000    60.000000   \n",
            "75%     7.500000  5.000000  1.000000  4.000000  ...  1.000000    61.000000   \n",
            "max    12.000000  8.000000  2.000000  5.000000  ...  2.000000    62.000000   \n",
            "\n",
            "       ali_mth_price  ali_yr_cnt  ali_yr_price  apt_mth_cnt  apt_mth_price  \\\n",
            "count       3.000000    2.000000      2.000000     9.000000       9.000000   \n",
            "mean     1349.430108    7.000000   9103.939394   965.333333    3722.636418   \n",
            "std      1429.918001    5.656854   1031.518801   548.847884     958.289973   \n",
            "min       487.000000    3.000000   8374.545455   222.000000    2333.333333   \n",
            "25%       524.145161    5.000000   8739.242424   730.000000    2875.615646   \n",
            "50%       561.290323    7.000000   9103.939394   803.000000    3887.094737   \n",
            "75%      1780.645161    9.000000   9468.636364  1185.000000    4539.510549   \n",
            "max      3000.000000   11.000000   9833.333333  2090.000000    4934.594521   \n",
            "\n",
            "        apt_yr_cnt  apt_yr_price        total  \n",
            "count     9.000000      9.000000     9.000000  \n",
            "mean   2326.777778  17958.228773   455.666667  \n",
            "std    1297.671258   1303.646105   314.897602  \n",
            "min     434.000000  15204.852071   111.000000  \n",
            "25%    1453.000000  17442.927935   277.000000  \n",
            "50%    2299.000000  17961.592166   353.000000  \n",
            "75%    3467.000000  19123.018171   461.000000  \n",
            "max    4325.000000  19428.392876  1118.000000  \n",
            "\n",
            "[8 rows x 83 columns]\n"
          ]
        },
        {
          "data": {
            "text/plain": "3     다정동\n5     합강동\n6     가람동\n7     반곡동\n8     나성동\n10    산울동\n11    집현동\n12    어진동\n15    해밀동\nName: 읍면동, dtype: object"
          },
          "execution_count": 53,
          "metadata": {},
          "output_type": "execute_result"
        }
      ],
      "source": [
        "dong = make_summary_by_location('dong', '동','1')\r\n",
        "dong_final = dong[dong['total'] != 0]\r\n",
        "\r\n",
        "dong_final = dong_final.sort_index(axis=1)\r\n",
        "dong_final = dong_final.drop({'ofi_mth_price','ofi_mth_cnt','ofi_yr_price','ofi_yr_cnt'},axis = 1)\r\n",
        "print(dong_final.describe())\r\n",
        "dong[dong['total'] == 0]['읍면동']"
      ]
    },
    {
      "cell_type": "code",
      "execution_count": 66,
      "metadata": {},
      "outputs": [
        {
          "name": "stderr",
          "output_type": "stream",
          "text": [
            "<ipython-input-66-4b4dd3542c68>:2: SettingWithCopyWarning: \n",
            "A value is trying to be set on a copy of a slice from a DataFrame.\n",
            "Try using .loc[row_indexer,col_indexer] = value instead\n",
            "\n",
            "See the caveats in the documentation: https://pandas.pydata.org/pandas-docs/stable/user_guide/indexing.html#returning-a-view-versus-a-copy\n",
            "  check['code'] = check['중분류코드'] + check['중분류명']\n"
          ]
        },
        {
          "data": {
            "text/plain": "['N01PC/오락/당구/볼링등',\n 'N02무도/유흥/가무',\n 'N03연극/영화/극장',\n 'N04스포츠/운동',\n 'N05요가/단전/마사지',\n 'N06전시/관람',\n 'N07놀이/여가/취미',\n 'N08경마/경륜/성인오락']"
          },
          "execution_count": 66,
          "metadata": {},
          "output_type": "execute_result"
        }
      ],
      "source": [
        "check = code[code['대분류코드']=='N']\r\n",
        "check['code'] = check['중분류코드'] + check['중분류명']\r\n",
        "list_check = list(set(check['code']))\r\n",
        "list_check = sorted(list_check)\r\n",
        "list_check"
      ]
    },
    {
      "cell_type": "code",
      "execution_count": 63,
      "metadata": {},
      "outputs": [
        {
          "name": "stdout",
          "output_type": "stream",
          "text": [
            "O01 O05\n",
            "O ['숙박']\n",
            "D01 D26\n",
            "D ['소매']\n",
            "R01 R20\n",
            "R ['학문/교육']\n",
            "Q01 Q15\n",
            "Q ['음식']\n",
            "L01 L05\n",
            "L ['부동산']\n",
            "P01 P03\n",
            "P ['스포츠']\n",
            "N01 N08\n",
            "N ['관광/여가/오락']\n",
            "F01 F20\n",
            "F ['생활서비스']\n"
          ]
        },
        {
          "data": {
            "text/plain": "<Figure size 1080x576 with 0 Axes>"
          },
          "metadata": {},
          "output_type": "display_data"
        }
      ],
      "source": [
        "for i in list_main:\r\n",
        "    df01 = dong_final.loc[:,'ali_mth_cnt':]\r\n",
        "\r\n",
        "    list_y = []\r\n",
        "    list_x = [middle for middle in list_middle if i in middle]\r\n",
        "    x = list_x[-1]\r\n",
        "    print(list_x[0],list_x[-1])\r\n",
        "    dong_final.head()\r\n",
        "    df02 = dong_final.loc[ :,list_x[0]:list_x[-1]]\r\n",
        "    df02['읍면동'] = dong_final['읍면동']\r\n",
        "    \r\n",
        "    corr = pd.merge(df01,df02,on='읍면동')\r\n",
        "    \r\n",
        "    print(i, list(set(code[code['대분류코드']==i]['대분류명'])))\r\n",
        "    #print(dong[dong > 0.6])\r\n",
        "\r\n",
        "    corr = corr.corr(method = 'pearson')\r\n",
        "    #corr.to_csv('png/{}'.format(i)+'.csv')\r\n",
        "    df_heatmap = sns.heatmap(corr)\r\n",
        "    plt.savefig('png/{}'.format(i)+'.png')\r\n",
        "\r\n",
        "    plt.clf()\r\n"
      ]
    },
    {
      "cell_type": "code",
      "execution_count": null,
      "metadata": {},
      "outputs": [],
      "source": []
    }
  ],
  "metadata": {
    "colab": {
      "collapsed_sections": [],
      "name": "data_summary_by_dong.ipynb",
      "provenance": []
    },
    "kernelspec": {
      "display_name": "Python 3",
      "language": "python",
      "name": "python3"
    },
    "language_info": {
      "codemirror_mode": {
        "name": "ipython",
        "version": 3
      },
      "file_extension": ".py",
      "mimetype": "text/x-python",
      "name": "python",
      "nbconvert_exporter": "python",
      "pygments_lexer": "ipython3",
      "version": "3.8.5"
    }
  },
  "nbformat": 4,
  "nbformat_minor": 0
}