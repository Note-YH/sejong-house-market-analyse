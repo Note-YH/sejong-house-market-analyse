{
  "cells": [
    {
      "cell_type": "code",
      "execution_count": 29,
      "metadata": {},
      "outputs": [],
      "source": [
        "import os, sys, json\r\n",
        "from xml.etree.ElementTree import parse\r\n",
        "from urllib.parse import urlencode, unquote, quote_plus\r\n",
        "import xmltodict\r\n",
        "import pandas as pd\r\n",
        "\r\n",
        "if sys.version_info[0]==3:\r\n",
        "    from urllib.request import urlopen\r\n",
        "else:\r\n",
        "    from urllib import urlopen\r\n",
        "\r\n",
        "\r\n",
        "BASE_DIR = './'\r\n",
        "\r\n",
        "# Secret File Load\r\n",
        "secret_file = os.path.join(BASE_DIR,'secret.json')\r\n",
        "with open(secret_file) as f:\r\n",
        "    secrets = json.loads(f.read())\r\n",
        "\r\n",
        "KEY = unquote(secrets['Enecoding'])"
      ]
    },
    {
      "cell_type": "markdown",
      "metadata": {},
      "source": [
        "**setting**\r\n",
        "bulidingtype = 0 : total, 1: apt, 3 : ali, 7 : sgl\r\n",
        "regio = city(36000 : sejong, A1000 : 전국, A2000 : 수도권, 11000 : seoul)\r\n",
        "startmonth/endmonth = yyyymm"
      ]
    },
    {
      "cell_type": "code",
      "execution_count": 319,
      "metadata": {},
      "outputs": [],
      "source": [
        "from itertools import product\r\n",
        "\r\n",
        "b_type = ['0','1','3','7']\r\n",
        "b_region = ['36000', 'A1000', 'A2000', '11000']\r\n",
        "list_com = list(product(b_region,b_type))"
      ]
    },
    {
      "cell_type": "code",
      "execution_count": 320,
      "metadata": {},
      "outputs": [],
      "source": [
        "def call_open_api(region,_type) : \r\n",
        "\r\n",
        "    URL = 'http://openapi.reb.or.kr/OpenAPI_ToolInstallPackage/service/rest/TradePrcIndexSvc/getTradePrcIndex'\r\n",
        "    queryParams = '?' + urlencode(\r\n",
        "        {\r\n",
        "            quote_plus('serviceKey') : KEY,\r\n",
        "            quote_plus('startmonth') : '201701',\r\n",
        "            quote_plus('endmonth') : '202102',\r\n",
        "            quote_plus('region') : region,\r\n",
        "            quote_plus('buildingtype') : _type,\r\n",
        "\r\n",
        "        }\r\n",
        "    )\r\n",
        "\r\n",
        "    response = urlopen(URL + queryParams).read()\r\n",
        "    decode_data = response.decode('utf-8')\r\n",
        "    \r\n",
        "    xml_parse =  xmltodict.parse(decode_data)\r\n",
        "    xml_dict = json.loads(json.dumps(xml_parse))\r\n",
        "\r\n",
        "    return xml_dict\r\n",
        "\r\n",
        "# cc = xmltodict.parse(tree) # return collections.OrderedDict\r\n",
        "# dd = json.loads(json.dumps(cc)) # return dict\r\n",
        "# animals = dd['animals']['animal']\r\n",
        "# print(animals) # 결과를 출력한다"
      ]
    },
    {
      "cell_type": "code",
      "execution_count": 340,
      "metadata": {},
      "outputs": [],
      "source": [
        "def writeDatafram(region, _type) :\r\n",
        "\r\n",
        "    new_data = call_open_api(region, _type)\r\n",
        "    new_data = new_data['response']['body']['item']\r\n",
        "   \r\n",
        "    df = pd.Series(new_data)\r\n",
        "    \r\n",
        "    return df"
      ]
    },
    {
      "cell_type": "code",
      "execution_count": 343,
      "metadata": {},
      "outputs": [
        {
          "data": {
            "text/html": "<div>\n<style scoped>\n    .dataframe tbody tr th:only-of-type {\n        vertical-align: middle;\n    }\n\n    .dataframe tbody tr th {\n        vertical-align: top;\n    }\n\n    .dataframe thead th {\n        text-align: right;\n    }\n</style>\n<table border=\"1\" class=\"dataframe\">\n  <thead>\n    <tr style=\"text-align: right;\">\n      <th></th>\n      <th>aptTypeNm</th>\n      <th>regionCd</th>\n      <th>regionNm</th>\n      <th>rsRow</th>\n    </tr>\n  </thead>\n  <tbody>\n    <tr>\n      <th>0</th>\n      <td>전체</td>\n      <td>36000</td>\n      <td>세종</td>\n      <td>201701,96.0|201702,96.0|201703,96.0|201704,96....</td>\n    </tr>\n    <tr>\n      <th>1</th>\n      <td>아파트</td>\n      <td>36000</td>\n      <td>세종</td>\n      <td>201701,95.9|201702,95.8|201703,95.7|201704,95....</td>\n    </tr>\n    <tr>\n      <th>2</th>\n      <td>연립/다세대</td>\n      <td>36000</td>\n      <td>세종</td>\n      <td>201701,99.4|201702,99.4|201703,99.3|201704,99....</td>\n    </tr>\n    <tr>\n      <th>3</th>\n      <td>단독</td>\n      <td>36000</td>\n      <td>세종</td>\n      <td>201701,96.0|201702,96.2|201703,96.5|201704,96....</td>\n    </tr>\n    <tr>\n      <th>4</th>\n      <td>전체</td>\n      <td>A1000</td>\n      <td>전국</td>\n      <td>201701,98.7|201702,98.7|201703,98.7|201704,98....</td>\n    </tr>\n    <tr>\n      <th>5</th>\n      <td>아파트</td>\n      <td>A1000</td>\n      <td>전국</td>\n      <td>201701,99.0|201702,99.0|201703,99.0|201704,99....</td>\n    </tr>\n    <tr>\n      <th>6</th>\n      <td>연립/다세대</td>\n      <td>A1000</td>\n      <td>전국</td>\n      <td>201701,99.0|201702,99.0|201703,99.1|201704,99....</td>\n    </tr>\n    <tr>\n      <th>7</th>\n      <td>단독</td>\n      <td>A1000</td>\n      <td>전국</td>\n      <td>201701,97.6|201702,97.7|201703,97.8|201704,98....</td>\n    </tr>\n    <tr>\n      <th>8</th>\n      <td>전체</td>\n      <td>A2000</td>\n      <td>수도권</td>\n      <td>201701,97.9|201702,98.0|201703,98.0|201704,98....</td>\n    </tr>\n    <tr>\n      <th>9</th>\n      <td>아파트</td>\n      <td>A2000</td>\n      <td>수도권</td>\n      <td>201701,97.7|201702,97.7|201703,97.8|201704,97....</td>\n    </tr>\n    <tr>\n      <th>10</th>\n      <td>연립/다세대</td>\n      <td>A2000</td>\n      <td>수도권</td>\n      <td>201701,98.6|201702,98.7|201703,98.7|201704,98....</td>\n    </tr>\n    <tr>\n      <th>11</th>\n      <td>단독</td>\n      <td>A2000</td>\n      <td>수도권</td>\n      <td>201701,97.9|201702,98.0|201703,98.1|201704,98....</td>\n    </tr>\n    <tr>\n      <th>12</th>\n      <td>전체</td>\n      <td>11000</td>\n      <td>서울</td>\n      <td>201701,97.1|201702,97.1|201703,97.3|201704,97....</td>\n    </tr>\n    <tr>\n      <th>13</th>\n      <td>아파트</td>\n      <td>11000</td>\n      <td>서울</td>\n      <td>201701,96.3|201702,96.4|201703,96.6|201704,96....</td>\n    </tr>\n    <tr>\n      <th>14</th>\n      <td>연립/다세대</td>\n      <td>11000</td>\n      <td>서울</td>\n      <td>201701,98.2|201702,98.3|201703,98.4|201704,98....</td>\n    </tr>\n    <tr>\n      <th>15</th>\n      <td>단독</td>\n      <td>11000</td>\n      <td>서울</td>\n      <td>201701,97.4|201702,97.4|201703,97.5|201704,97....</td>\n    </tr>\n  </tbody>\n</table>\n</div>",
            "text/plain": "   aptTypeNm regionCd regionNm  \\\n0         전체    36000       세종   \n1        아파트    36000       세종   \n2     연립/다세대    36000       세종   \n3         단독    36000       세종   \n4         전체    A1000       전국   \n5        아파트    A1000       전국   \n6     연립/다세대    A1000       전국   \n7         단독    A1000       전국   \n8         전체    A2000      수도권   \n9        아파트    A2000      수도권   \n10    연립/다세대    A2000      수도권   \n11        단독    A2000      수도권   \n12        전체    11000       서울   \n13       아파트    11000       서울   \n14    연립/다세대    11000       서울   \n15        단독    11000       서울   \n\n                                                rsRow  \n0   201701,96.0|201702,96.0|201703,96.0|201704,96....  \n1   201701,95.9|201702,95.8|201703,95.7|201704,95....  \n2   201701,99.4|201702,99.4|201703,99.3|201704,99....  \n3   201701,96.0|201702,96.2|201703,96.5|201704,96....  \n4   201701,98.7|201702,98.7|201703,98.7|201704,98....  \n5   201701,99.0|201702,99.0|201703,99.0|201704,99....  \n6   201701,99.0|201702,99.0|201703,99.1|201704,99....  \n7   201701,97.6|201702,97.7|201703,97.8|201704,98....  \n8   201701,97.9|201702,98.0|201703,98.0|201704,98....  \n9   201701,97.7|201702,97.7|201703,97.8|201704,97....  \n10  201701,98.6|201702,98.7|201703,98.7|201704,98....  \n11  201701,97.9|201702,98.0|201703,98.1|201704,98....  \n12  201701,97.1|201702,97.1|201703,97.3|201704,97....  \n13  201701,96.3|201702,96.4|201703,96.6|201704,96....  \n14  201701,98.2|201702,98.3|201703,98.4|201704,98....  \n15  201701,97.4|201702,97.4|201703,97.5|201704,97....  "
          },
          "execution_count": 343,
          "metadata": {},
          "output_type": "execute_result"
        }
      ],
      "source": [
        "sample = pd.DataFrame()\r\n",
        "for i in list_com :\r\n",
        "\r\n",
        "    (region, _type) = i\r\n",
        "    df = writeDatafram(region, _type)\r\n",
        "\r\n",
        "    sample = sample.append(df, ignore_index=True)\r\n",
        "\r\n",
        "sample\r\n",
        "\r\n"
      ]
    },
    {
      "cell_type": "code",
      "execution_count": null,
      "metadata": {},
      "outputs": [],
      "source": []
    }
  ],
  "metadata": {
    "colab": {
      "collapsed_sections": [],
      "name": "data_summary_by_dong.ipynb",
      "provenance": []
    },
    "kernelspec": {
      "display_name": "Python 3",
      "language": "python",
      "name": "python3"
    },
    "language_info": {
      "codemirror_mode": {
        "name": "ipython",
        "version": 3
      },
      "file_extension": ".py",
      "mimetype": "text/x-python",
      "name": "python",
      "nbconvert_exporter": "python",
      "pygments_lexer": "ipython3",
      "version": "3.8.5"
    }
  },
  "nbformat": 4,
  "nbformat_minor": 0
}