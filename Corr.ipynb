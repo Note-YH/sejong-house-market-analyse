{
 "cells": [
  {
   "cell_type": "code",
   "execution_count": 2,
   "metadata": {},
   "outputs": [],
   "source": [
    "import pandas as pd\r\n",
    "import numpy as np\r\n",
    "import json\r\n",
    "import re\r\n",
    "from plotnine import *\r\n",
    "import plotnine\r\n",
    "\r\n",
    "\r\n",
    "%matplotlib inline\r\n",
    "import matplotlib\r\n",
    "import matplotlib as mpl\r\n",
    "import matplotlib.pyplot as plt\r\n",
    "mpl.rc('axes', labelsize=12)\r\n",
    "mpl.rc('xtick', labelsize=8)\r\n",
    "mpl.rc('ytick', labelsize=8)\r\n",
    "plt.rcParams['axes.unicode_minus'] = False\r\n",
    "plt.rcParams[\"font.family\"] = 'NanumBarunGothic'\r\n",
    "plt.rcParams[\"font.size\"] = 20\r\n",
    "plt.rcParams[\"figure.figsize\"] = (15,8)\r\n",
    "\r\n",
    "\r\n",
    "# pandas max row \r\n",
    "pd.options.display.max_rows = 3000"
   ]
  },
  {
   "cell_type": "code",
   "execution_count": 27,
   "metadata": {},
   "outputs": [
    {
     "data": {
      "text/html": "<div>\n<style scoped>\n    .dataframe tbody tr th:only-of-type {\n        vertical-align: middle;\n    }\n\n    .dataframe tbody tr th {\n        vertical-align: top;\n    }\n\n    .dataframe thead th {\n        text-align: right;\n    }\n</style>\n<table border=\"1\" class=\"dataframe\">\n  <thead>\n    <tr style=\"text-align: right;\">\n      <th></th>\n      <th>Unnamed: 0</th>\n      <th>층</th>\n      <th>전용면적</th>\n      <th>계약일자</th>\n      <th>거래금액</th>\n      <th>아파트</th>\n      <th>지</th>\n      <th>PNU</th>\n      <th>번</th>\n      <th>층구분</th>\n      <th>세대수</th>\n      <th>층수</th>\n    </tr>\n  </thead>\n  <tbody>\n    <tr>\n      <th>0</th>\n      <td>0</td>\n      <td>5</td>\n      <td>84.0</td>\n      <td>2017-01-10</td>\n      <td>36400.0</td>\n      <td>새샘마을9단지(중흥S클래스리버뷰)</td>\n      <td>0</td>\n      <td>소담동05210000</td>\n      <td>0521</td>\n      <td>4.0</td>\n      <td>454.0</td>\n      <td>29.0</td>\n    </tr>\n    <tr>\n      <th>1</th>\n      <td>1</td>\n      <td>24</td>\n      <td>84.0</td>\n      <td>2017-01-20</td>\n      <td>39282.0</td>\n      <td>새샘마을9단지(중흥S클래스리버뷰)</td>\n      <td>0</td>\n      <td>소담동05210000</td>\n      <td>0521</td>\n      <td>4.0</td>\n      <td>454.0</td>\n      <td>29.0</td>\n    </tr>\n    <tr>\n      <th>2</th>\n      <td>2</td>\n      <td>13</td>\n      <td>97.0</td>\n      <td>2017-01-21</td>\n      <td>49000.0</td>\n      <td>새샘마을3단지(모아미래도리버시티)</td>\n      <td>0</td>\n      <td>소담동05500000</td>\n      <td>0550</td>\n      <td>4.0</td>\n      <td>4.0</td>\n      <td>29.0</td>\n    </tr>\n    <tr>\n      <th>3</th>\n      <td>3</td>\n      <td>7</td>\n      <td>97.0</td>\n      <td>2017-01-25</td>\n      <td>40800.0</td>\n      <td>새샘마을3단지(모아미래도리버시티)</td>\n      <td>0</td>\n      <td>소담동05500000</td>\n      <td>0550</td>\n      <td>4.0</td>\n      <td>4.0</td>\n      <td>29.0</td>\n    </tr>\n    <tr>\n      <th>4</th>\n      <td>4</td>\n      <td>7</td>\n      <td>16.0</td>\n      <td>2017-01-01</td>\n      <td>8600.0</td>\n      <td>스타힐타워Ⅰ</td>\n      <td>0</td>\n      <td>보람동07430000</td>\n      <td>0743</td>\n      <td>1.0</td>\n      <td>4.0</td>\n      <td>8.0</td>\n    </tr>\n  </tbody>\n</table>\n</div>",
      "text/plain": "   Unnamed: 0   층  전용면적        계약일자     거래금액                 아파트  지  \\\n0           0   5  84.0  2017-01-10  36400.0  새샘마을9단지(중흥S클래스리버뷰)  0   \n1           1  24  84.0  2017-01-20  39282.0  새샘마을9단지(중흥S클래스리버뷰)  0   \n2           2  13  97.0  2017-01-21  49000.0  새샘마을3단지(모아미래도리버시티)  0   \n3           3   7  97.0  2017-01-25  40800.0  새샘마을3단지(모아미래도리버시티)  0   \n4           4   7  16.0  2017-01-01   8600.0              스타힐타워Ⅰ  0   \n\n           PNU     번  층구분    세대수    층수  \n0  소담동05210000  0521  4.0  454.0  29.0  \n1  소담동05210000  0521  4.0  454.0  29.0  \n2  소담동05500000  0550  4.0    4.0  29.0  \n3  소담동05500000  0550  4.0    4.0  29.0  \n4  보람동07430000  0743  1.0    4.0   8.0  "
     },
     "execution_count": 27,
     "metadata": {},
     "output_type": "execute_result"
    }
   ],
   "source": [
    "trd = pd.read_csv('data\\매매값_아파트정보.csv')\r\n",
    "trd.head()"
   ]
  },
  {
   "cell_type": "markdown",
   "metadata": {},
   "source": [
    "## 1. 아파트별 가격과의 관계 분석"
   ]
  },
  {
   "cell_type": "markdown",
   "metadata": {},
   "source": [
    "### 1.1 데이터"
   ]
  },
  {
   "cell_type": "code",
   "execution_count": 28,
   "metadata": {},
   "outputs": [
    {
     "data": {
      "text/html": "<div>\n<style scoped>\n    .dataframe tbody tr th:only-of-type {\n        vertical-align: middle;\n    }\n\n    .dataframe tbody tr th {\n        vertical-align: top;\n    }\n\n    .dataframe thead th {\n        text-align: right;\n    }\n</style>\n<table border=\"1\" class=\"dataframe\">\n  <thead>\n    <tr style=\"text-align: right;\">\n      <th></th>\n      <th>층</th>\n      <th>전용면적</th>\n      <th>계약일자</th>\n      <th>거래금액</th>\n      <th>아파트</th>\n      <th>층구분</th>\n      <th>세대수</th>\n      <th>층수</th>\n      <th>동</th>\n      <th>면적당가격</th>\n    </tr>\n  </thead>\n  <tbody>\n    <tr>\n      <th>0</th>\n      <td>5</td>\n      <td>84.0</td>\n      <td>2017-01-10</td>\n      <td>36400.0</td>\n      <td>새샘마을9단지(중흥S클래스리버뷰)</td>\n      <td>4.0</td>\n      <td>454.0</td>\n      <td>29.0</td>\n      <td>소담동</td>\n      <td>433.333333</td>\n    </tr>\n    <tr>\n      <th>1</th>\n      <td>24</td>\n      <td>84.0</td>\n      <td>2017-01-20</td>\n      <td>39282.0</td>\n      <td>새샘마을9단지(중흥S클래스리버뷰)</td>\n      <td>4.0</td>\n      <td>454.0</td>\n      <td>29.0</td>\n      <td>소담동</td>\n      <td>467.642857</td>\n    </tr>\n    <tr>\n      <th>2</th>\n      <td>13</td>\n      <td>97.0</td>\n      <td>2017-01-21</td>\n      <td>49000.0</td>\n      <td>새샘마을3단지(모아미래도리버시티)</td>\n      <td>4.0</td>\n      <td>4.0</td>\n      <td>29.0</td>\n      <td>소담동</td>\n      <td>505.154639</td>\n    </tr>\n    <tr>\n      <th>3</th>\n      <td>7</td>\n      <td>97.0</td>\n      <td>2017-01-25</td>\n      <td>40800.0</td>\n      <td>새샘마을3단지(모아미래도리버시티)</td>\n      <td>4.0</td>\n      <td>4.0</td>\n      <td>29.0</td>\n      <td>소담동</td>\n      <td>420.618557</td>\n    </tr>\n    <tr>\n      <th>4</th>\n      <td>7</td>\n      <td>16.0</td>\n      <td>2017-01-01</td>\n      <td>8600.0</td>\n      <td>스타힐타워Ⅰ</td>\n      <td>1.0</td>\n      <td>4.0</td>\n      <td>8.0</td>\n      <td>보람동</td>\n      <td>537.500000</td>\n    </tr>\n    <tr>\n      <th>...</th>\n      <td>...</td>\n      <td>...</td>\n      <td>...</td>\n      <td>...</td>\n      <td>...</td>\n      <td>...</td>\n      <td>...</td>\n      <td>...</td>\n      <td>...</td>\n      <td>...</td>\n    </tr>\n    <tr>\n      <th>24412</th>\n      <td>5</td>\n      <td>59.0</td>\n      <td>2021-02-18</td>\n      <td>7000.0</td>\n      <td>민석그린</td>\n      <td>1.0</td>\n      <td>0.0</td>\n      <td>5.0</td>\n      <td>전의면</td>\n      <td>118.644068</td>\n    </tr>\n    <tr>\n      <th>24413</th>\n      <td>5</td>\n      <td>49.0</td>\n      <td>2021-02-03</td>\n      <td>5200.0</td>\n      <td>도원</td>\n      <td>1.0</td>\n      <td>100.0</td>\n      <td>5.0</td>\n      <td>전동면</td>\n      <td>106.122449</td>\n    </tr>\n    <tr>\n      <th>24414</th>\n      <td>5</td>\n      <td>49.0</td>\n      <td>2021-02-23</td>\n      <td>5200.0</td>\n      <td>도원</td>\n      <td>1.0</td>\n      <td>100.0</td>\n      <td>5.0</td>\n      <td>전동면</td>\n      <td>106.122449</td>\n    </tr>\n    <tr>\n      <th>24415</th>\n      <td>7</td>\n      <td>59.0</td>\n      <td>2021-02-01</td>\n      <td>5000.0</td>\n      <td>무궁화</td>\n      <td>2.0</td>\n      <td>0.0</td>\n      <td>12.0</td>\n      <td>소정면</td>\n      <td>84.745763</td>\n    </tr>\n    <tr>\n      <th>24416</th>\n      <td>7</td>\n      <td>59.0</td>\n      <td>2021-02-08</td>\n      <td>6300.0</td>\n      <td>무궁화</td>\n      <td>2.0</td>\n      <td>0.0</td>\n      <td>12.0</td>\n      <td>소정면</td>\n      <td>106.779661</td>\n    </tr>\n  </tbody>\n</table>\n<p>24417 rows × 10 columns</p>\n</div>",
      "text/plain": "        층  전용면적        계약일자     거래금액                 아파트  층구분    세대수    층수  \\\n0       5  84.0  2017-01-10  36400.0  새샘마을9단지(중흥S클래스리버뷰)  4.0  454.0  29.0   \n1      24  84.0  2017-01-20  39282.0  새샘마을9단지(중흥S클래스리버뷰)  4.0  454.0  29.0   \n2      13  97.0  2017-01-21  49000.0  새샘마을3단지(모아미래도리버시티)  4.0    4.0  29.0   \n3       7  97.0  2017-01-25  40800.0  새샘마을3단지(모아미래도리버시티)  4.0    4.0  29.0   \n4       7  16.0  2017-01-01   8600.0              스타힐타워Ⅰ  1.0    4.0   8.0   \n...    ..   ...         ...      ...                 ...  ...    ...   ...   \n24412   5  59.0  2021-02-18   7000.0                민석그린  1.0    0.0   5.0   \n24413   5  49.0  2021-02-03   5200.0                  도원  1.0  100.0   5.0   \n24414   5  49.0  2021-02-23   5200.0                  도원  1.0  100.0   5.0   \n24415   7  59.0  2021-02-01   5000.0                 무궁화  2.0    0.0  12.0   \n24416   7  59.0  2021-02-08   6300.0                 무궁화  2.0    0.0  12.0   \n\n         동       면적당가격  \n0      소담동  433.333333  \n1      소담동  467.642857  \n2      소담동  505.154639  \n3      소담동  420.618557  \n4      보람동  537.500000  \n...    ...         ...  \n24412  전의면  118.644068  \n24413  전동면  106.122449  \n24414  전동면  106.122449  \n24415  소정면   84.745763  \n24416  소정면  106.779661  \n\n[24417 rows x 10 columns]"
     },
     "execution_count": 28,
     "metadata": {},
     "output_type": "execute_result"
    }
   ],
   "source": [
    "trd['동'] = trd['PNU'].str[:-8]\r\n",
    "trd_re = trd.drop({'Unnamed: 0','PNU','지','번'},axis = 1)\r\n",
    "trd_re['면적당가격'] = trd_re['거래금액'] / trd_re['전용면적']\r\n",
    "trd_re"
   ]
  },
  {
   "cell_type": "code",
   "execution_count": 32,
   "metadata": {},
   "outputs": [],
   "source": [
    "# 아파트 기준 정렬\r\n",
    "apt_recent = trd_re.groupby(['아파트','전용면적']).agg('first')\r\n",
    "apt_recent = apt_recent[{'층구분','세대수','동','층수'}]\r\n",
    "apt_recent = apt_recent.reset_index(level=[0,1])\r\n",
    "apt_recent = apt_recent.loc[~(apt_recent['세대수'] == 0)]"
   ]
  },
  {
   "cell_type": "code",
   "execution_count": 64,
   "metadata": {},
   "outputs": [],
   "source": [
    "#최근 5건\r\n",
    "price_5 = []\r\n",
    "for i in apt_recent.index :\r\n",
    "    a = apt_recent.loc[i,'아파트']\r\n",
    "    b = apt_recent.loc[i,'전용면적']\r\n",
    "\r\n",
    "    df = trd_re[(trd_re['아파트'] == a) & (trd_re['전용면적'] == b) ]\r\n",
    "    recent = df[-5:]\r\n",
    "    price = recent['면적당가격'].mean()\r\n",
    "    price_5.append(price)\r\n",
    "\r\n",
    "apt_recent['최근5건'] = price_5"
   ]
  },
  {
   "cell_type": "code",
   "execution_count": 59,
   "metadata": {},
   "outputs": [
    {
     "data": {
      "text/html": "<div>\n<style scoped>\n    .dataframe tbody tr th:only-of-type {\n        vertical-align: middle;\n    }\n\n    .dataframe tbody tr th {\n        vertical-align: top;\n    }\n\n    .dataframe thead th {\n        text-align: right;\n    }\n</style>\n<table border=\"1\" class=\"dataframe\">\n  <thead>\n    <tr style=\"text-align: right;\">\n      <th></th>\n      <th>아파트</th>\n      <th>전용면적</th>\n      <th>층구분</th>\n      <th>동</th>\n      <th>층수</th>\n      <th>세대수</th>\n      <th>최근5건</th>\n    </tr>\n  </thead>\n  <tbody>\n    <tr>\n      <th>2</th>\n      <td>SR파크센텀</td>\n      <td>17.0</td>\n      <td>1.0</td>\n      <td>나성동</td>\n      <td>8.0</td>\n      <td>50.0</td>\n      <td>579.411765</td>\n    </tr>\n    <tr>\n      <th>3</th>\n      <td>SR파크센텀</td>\n      <td>19.0</td>\n      <td>1.0</td>\n      <td>나성동</td>\n      <td>8.0</td>\n      <td>50.0</td>\n      <td>488.157895</td>\n    </tr>\n    <tr>\n      <th>4</th>\n      <td>SR파크센텀</td>\n      <td>20.0</td>\n      <td>1.0</td>\n      <td>나성동</td>\n      <td>8.0</td>\n      <td>50.0</td>\n      <td>547.500000</td>\n    </tr>\n    <tr>\n      <th>5</th>\n      <td>SR파크센텀</td>\n      <td>21.0</td>\n      <td>1.0</td>\n      <td>나성동</td>\n      <td>8.0</td>\n      <td>50.0</td>\n      <td>535.714286</td>\n    </tr>\n    <tr>\n      <th>6</th>\n      <td>SR파크센텀</td>\n      <td>23.0</td>\n      <td>1.0</td>\n      <td>나성동</td>\n      <td>8.0</td>\n      <td>50.0</td>\n      <td>497.826087</td>\n    </tr>\n  </tbody>\n</table>\n</div>",
      "text/plain": "      아파트  전용면적  층구분    동   층수   세대수        최근5건\n2  SR파크센텀  17.0  1.0  나성동  8.0  50.0  579.411765\n3  SR파크센텀  19.0  1.0  나성동  8.0  50.0  488.157895\n4  SR파크센텀  20.0  1.0  나성동  8.0  50.0  547.500000\n5  SR파크센텀  21.0  1.0  나성동  8.0  50.0  535.714286\n6  SR파크센텀  23.0  1.0  나성동  8.0  50.0  497.826087"
     },
     "execution_count": 59,
     "metadata": {},
     "output_type": "execute_result"
    }
   ],
   "source": [
    "apt_recent.head()"
   ]
  },
  {
   "cell_type": "markdown",
   "metadata": {},
   "source": [
    "### 1.2 상관분석"
   ]
  },
  {
   "cell_type": "code",
   "execution_count": 60,
   "metadata": {},
   "outputs": [
    {
     "data": {
      "text/html": "<div>\n<style scoped>\n    .dataframe tbody tr th:only-of-type {\n        vertical-align: middle;\n    }\n\n    .dataframe tbody tr th {\n        vertical-align: top;\n    }\n\n    .dataframe thead th {\n        text-align: right;\n    }\n</style>\n<table border=\"1\" class=\"dataframe\">\n  <thead>\n    <tr style=\"text-align: right;\">\n      <th></th>\n      <th>전용면적</th>\n      <th>층구분</th>\n      <th>층수</th>\n      <th>세대수</th>\n      <th>최근5건</th>\n    </tr>\n  </thead>\n  <tbody>\n    <tr>\n      <th>전용면적</th>\n      <td>1.000000</td>\n      <td>0.601982</td>\n      <td>0.608331</td>\n      <td>0.124942</td>\n      <td>0.266595</td>\n    </tr>\n    <tr>\n      <th>층구분</th>\n      <td>0.601982</td>\n      <td>1.000000</td>\n      <td>0.963399</td>\n      <td>0.400307</td>\n      <td>0.657796</td>\n    </tr>\n    <tr>\n      <th>층수</th>\n      <td>0.608331</td>\n      <td>0.963399</td>\n      <td>1.000000</td>\n      <td>0.383778</td>\n      <td>0.675678</td>\n    </tr>\n    <tr>\n      <th>세대수</th>\n      <td>0.124942</td>\n      <td>0.400307</td>\n      <td>0.383778</td>\n      <td>1.000000</td>\n      <td>0.316591</td>\n    </tr>\n    <tr>\n      <th>최근5건</th>\n      <td>0.266595</td>\n      <td>0.657796</td>\n      <td>0.675678</td>\n      <td>0.316591</td>\n      <td>1.000000</td>\n    </tr>\n  </tbody>\n</table>\n</div>",
      "text/plain": "          전용면적       층구분        층수       세대수      최근5건\n전용면적  1.000000  0.601982  0.608331  0.124942  0.266595\n층구분   0.601982  1.000000  0.963399  0.400307  0.657796\n층수    0.608331  0.963399  1.000000  0.383778  0.675678\n세대수   0.124942  0.400307  0.383778  1.000000  0.316591\n최근5건  0.266595  0.657796  0.675678  0.316591  1.000000"
     },
     "execution_count": 60,
     "metadata": {},
     "output_type": "execute_result"
    }
   ],
   "source": [
    "corr = apt_recent.corr(method = 'pearson')\r\n",
    "corr"
   ]
  },
  {
   "cell_type": "markdown",
   "metadata": {},
   "source": [
    "층구분 >> 양의 상관관계 : 아파트 정보 / 지역정보 추가"
   ]
  },
  {
   "cell_type": "code",
   "execution_count": 61,
   "metadata": {},
   "outputs": [
    {
     "data": {
      "text/html": "<div>\n<style scoped>\n    .dataframe tbody tr th:only-of-type {\n        vertical-align: middle;\n    }\n\n    .dataframe tbody tr th {\n        vertical-align: top;\n    }\n\n    .dataframe thead th {\n        text-align: right;\n    }\n</style>\n<table border=\"1\" class=\"dataframe\">\n  <thead>\n    <tr style=\"text-align: right;\">\n      <th></th>\n      <th>아파트</th>\n      <th>전용면적</th>\n      <th>층구분</th>\n      <th>동</th>\n      <th>층수</th>\n      <th>세대수</th>\n      <th>최근5건</th>\n      <th>평균</th>\n      <th>총세대수</th>\n      <th>세대비율</th>\n    </tr>\n  </thead>\n  <tbody>\n    <tr>\n      <th>0</th>\n      <td>SR파크센텀</td>\n      <td>17.0</td>\n      <td>1.0</td>\n      <td>나성동</td>\n      <td>8.0</td>\n      <td>50.0</td>\n      <td>579.411765</td>\n      <td>529.722006</td>\n      <td>250.0</td>\n      <td>0.2</td>\n    </tr>\n    <tr>\n      <th>1</th>\n      <td>SR파크센텀</td>\n      <td>19.0</td>\n      <td>1.0</td>\n      <td>나성동</td>\n      <td>8.0</td>\n      <td>50.0</td>\n      <td>488.157895</td>\n      <td>529.722006</td>\n      <td>250.0</td>\n      <td>0.2</td>\n    </tr>\n    <tr>\n      <th>2</th>\n      <td>SR파크센텀</td>\n      <td>20.0</td>\n      <td>1.0</td>\n      <td>나성동</td>\n      <td>8.0</td>\n      <td>50.0</td>\n      <td>547.500000</td>\n      <td>529.722006</td>\n      <td>250.0</td>\n      <td>0.2</td>\n    </tr>\n    <tr>\n      <th>3</th>\n      <td>SR파크센텀</td>\n      <td>21.0</td>\n      <td>1.0</td>\n      <td>나성동</td>\n      <td>8.0</td>\n      <td>50.0</td>\n      <td>535.714286</td>\n      <td>529.722006</td>\n      <td>250.0</td>\n      <td>0.2</td>\n    </tr>\n    <tr>\n      <th>4</th>\n      <td>SR파크센텀</td>\n      <td>23.0</td>\n      <td>1.0</td>\n      <td>나성동</td>\n      <td>8.0</td>\n      <td>50.0</td>\n      <td>497.826087</td>\n      <td>529.722006</td>\n      <td>250.0</td>\n      <td>0.2</td>\n    </tr>\n  </tbody>\n</table>\n</div>",
      "text/plain": "      아파트  전용면적  층구분    동   층수   세대수        최근5건          평균   총세대수  세대비율\n0  SR파크센텀  17.0  1.0  나성동  8.0  50.0  579.411765  529.722006  250.0   0.2\n1  SR파크센텀  19.0  1.0  나성동  8.0  50.0  488.157895  529.722006  250.0   0.2\n2  SR파크센텀  20.0  1.0  나성동  8.0  50.0  547.500000  529.722006  250.0   0.2\n3  SR파크센텀  21.0  1.0  나성동  8.0  50.0  535.714286  529.722006  250.0   0.2\n4  SR파크센텀  23.0  1.0  나성동  8.0  50.0  497.826087  529.722006  250.0   0.2"
     },
     "execution_count": 61,
     "metadata": {},
     "output_type": "execute_result"
    }
   ],
   "source": [
    "apt_info = apt_recent.groupby('아파트').agg({'최근5건' : 'mean','세대수' : 'sum'})\r\n",
    "apt_info = apt_info.reset_index()\r\n",
    "apt_info.columns = ['아파트','평균','총세대수']\r\n",
    "data = apt_recent.merge(apt_info)\r\n",
    "data['세대비율'] = data['세대수'] / data['총세대수']\r\n",
    "data.head()"
   ]
  },
  {
   "cell_type": "code",
   "execution_count": 62,
   "metadata": {},
   "outputs": [
    {
     "data": {
      "text/html": "<div>\n<style scoped>\n    .dataframe tbody tr th:only-of-type {\n        vertical-align: middle;\n    }\n\n    .dataframe tbody tr th {\n        vertical-align: top;\n    }\n\n    .dataframe thead th {\n        text-align: right;\n    }\n</style>\n<table border=\"1\" class=\"dataframe\">\n  <thead>\n    <tr style=\"text-align: right;\">\n      <th></th>\n      <th>아파트</th>\n      <th>전용면적</th>\n      <th>층구분</th>\n      <th>동</th>\n      <th>층수</th>\n      <th>세대수</th>\n      <th>최근5건</th>\n      <th>평균</th>\n      <th>총세대수</th>\n      <th>세대비율</th>\n      <th>지역평균</th>\n      <th>공급수</th>\n    </tr>\n  </thead>\n  <tbody>\n    <tr>\n      <th>514</th>\n      <td>해밀마을1단지</td>\n      <td>59.0</td>\n      <td>3.0</td>\n      <td>해밀동</td>\n      <td>25.0</td>\n      <td>930.0</td>\n      <td>706.271186</td>\n      <td>780.264999</td>\n      <td>1810.0</td>\n      <td>0.513812</td>\n      <td>841.121518</td>\n      <td>2605.0</td>\n    </tr>\n    <tr>\n      <th>515</th>\n      <td>해밀마을1단지</td>\n      <td>84.0</td>\n      <td>3.0</td>\n      <td>해밀동</td>\n      <td>25.0</td>\n      <td>780.0</td>\n      <td>967.857143</td>\n      <td>780.264999</td>\n      <td>1810.0</td>\n      <td>0.430939</td>\n      <td>841.121518</td>\n      <td>2605.0</td>\n    </tr>\n    <tr>\n      <th>516</th>\n      <td>해밀마을1단지</td>\n      <td>120.0</td>\n      <td>3.0</td>\n      <td>해밀동</td>\n      <td>25.0</td>\n      <td>100.0</td>\n      <td>666.666667</td>\n      <td>780.264999</td>\n      <td>1810.0</td>\n      <td>0.055249</td>\n      <td>841.121518</td>\n      <td>2605.0</td>\n    </tr>\n    <tr>\n      <th>517</th>\n      <td>해밀마을2단지</td>\n      <td>84.0</td>\n      <td>3.0</td>\n      <td>해밀동</td>\n      <td>25.0</td>\n      <td>561.0</td>\n      <td>802.721088</td>\n      <td>932.406296</td>\n      <td>795.0</td>\n      <td>0.705660</td>\n      <td>841.121518</td>\n      <td>2605.0</td>\n    </tr>\n    <tr>\n      <th>518</th>\n      <td>해밀마을2단지</td>\n      <td>102.0</td>\n      <td>3.0</td>\n      <td>해밀동</td>\n      <td>25.0</td>\n      <td>234.0</td>\n      <td>1062.091503</td>\n      <td>932.406296</td>\n      <td>795.0</td>\n      <td>0.294340</td>\n      <td>841.121518</td>\n      <td>2605.0</td>\n    </tr>\n  </tbody>\n</table>\n</div>",
      "text/plain": "         아파트   전용면적  층구분    동    층수    세대수         최근5건          평균    총세대수  \\\n514  해밀마을1단지   59.0  3.0  해밀동  25.0  930.0   706.271186  780.264999  1810.0   \n515  해밀마을1단지   84.0  3.0  해밀동  25.0  780.0   967.857143  780.264999  1810.0   \n516  해밀마을1단지  120.0  3.0  해밀동  25.0  100.0   666.666667  780.264999  1810.0   \n517  해밀마을2단지   84.0  3.0  해밀동  25.0  561.0   802.721088  932.406296   795.0   \n518  해밀마을2단지  102.0  3.0  해밀동  25.0  234.0  1062.091503  932.406296   795.0   \n\n         세대비율        지역평균     공급수  \n514  0.513812  841.121518  2605.0  \n515  0.430939  841.121518  2605.0  \n516  0.055249  841.121518  2605.0  \n517  0.705660  841.121518  2605.0  \n518  0.294340  841.121518  2605.0  "
     },
     "execution_count": 62,
     "metadata": {},
     "output_type": "execute_result"
    }
   ],
   "source": [
    "dong_info = apt_recent.groupby('동').agg({'최근5건' : 'mean','세대수' : 'sum'})\r\n",
    "dong_info = dong_info.reset_index()\r\n",
    "dong_info.columns = ['동','지역평균','공급수']\r\n",
    "data = data.merge(dong_info)\r\n",
    "data.tail()"
   ]
  },
  {
   "cell_type": "code",
   "execution_count": 63,
   "metadata": {},
   "outputs": [
    {
     "data": {
      "text/html": "<div>\n<style scoped>\n    .dataframe tbody tr th:only-of-type {\n        vertical-align: middle;\n    }\n\n    .dataframe tbody tr th {\n        vertical-align: top;\n    }\n\n    .dataframe thead th {\n        text-align: right;\n    }\n</style>\n<table border=\"1\" class=\"dataframe\">\n  <thead>\n    <tr style=\"text-align: right;\">\n      <th></th>\n      <th>전용면적</th>\n      <th>층구분</th>\n      <th>층수</th>\n      <th>세대수</th>\n      <th>최근5건</th>\n      <th>평균</th>\n      <th>총세대수</th>\n      <th>세대비율</th>\n      <th>지역평균</th>\n      <th>공급수</th>\n    </tr>\n  </thead>\n  <tbody>\n    <tr>\n      <th>전용면적</th>\n      <td>1.000000</td>\n      <td>0.601982</td>\n      <td>0.608331</td>\n      <td>0.124942</td>\n      <td>0.266595</td>\n      <td>0.328862</td>\n      <td>0.223095</td>\n      <td>0.023381</td>\n      <td>0.251644</td>\n      <td>0.273582</td>\n    </tr>\n    <tr>\n      <th>층구분</th>\n      <td>0.601982</td>\n      <td>1.000000</td>\n      <td>0.963399</td>\n      <td>0.400307</td>\n      <td>0.657796</td>\n      <td>0.694690</td>\n      <td>0.447268</td>\n      <td>0.127539</td>\n      <td>0.586678</td>\n      <td>0.234252</td>\n    </tr>\n    <tr>\n      <th>층수</th>\n      <td>0.608331</td>\n      <td>0.963399</td>\n      <td>1.000000</td>\n      <td>0.383778</td>\n      <td>0.675678</td>\n      <td>0.713293</td>\n      <td>0.422597</td>\n      <td>0.145492</td>\n      <td>0.622166</td>\n      <td>0.299695</td>\n    </tr>\n    <tr>\n      <th>세대수</th>\n      <td>0.124942</td>\n      <td>0.400307</td>\n      <td>0.383778</td>\n      <td>1.000000</td>\n      <td>0.316591</td>\n      <td>0.317400</td>\n      <td>0.762111</td>\n      <td>0.528330</td>\n      <td>0.232035</td>\n      <td>0.279463</td>\n    </tr>\n    <tr>\n      <th>최근5건</th>\n      <td>0.266595</td>\n      <td>0.657796</td>\n      <td>0.675678</td>\n      <td>0.316591</td>\n      <td>1.000000</td>\n      <td>0.947266</td>\n      <td>0.278663</td>\n      <td>0.072424</td>\n      <td>0.847447</td>\n      <td>0.156330</td>\n    </tr>\n    <tr>\n      <th>평균</th>\n      <td>0.328862</td>\n      <td>0.694690</td>\n      <td>0.713293</td>\n      <td>0.317400</td>\n      <td>0.947266</td>\n      <td>1.000000</td>\n      <td>0.294177</td>\n      <td>0.066390</td>\n      <td>0.894625</td>\n      <td>0.165033</td>\n    </tr>\n    <tr>\n      <th>총세대수</th>\n      <td>0.223095</td>\n      <td>0.447268</td>\n      <td>0.422597</td>\n      <td>0.762111</td>\n      <td>0.278663</td>\n      <td>0.294177</td>\n      <td>1.000000</td>\n      <td>0.093332</td>\n      <td>0.267544</td>\n      <td>0.220136</td>\n    </tr>\n    <tr>\n      <th>세대비율</th>\n      <td>0.023381</td>\n      <td>0.127539</td>\n      <td>0.145492</td>\n      <td>0.528330</td>\n      <td>0.072424</td>\n      <td>0.066390</td>\n      <td>0.093332</td>\n      <td>1.000000</td>\n      <td>-0.052068</td>\n      <td>0.171357</td>\n    </tr>\n    <tr>\n      <th>지역평균</th>\n      <td>0.251644</td>\n      <td>0.586678</td>\n      <td>0.622166</td>\n      <td>0.232035</td>\n      <td>0.847447</td>\n      <td>0.894625</td>\n      <td>0.267544</td>\n      <td>-0.052068</td>\n      <td>1.000000</td>\n      <td>0.184472</td>\n    </tr>\n    <tr>\n      <th>공급수</th>\n      <td>0.273582</td>\n      <td>0.234252</td>\n      <td>0.299695</td>\n      <td>0.279463</td>\n      <td>0.156330</td>\n      <td>0.165033</td>\n      <td>0.220136</td>\n      <td>0.171357</td>\n      <td>0.184472</td>\n      <td>1.000000</td>\n    </tr>\n  </tbody>\n</table>\n</div>",
      "text/plain": "          전용면적       층구분        층수       세대수      최근5건        평균      총세대수  \\\n전용면적  1.000000  0.601982  0.608331  0.124942  0.266595  0.328862  0.223095   \n층구분   0.601982  1.000000  0.963399  0.400307  0.657796  0.694690  0.447268   \n층수    0.608331  0.963399  1.000000  0.383778  0.675678  0.713293  0.422597   \n세대수   0.124942  0.400307  0.383778  1.000000  0.316591  0.317400  0.762111   \n최근5건  0.266595  0.657796  0.675678  0.316591  1.000000  0.947266  0.278663   \n평균    0.328862  0.694690  0.713293  0.317400  0.947266  1.000000  0.294177   \n총세대수  0.223095  0.447268  0.422597  0.762111  0.278663  0.294177  1.000000   \n세대비율  0.023381  0.127539  0.145492  0.528330  0.072424  0.066390  0.093332   \n지역평균  0.251644  0.586678  0.622166  0.232035  0.847447  0.894625  0.267544   \n공급수   0.273582  0.234252  0.299695  0.279463  0.156330  0.165033  0.220136   \n\n          세대비율      지역평균       공급수  \n전용면적  0.023381  0.251644  0.273582  \n층구분   0.127539  0.586678  0.234252  \n층수    0.145492  0.622166  0.299695  \n세대수   0.528330  0.232035  0.279463  \n최근5건  0.072424  0.847447  0.156330  \n평균    0.066390  0.894625  0.165033  \n총세대수  0.093332  0.267544  0.220136  \n세대비율  1.000000 -0.052068  0.171357  \n지역평균 -0.052068  1.000000  0.184472  \n공급수   0.171357  0.184472  1.000000  "
     },
     "execution_count": 63,
     "metadata": {},
     "output_type": "execute_result"
    }
   ],
   "source": [
    "corr = data.corr(method = 'pearson')\r\n",
    "corr"
   ]
  },
  {
   "cell_type": "code",
   "execution_count": 82,
   "metadata": {},
   "outputs": [
    {
     "data": {
      "image/png": "[encoded data removed]",
      "text/plain": "<Figure size 1080x576 with 1 Axes>"
     },
     "metadata": {
      "needs_background": "light"
     },
     "output_type": "display_data"
    }
   ],
   "source": [
    "df01 = data.groupby('동').agg({'최근5건' : 'mean','층수' : 'first', '총세대수': 'first','전용면적' : 'mean'})\r\n",
    "plt.scatter(df01['최근5건'],df01['전용면적'])\r\n",
    "plt.show()"
   ]
  },
  {
   "cell_type": "code",
   "execution_count": 65,
   "metadata": {},
   "outputs": [
    {
     "data": {
      "image/png": "[encoded data removed]",
      "text/plain": "<Figure size 1080x576 with 1 Axes>"
     },
     "metadata": {
      "needs_background": "light"
     },
     "output_type": "display_data"
    }
   ],
   "source": [
    "plt.scatter(data['전용면적'],data['최근5건'])\r\n",
    "plt.show()"
   ]
  },
  {
   "cell_type": "code",
   "execution_count": 50,
   "metadata": {},
   "outputs": [
    {
     "name": "stdout",
     "output_type": "stream",
     "text": [
      "                 Generalized Linear Model Regression Results                  \n",
      "==============================================================================\n",
      "Dep. Variable:           data['최근5건']   No. Observations:                  519\n",
      "Model:                            GLM   Df Residuals:                      513\n",
      "Model Family:                Binomial   Df Model:                            5\n",
      "Link Function:                  logit   Scale:                          1.0000\n",
      "Method:                          IRLS   Log-Likelihood:                   -inf\n",
      "Date:                Sat, 03 Apr 2021   Deviance:                   2.9146e+07\n",
      "Time:                        18:57:55   Pearson chi2:                 1.21e+24\n",
      "No. Iterations:                     2                                         \n",
      "Covariance Type:            nonrobust                                         \n",
      "================================================================================\n",
      "                   coef    std err          z      P>|z|      [0.025      0.975]\n",
      "--------------------------------------------------------------------------------\n",
      "Intercept      1.77e+18   9.11e+06   1.94e+11      0.000    1.77e+18    1.77e+18\n",
      "data['전용면적'] -1.102e+16   1.09e+05  -1.01e+11      0.000    -1.1e+16    -1.1e+16\n",
      "data['층수']    1.276e+17   1.27e+06   1.01e+11      0.000    1.28e+17    1.28e+17\n",
      "data['층구분']   4.214e+17   9.71e+06   4.34e+10      0.000    4.21e+17    4.21e+17\n",
      "data['세대수']   9.094e+14    2.1e+04   4.33e+10      0.000    9.09e+14    9.09e+14\n",
      "data['세대비율'] -4.505e+17   1.67e+07   -2.7e+10      0.000   -4.51e+17   -4.51e+17\n",
      "================================================================================\n"
     ]
    }
   ],
   "source": [
    "import statsmodels.api as sm\r\n",
    "# logistic regression\r\n",
    "\r\n",
    "model = sm.formula.glm(\"data['최근5건'] ~ data['전용면적']+data['층수']+data['층구분']+data['세대수']+data['세대비율']\", data, family = sm.families.Binomial()).fit()\r\n",
    "print(model.summary())"
   ]
  },
  {
   "cell_type": "code",
   "execution_count": null,
   "metadata": {},
   "outputs": [],
   "source": []
  }
 ],
 "metadata": {
  "kernelspec": {
   "display_name": "Python 3.8.5 64-bit ('base': conda)",
   "name": "python385jvsc74a57bd0ed225720166559e7176d3793db16a2fd8d295f725007103b21ac3099d2a89ee8"
  },
  "language_info": {
   "codemirror_mode": {
    "name": "ipython",
    "version": 3
   },
   "file_extension": ".py",
   "mimetype": "text/x-python",
   "name": "python",
   "nbconvert_exporter": "python",
   "pygments_lexer": "ipython3",
   "version": "3.8.5"
  },
  "orig_nbformat": 2
 },
 "nbformat": 4,
 "nbformat_minor": 2
}