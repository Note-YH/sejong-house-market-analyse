{
 "cells": [
  {
   "cell_type": "code",
   "execution_count": 510,
   "metadata": {},
   "outputs": [],
   "source": [
    "import pandas as pd\r\n",
    "import numpy as np\r\n",
    "import json\r\n",
    "import re\r\n",
    "from plotnine import *\r\n",
    "import plotnine\r\n",
    "\r\n",
    "\r\n",
    "%matplotlib inline\r\n",
    "import matplotlib\r\n",
    "import matplotlib as mpl\r\n",
    "import matplotlib.pyplot as plt\r\n",
    "mpl.rc('axes', labelsize=12)\r\n",
    "mpl.rc('xtick', labelsize=8)\r\n",
    "mpl.rc('ytick', labelsize=8)\r\n",
    "plt.rcParams['axes.unicode_minus'] = False\r\n",
    "plt.rcParams[\"font.family\"] = 'NanumBarunGothic'\r\n",
    "plt.rcParams[\"font.size\"] = 20\r\n",
    "plt.rcParams[\"figure.figsize\"] = (15,8)\r\n",
    "\r\n",
    "\r\n",
    "# pandas max row \r\n",
    "pd.options.display.max_rows = 3000"
   ]
  },
  {
   "cell_type": "code",
   "execution_count": 511,
   "metadata": {},
   "outputs": [
    {
     "name": "stderr",
     "output_type": "stream",
     "text": [
      "C:\\Anaconda\\lib\\site-packages\\IPython\\core\\interactiveshell.py:3146: DtypeWarning: Columns (12) have mixed types.Specify dtype option on import or set low_memory=False.\n"
     ]
    }
   ],
   "source": [
    "b_unit = pd.read_csv('data/전유부.csv', dtype={\r\n",
    "    '건물명':object, \r\n",
    "    '시군구코드': object, \r\n",
    "    '법정동코드' : object, \r\n",
    "    '층번호': np.int64, \r\n",
    "    '번' : object, \r\n",
    "    '지' : object, \r\n",
    "    '층구분코드': object \r\n",
    "    }\r\n",
    ")"
   ]
  },
  {
   "cell_type": "code",
   "execution_count": 512,
   "metadata": {},
   "outputs": [
    {
     "data": {
      "text/html": "<div>\n<style scoped>\n    .dataframe tbody tr th:only-of-type {\n        vertical-align: middle;\n    }\n\n    .dataframe tbody tr th {\n        vertical-align: top;\n    }\n\n    .dataframe thead th {\n        text-align: right;\n    }\n</style>\n<table border=\"1\" class=\"dataframe\">\n  <thead>\n    <tr style=\"text-align: right;\">\n      <th></th>\n      <th>대지주소</th>\n      <th>시군구코드</th>\n      <th>법정동코드</th>\n      <th>동명칭</th>\n      <th>호명칭</th>\n      <th>층구분코드</th>\n      <th>층번호</th>\n      <th>면적(전용면적)</th>\n      <th>건물명</th>\n      <th>번</th>\n      <th>지</th>\n      <th>용도코드명</th>\n      <th>주용도코드</th>\n      <th>기타용도</th>\n      <th>동</th>\n      <th>PNU</th>\n    </tr>\n  </thead>\n  <tbody>\n    <tr>\n      <th>0</th>\n      <td>세종특별자치시  반곡동 4121-1002번지</td>\n      <td>36110</td>\n      <td>10100</td>\n      <td>주건축물제1동</td>\n      <td>101</td>\n      <td>20</td>\n      <td>1</td>\n      <td>3.2402</td>\n      <td>세종펠리스</td>\n      <td>4121</td>\n      <td>1002</td>\n      <td>일반음식점</td>\n      <td>4001</td>\n      <td>일반음식점(기계,전기실)</td>\n      <td>반곡동</td>\n      <td>반곡동41211002</td>\n    </tr>\n    <tr>\n      <th>1</th>\n      <td>세종특별자치시  반곡동 4121-1002번지</td>\n      <td>36110</td>\n      <td>10100</td>\n      <td>주건축물제1동</td>\n      <td>101</td>\n      <td>20</td>\n      <td>1</td>\n      <td>39.3700</td>\n      <td>세종펠리스</td>\n      <td>4121</td>\n      <td>1002</td>\n      <td>일반음식점</td>\n      <td>4001</td>\n      <td>제2종근생(일반음식점)</td>\n      <td>반곡동</td>\n      <td>반곡동41211002</td>\n    </tr>\n    <tr>\n      <th>2</th>\n      <td>세종특별자치시  반곡동 4121-1002번지</td>\n      <td>36110</td>\n      <td>10100</td>\n      <td>주건축물제1동</td>\n      <td>101</td>\n      <td>20</td>\n      <td>1</td>\n      <td>10.3346</td>\n      <td>세종펠리스</td>\n      <td>4121</td>\n      <td>1002</td>\n      <td>일반음식점</td>\n      <td>4001</td>\n      <td>일반음식점(계단실,복도등)</td>\n      <td>반곡동</td>\n      <td>반곡동41211002</td>\n    </tr>\n    <tr>\n      <th>3</th>\n      <td>세종특별자치시  반곡동 4121-1002번지</td>\n      <td>36110</td>\n      <td>10100</td>\n      <td>주건축물제1동</td>\n      <td>101</td>\n      <td>20</td>\n      <td>1</td>\n      <td>33.6765</td>\n      <td>세종펠리스</td>\n      <td>4121</td>\n      <td>1002</td>\n      <td>일반음식점</td>\n      <td>4001</td>\n      <td>일반음식점(주차장)</td>\n      <td>반곡동</td>\n      <td>반곡동41211002</td>\n    </tr>\n    <tr>\n      <th>4</th>\n      <td>세종특별자치시  반곡동 4121-1002번지</td>\n      <td>36110</td>\n      <td>10100</td>\n      <td>주건축물제1동</td>\n      <td>102</td>\n      <td>20</td>\n      <td>1</td>\n      <td>48.9500</td>\n      <td>세종펠리스</td>\n      <td>4121</td>\n      <td>1002</td>\n      <td>일반음식점</td>\n      <td>4001</td>\n      <td>제2종근생(일반음식점)</td>\n      <td>반곡동</td>\n      <td>반곡동41211002</td>\n    </tr>\n  </tbody>\n</table>\n</div>",
      "text/plain": "                       대지주소  시군구코드  법정동코드      동명칭  호명칭 층구분코드  층번호  면적(전용면적)  \\\n0  세종특별자치시  반곡동 4121-1002번지  36110  10100  주건축물제1동  101    20    1    3.2402   \n1  세종특별자치시  반곡동 4121-1002번지  36110  10100  주건축물제1동  101    20    1   39.3700   \n2  세종특별자치시  반곡동 4121-1002번지  36110  10100  주건축물제1동  101    20    1   10.3346   \n3  세종특별자치시  반곡동 4121-1002번지  36110  10100  주건축물제1동  101    20    1   33.6765   \n4  세종특별자치시  반곡동 4121-1002번지  36110  10100  주건축물제1동  102    20    1   48.9500   \n\n     건물명     번     지  용도코드명 주용도코드            기타용도    동          PNU  \n0  세종펠리스  4121  1002  일반음식점  4001   일반음식점(기계,전기실)  반곡동  반곡동41211002  \n1  세종펠리스  4121  1002  일반음식점  4001    제2종근생(일반음식점)  반곡동  반곡동41211002  \n2  세종펠리스  4121  1002  일반음식점  4001  일반음식점(계단실,복도등)  반곡동  반곡동41211002  \n3  세종펠리스  4121  1002  일반음식점  4001      일반음식점(주차장)  반곡동  반곡동41211002  \n4  세종펠리스  4121  1002  일반음식점  4001    제2종근생(일반음식점)  반곡동  반곡동41211002  "
     },
     "execution_count": 512,
     "metadata": {},
     "output_type": "execute_result"
    }
   ],
   "source": [
    "b_unit['번'] = b_unit['번'].astype(str).str.zfill(4)\r\n",
    "b_unit['지'] = b_unit['지'].astype(str).str.zfill(4)\r\n",
    "\r\n",
    "b_unit['동'] = b_unit['대지주소'].str.replace('세종특별자치시 ',\"\")\r\n",
    "b_unit['동'] = b_unit['동'].str.split(' ').str[1]\r\n",
    "\r\n",
    "b_unit['PNU'] = b_unit['동'] + b_unit['번'] + b_unit['지']\r\n",
    "b_unit.head()"
   ]
  },
  {
   "cell_type": "code",
   "execution_count": 157,
   "metadata": {},
   "outputs": [
    {
     "data": {
      "text/plain": "<AxesSubplot:>"
     },
     "execution_count": 157,
     "metadata": {},
     "output_type": "execute_result"
    },
    {
     "data": {
      "image/png": "[encoded data removed]",
      "text/plain": "<Figure size 1296x432 with 2 Axes>"
     },
     "metadata": {
      "needs_background": "light"
     },
     "output_type": "display_data"
    }
   ],
   "source": [
    "# 결측치 보기\r\n",
    "import missingno as msno\r\n",
    "msno.matrix(b_unit, figsize=(18,6))"
   ]
  },
  {
   "cell_type": "markdown",
   "metadata": {},
   "source": [
    "### 아파트 건물 > 건물별 면적 > 3개월 평균 거래가"
   ]
  },
  {
   "cell_type": "code",
   "execution_count": 513,
   "metadata": {},
   "outputs": [
    {
     "data": {
      "text/plain": "array(['아파트', '공동주택(아파트)', '아파트 지하계단실', '아파트(도시형생활주택)',\n       '아파트(도시형생활주택-원룸형)', '공둥주택(아파트)', '지하주차장,아파트동출입구', '사원아파트',\n       '노인정(아파트)', '아파트 상가동', '아파트  상가동', '재동아파트상가', '아파트상가', '아파트상가내'],\n      dtype=object)"
     },
     "execution_count": 513,
     "metadata": {},
     "output_type": "execute_result"
    }
   ],
   "source": [
    "apt_unit = b_unit[b_unit['기타용도'].str.contains('아파트',na=False)]\r\n",
    "apt_unit['기타용도'].unique()"
   ]
  },
  {
   "cell_type": "code",
   "execution_count": 515,
   "metadata": {},
   "outputs": [
    {
     "data": {
      "text/plain": "array(['아파트', '공동주택(아파트)', '아파트(도시형생활주택)', '아파트(도시형생활주택-원룸형)',\n       '공둥주택(아파트)', '사원아파트'], dtype=object)"
     },
     "execution_count": 515,
     "metadata": {},
     "output_type": "execute_result"
    }
   ],
   "source": [
    "#아파트 비해당 정보 제외\r\n",
    "non_apt = ['지하','주차장','상가','노인정']\r\n",
    "pattern = '|'.join(non_apt)\r\n",
    "apt_unit = apt_unit.loc[~apt_unit['기타용도'].str.contains(pattern, case = False)]\r\n",
    "apt_unit['기타용도'].unique()"
   ]
  },
  {
   "cell_type": "code",
   "execution_count": 516,
   "metadata": {},
   "outputs": [],
   "source": [
    "#이름변경\r\n",
    "apt_unit['건물명'] = apt_unit['건물명'].astype(str).str.replace('금남두진리버빌아파트','두진리버빌아파트')"
   ]
  },
  {
   "cell_type": "code",
   "execution_count": 517,
   "metadata": {},
   "outputs": [
    {
     "data": {
      "text/plain": "197"
     },
     "execution_count": 517,
     "metadata": {},
     "output_type": "execute_result"
    }
   ],
   "source": [
    "# null값 drop(113893 >> 111907), 197\r\n",
    "#apt_unit_without = apt_unit.dropna()\r\n",
    "list_name = apt_unit['대지주소'].unique()\r\n",
    "len(list_name)"
   ]
  },
  {
   "cell_type": "code",
   "execution_count": 560,
   "metadata": {},
   "outputs": [
    {
     "data": {
      "text/html": "<div>\n<style scoped>\n    .dataframe tbody tr th:only-of-type {\n        vertical-align: middle;\n    }\n\n    .dataframe tbody tr th {\n        vertical-align: top;\n    }\n\n    .dataframe thead th {\n        text-align: right;\n    }\n</style>\n<table border=\"1\" class=\"dataframe\">\n  <thead>\n    <tr style=\"text-align: right;\">\n      <th></th>\n      <th>대지주소</th>\n      <th>면적(전용면적)</th>\n      <th>동명칭</th>\n      <th>건물명</th>\n      <th>PNU</th>\n      <th>법정동코드</th>\n      <th>동</th>\n    </tr>\n  </thead>\n  <tbody>\n    <tr>\n      <th>0</th>\n      <td>세종특별자치시  고운동 1386번지</td>\n      <td>59.0</td>\n      <td>508</td>\n      <td>가락마을17단지</td>\n      <td>고운동13860000</td>\n      <td>11200</td>\n      <td>고운동</td>\n    </tr>\n    <tr>\n      <th>1</th>\n      <td>세종특별자치시  고운동 1387번지</td>\n      <td>84.0</td>\n      <td>263</td>\n      <td>가락마을22단지</td>\n      <td>고운동13870000</td>\n      <td>11200</td>\n      <td>고운동</td>\n    </tr>\n    <tr>\n      <th>2</th>\n      <td>세종특별자치시  고운동 1387번지</td>\n      <td>96.0</td>\n      <td>177</td>\n      <td>가락마을22단지</td>\n      <td>고운동13870000</td>\n      <td>11200</td>\n      <td>고운동</td>\n    </tr>\n    <tr>\n      <th>3</th>\n      <td>세종특별자치시  고운동 1390번지</td>\n      <td>84.0</td>\n      <td>268</td>\n      <td>가락마을21단지</td>\n      <td>고운동13900000</td>\n      <td>11200</td>\n      <td>고운동</td>\n    </tr>\n    <tr>\n      <th>4</th>\n      <td>세종특별자치시  고운동 1390번지</td>\n      <td>99.0</td>\n      <td>138</td>\n      <td>가락마을21단지</td>\n      <td>고운동13900000</td>\n      <td>11200</td>\n      <td>고운동</td>\n    </tr>\n  </tbody>\n</table>\n</div>",
      "text/plain": "                  대지주소  면적(전용면적)  동명칭       건물명          PNU  법정동코드    동\n0  세종특별자치시  고운동 1386번지      59.0  508  가락마을17단지  고운동13860000  11200  고운동\n1  세종특별자치시  고운동 1387번지      84.0  263  가락마을22단지  고운동13870000  11200  고운동\n2  세종특별자치시  고운동 1387번지      96.0  177  가락마을22단지  고운동13870000  11200  고운동\n3  세종특별자치시  고운동 1390번지      84.0  268  가락마을21단지  고운동13900000  11200  고운동\n4  세종특별자치시  고운동 1390번지      99.0  138  가락마을21단지  고운동13900000  11200  고운동"
     },
     "execution_count": 560,
     "metadata": {},
     "output_type": "execute_result"
    }
   ],
   "source": [
    "#건물별 면적으로 groupping(1231)\r\n",
    "apt_unit['면적(전용면적)'] = np.trunc(apt_unit['면적(전용면적)']).astype(float)\r\n",
    "apt_group = apt_unit.groupby(['대지주소','면적(전용면적)']).agg({'동명칭' : 'count','건물명' : 'first','PNU' : 'first','법정동코드' : 'first'})\r\n",
    "apt_group = apt_group.reset_index(level=[0,1])\r\n",
    "apt_group['동'] = apt_group['대지주소'].str.replace('세종특별자치시 ',\"\")\r\n",
    "apt_group['동'] = apt_group['동'].str.split(' ').str[1]\r\n",
    "apt_group.head()"
   ]
  },
  {
   "cell_type": "code",
   "execution_count": 561,
   "metadata": {},
   "outputs": [
    {
     "data": {
      "text/html": "<div>\n<style scoped>\n    .dataframe tbody tr th:only-of-type {\n        vertical-align: middle;\n    }\n\n    .dataframe tbody tr th {\n        vertical-align: top;\n    }\n\n    .dataframe thead th {\n        text-align: right;\n    }\n</style>\n<table border=\"1\" class=\"dataframe\">\n  <thead>\n    <tr style=\"text-align: right;\">\n      <th></th>\n      <th>Unnamed: 0</th>\n      <th>거래금액</th>\n      <th>건축년도</th>\n      <th>년</th>\n      <th>법정동</th>\n      <th>아파트</th>\n      <th>월</th>\n      <th>일</th>\n      <th>전용면적</th>\n      <th>지번</th>\n      <th>지역코드</th>\n      <th>층</th>\n      <th>해제사유발생일</th>\n      <th>해제여부</th>\n      <th>계약일자</th>\n    </tr>\n  </thead>\n  <tbody>\n    <tr>\n      <th>0</th>\n      <td>0</td>\n      <td>36400.0</td>\n      <td>2016</td>\n      <td>2017</td>\n      <td>소담동</td>\n      <td>새샘마을9단지(중흥S클래스리버뷰)</td>\n      <td>01</td>\n      <td>10</td>\n      <td>84.0</td>\n      <td>521</td>\n      <td>36110</td>\n      <td>5</td>\n      <td>NaN</td>\n      <td>NaN</td>\n      <td>2017-01-10</td>\n    </tr>\n    <tr>\n      <th>1</th>\n      <td>1</td>\n      <td>39282.0</td>\n      <td>2016</td>\n      <td>2017</td>\n      <td>소담동</td>\n      <td>새샘마을9단지(중흥S클래스리버뷰)</td>\n      <td>01</td>\n      <td>20</td>\n      <td>84.0</td>\n      <td>521</td>\n      <td>36110</td>\n      <td>24</td>\n      <td>NaN</td>\n      <td>NaN</td>\n      <td>2017-01-20</td>\n    </tr>\n    <tr>\n      <th>2</th>\n      <td>2</td>\n      <td>49000.0</td>\n      <td>2016</td>\n      <td>2017</td>\n      <td>소담동</td>\n      <td>새샘마을3단지(모아미래도리버시티)</td>\n      <td>01</td>\n      <td>21</td>\n      <td>97.0</td>\n      <td>BL-M3</td>\n      <td>36110</td>\n      <td>13</td>\n      <td>NaN</td>\n      <td>NaN</td>\n      <td>2017-01-21</td>\n    </tr>\n    <tr>\n      <th>3</th>\n      <td>3</td>\n      <td>40800.0</td>\n      <td>2016</td>\n      <td>2017</td>\n      <td>소담동</td>\n      <td>새샘마을3단지(모아미래도리버시티)</td>\n      <td>01</td>\n      <td>25</td>\n      <td>97.0</td>\n      <td>BL-M3</td>\n      <td>36110</td>\n      <td>7</td>\n      <td>NaN</td>\n      <td>NaN</td>\n      <td>2017-01-25</td>\n    </tr>\n    <tr>\n      <th>4</th>\n      <td>4</td>\n      <td>8600.0</td>\n      <td>2016</td>\n      <td>2017</td>\n      <td>보람동</td>\n      <td>스타힐타워Ⅰ</td>\n      <td>01</td>\n      <td>01</td>\n      <td>16.0</td>\n      <td>743</td>\n      <td>36110</td>\n      <td>7</td>\n      <td>NaN</td>\n      <td>NaN</td>\n      <td>2017-01-01</td>\n    </tr>\n  </tbody>\n</table>\n</div>",
      "text/plain": "   Unnamed: 0     거래금액  건축년도     년  법정동                 아파트   월   일  전용면적  \\\n0           0  36400.0  2016  2017  소담동  새샘마을9단지(중흥S클래스리버뷰)  01  10  84.0   \n1           1  39282.0  2016  2017  소담동  새샘마을9단지(중흥S클래스리버뷰)  01  20  84.0   \n2           2  49000.0  2016  2017  소담동  새샘마을3단지(모아미래도리버시티)  01  21  97.0   \n3           3  40800.0  2016  2017  소담동  새샘마을3단지(모아미래도리버시티)  01  25  97.0   \n4           4   8600.0  2016  2017  보람동              스타힐타워Ⅰ  01  01  16.0   \n\n      지번   지역코드   층 해제사유발생일 해제여부       계약일자  \n0    521  36110   5     NaN  NaN 2017-01-10  \n1    521  36110  24     NaN  NaN 2017-01-20  \n2  BL-M3  36110  13     NaN  NaN 2017-01-21  \n3  BL-M3  36110   7     NaN  NaN 2017-01-25  \n4    743  36110   7     NaN  NaN 2017-01-01  "
     },
     "execution_count": 561,
     "metadata": {},
     "output_type": "execute_result"
    }
   ],
   "source": [
    "apt_trd = pd.read_csv('data/apt_trd.csv')\r\n",
    "apt_trd['거래금액'] = apt_trd['거래금액'].str.replace(',','').astype(float)\r\n",
    "apt_trd['아파트'] =apt_trd['아파트'].str.replace(' ','').astype(str)\r\n",
    "apt_trd['전용면적'] = np.trunc(apt_trd['전용면적'])\r\n",
    "apt_trd['월'] = apt_trd['월'].astype(str).str.zfill(2)\r\n",
    "apt_trd['일'] = apt_trd['일'].astype(str).str.zfill(2)\r\n",
    "\r\n",
    "apt_trd['계약일자'] = apt_trd['년'].astype(str) + apt_trd['월'] + apt_trd['일']\r\n",
    "apt_trd['계약일자'] = pd.to_datetime(apt_trd['계약일자'], format='%Y%m%d')\r\n",
    "\r\n",
    "apt_trd.head()"
   ]
  },
  {
   "cell_type": "code",
   "execution_count": 562,
   "metadata": {},
   "outputs": [],
   "source": [
    "# BL값 번지로 교체\r\n",
    "apt_trd['지번'] = apt_trd['지번'].replace('BL-M3', 550)\r\n",
    "apt_trd['지번'] = apt_trd['지번'].replace('BLH1', 738)\r\n",
    "apt_trd['지번'] = apt_trd['지번'].replace('가-', 946)"
   ]
  },
  {
   "cell_type": "code",
   "execution_count": 563,
   "metadata": {},
   "outputs": [
    {
     "data": {
      "text/html": "<div>\n<style scoped>\n    .dataframe tbody tr th:only-of-type {\n        vertical-align: middle;\n    }\n\n    .dataframe tbody tr th {\n        vertical-align: top;\n    }\n\n    .dataframe thead th {\n        text-align: right;\n    }\n</style>\n<table border=\"1\" class=\"dataframe\">\n  <thead>\n    <tr style=\"text-align: right;\">\n      <th></th>\n      <th>Unnamed: 0</th>\n      <th>거래금액</th>\n      <th>건축년도</th>\n      <th>년</th>\n      <th>법정동</th>\n      <th>아파트</th>\n      <th>월</th>\n      <th>일</th>\n      <th>전용면적</th>\n      <th>지번</th>\n      <th>지역코드</th>\n      <th>층</th>\n      <th>해제사유발생일</th>\n      <th>해제여부</th>\n      <th>계약일자</th>\n      <th>번</th>\n      <th>지</th>\n      <th>PNU</th>\n    </tr>\n  </thead>\n  <tbody>\n    <tr>\n      <th>0</th>\n      <td>0</td>\n      <td>36400.0</td>\n      <td>2016</td>\n      <td>2017</td>\n      <td>소담동</td>\n      <td>새샘마을9단지(중흥S클래스리버뷰)</td>\n      <td>01</td>\n      <td>10</td>\n      <td>84.0</td>\n      <td>521</td>\n      <td>36110</td>\n      <td>5</td>\n      <td>NaN</td>\n      <td>NaN</td>\n      <td>2017-01-10</td>\n      <td>0521</td>\n      <td>0000</td>\n      <td>소담동05210000</td>\n    </tr>\n    <tr>\n      <th>1</th>\n      <td>1</td>\n      <td>39282.0</td>\n      <td>2016</td>\n      <td>2017</td>\n      <td>소담동</td>\n      <td>새샘마을9단지(중흥S클래스리버뷰)</td>\n      <td>01</td>\n      <td>20</td>\n      <td>84.0</td>\n      <td>521</td>\n      <td>36110</td>\n      <td>24</td>\n      <td>NaN</td>\n      <td>NaN</td>\n      <td>2017-01-20</td>\n      <td>0521</td>\n      <td>0000</td>\n      <td>소담동05210000</td>\n    </tr>\n    <tr>\n      <th>2</th>\n      <td>2</td>\n      <td>49000.0</td>\n      <td>2016</td>\n      <td>2017</td>\n      <td>소담동</td>\n      <td>새샘마을3단지(모아미래도리버시티)</td>\n      <td>01</td>\n      <td>21</td>\n      <td>97.0</td>\n      <td>550</td>\n      <td>36110</td>\n      <td>13</td>\n      <td>NaN</td>\n      <td>NaN</td>\n      <td>2017-01-21</td>\n      <td>0550</td>\n      <td>0000</td>\n      <td>소담동05500000</td>\n    </tr>\n    <tr>\n      <th>3</th>\n      <td>3</td>\n      <td>40800.0</td>\n      <td>2016</td>\n      <td>2017</td>\n      <td>소담동</td>\n      <td>새샘마을3단지(모아미래도리버시티)</td>\n      <td>01</td>\n      <td>25</td>\n      <td>97.0</td>\n      <td>550</td>\n      <td>36110</td>\n      <td>7</td>\n      <td>NaN</td>\n      <td>NaN</td>\n      <td>2017-01-25</td>\n      <td>0550</td>\n      <td>0000</td>\n      <td>소담동05500000</td>\n    </tr>\n    <tr>\n      <th>4</th>\n      <td>4</td>\n      <td>8600.0</td>\n      <td>2016</td>\n      <td>2017</td>\n      <td>보람동</td>\n      <td>스타힐타워Ⅰ</td>\n      <td>01</td>\n      <td>01</td>\n      <td>16.0</td>\n      <td>743</td>\n      <td>36110</td>\n      <td>7</td>\n      <td>NaN</td>\n      <td>NaN</td>\n      <td>2017-01-01</td>\n      <td>0743</td>\n      <td>0000</td>\n      <td>보람동07430000</td>\n    </tr>\n    <tr>\n      <th>...</th>\n      <td>...</td>\n      <td>...</td>\n      <td>...</td>\n      <td>...</td>\n      <td>...</td>\n      <td>...</td>\n      <td>...</td>\n      <td>...</td>\n      <td>...</td>\n      <td>...</td>\n      <td>...</td>\n      <td>...</td>\n      <td>...</td>\n      <td>...</td>\n      <td>...</td>\n      <td>...</td>\n      <td>...</td>\n      <td>...</td>\n    </tr>\n    <tr>\n      <th>24412</th>\n      <td>24412</td>\n      <td>7000.0</td>\n      <td>2001</td>\n      <td>2021</td>\n      <td>전의면 유천리</td>\n      <td>민석그린</td>\n      <td>02</td>\n      <td>18</td>\n      <td>59.0</td>\n      <td>528</td>\n      <td>36110</td>\n      <td>5</td>\n      <td>NaN</td>\n      <td>NaN</td>\n      <td>2021-02-18</td>\n      <td>0528</td>\n      <td>0000</td>\n      <td>전의면 유천리05280000</td>\n    </tr>\n    <tr>\n      <th>24413</th>\n      <td>24413</td>\n      <td>5200.0</td>\n      <td>1994</td>\n      <td>2021</td>\n      <td>전동면 노장리</td>\n      <td>도원</td>\n      <td>02</td>\n      <td>03</td>\n      <td>49.0</td>\n      <td>586</td>\n      <td>36110</td>\n      <td>5</td>\n      <td>NaN</td>\n      <td>NaN</td>\n      <td>2021-02-03</td>\n      <td>0586</td>\n      <td>0000</td>\n      <td>전동면 노장리05860000</td>\n    </tr>\n    <tr>\n      <th>24414</th>\n      <td>24414</td>\n      <td>5200.0</td>\n      <td>1994</td>\n      <td>2021</td>\n      <td>전동면 노장리</td>\n      <td>도원</td>\n      <td>02</td>\n      <td>23</td>\n      <td>49.0</td>\n      <td>586</td>\n      <td>36110</td>\n      <td>5</td>\n      <td>NaN</td>\n      <td>NaN</td>\n      <td>2021-02-23</td>\n      <td>0586</td>\n      <td>0000</td>\n      <td>전동면 노장리05860000</td>\n    </tr>\n    <tr>\n      <th>24415</th>\n      <td>24415</td>\n      <td>5000.0</td>\n      <td>1996</td>\n      <td>2021</td>\n      <td>소정면 운당리</td>\n      <td>무궁화</td>\n      <td>02</td>\n      <td>01</td>\n      <td>59.0</td>\n      <td>35-1</td>\n      <td>36110</td>\n      <td>7</td>\n      <td>NaN</td>\n      <td>NaN</td>\n      <td>2021-02-01</td>\n      <td>0035</td>\n      <td>0001</td>\n      <td>소정면 운당리00350001</td>\n    </tr>\n    <tr>\n      <th>24416</th>\n      <td>24416</td>\n      <td>6300.0</td>\n      <td>1996</td>\n      <td>2021</td>\n      <td>소정면 운당리</td>\n      <td>무궁화</td>\n      <td>02</td>\n      <td>08</td>\n      <td>59.0</td>\n      <td>35-1</td>\n      <td>36110</td>\n      <td>7</td>\n      <td>NaN</td>\n      <td>NaN</td>\n      <td>2021-02-08</td>\n      <td>0035</td>\n      <td>0001</td>\n      <td>소정면 운당리00350001</td>\n    </tr>\n  </tbody>\n</table>\n<p>24417 rows × 18 columns</p>\n</div>",
      "text/plain": "       Unnamed: 0     거래금액  건축년도     년      법정동                 아파트   월   일  \\\n0               0  36400.0  2016  2017      소담동  새샘마을9단지(중흥S클래스리버뷰)  01  10   \n1               1  39282.0  2016  2017      소담동  새샘마을9단지(중흥S클래스리버뷰)  01  20   \n2               2  49000.0  2016  2017      소담동  새샘마을3단지(모아미래도리버시티)  01  21   \n3               3  40800.0  2016  2017      소담동  새샘마을3단지(모아미래도리버시티)  01  25   \n4               4   8600.0  2016  2017      보람동              스타힐타워Ⅰ  01  01   \n...           ...      ...   ...   ...      ...                 ...  ..  ..   \n24412       24412   7000.0  2001  2021  전의면 유천리                민석그린  02  18   \n24413       24413   5200.0  1994  2021  전동면 노장리                  도원  02  03   \n24414       24414   5200.0  1994  2021  전동면 노장리                  도원  02  23   \n24415       24415   5000.0  1996  2021  소정면 운당리                 무궁화  02  01   \n24416       24416   6300.0  1996  2021  소정면 운당리                 무궁화  02  08   \n\n       전용면적    지번   지역코드   층 해제사유발생일 해제여부       계약일자     번     지  \\\n0      84.0   521  36110   5     NaN  NaN 2017-01-10  0521  0000   \n1      84.0   521  36110  24     NaN  NaN 2017-01-20  0521  0000   \n2      97.0   550  36110  13     NaN  NaN 2017-01-21  0550  0000   \n3      97.0   550  36110   7     NaN  NaN 2017-01-25  0550  0000   \n4      16.0   743  36110   7     NaN  NaN 2017-01-01  0743  0000   \n...     ...   ...    ...  ..     ...  ...        ...   ...   ...   \n24412  59.0   528  36110   5     NaN  NaN 2021-02-18  0528  0000   \n24413  49.0   586  36110   5     NaN  NaN 2021-02-03  0586  0000   \n24414  49.0   586  36110   5     NaN  NaN 2021-02-23  0586  0000   \n24415  59.0  35-1  36110   7     NaN  NaN 2021-02-01  0035  0001   \n24416  59.0  35-1  36110   7     NaN  NaN 2021-02-08  0035  0001   \n\n                   PNU  \n0          소담동05210000  \n1          소담동05210000  \n2          소담동05500000  \n3          소담동05500000  \n4          보람동07430000  \n...                ...  \n24412  전의면 유천리05280000  \n24413  전동면 노장리05860000  \n24414  전동면 노장리05860000  \n24415  소정면 운당리00350001  \n24416  소정면 운당리00350001  \n\n[24417 rows x 18 columns]"
     },
     "execution_count": 563,
     "metadata": {},
     "output_type": "execute_result"
    }
   ],
   "source": [
    "#PNU코드 생성\r\n",
    "apt_trd['번'] = apt_trd['지번'].astype(str).str.split('-').str[0]\r\n",
    "apt_trd['지'] = apt_trd['지번'].astype(str).str.split('-').str[1]\r\n",
    "apt_trd['번'] = apt_trd['번'].fillna(0)\r\n",
    "apt_trd['지'] = apt_trd['지'].fillna(0)\r\n",
    "apt_trd['번'] = apt_trd['번'].astype(str).str.zfill(4)\r\n",
    "apt_trd['지'] = apt_trd['지'].astype(str).str.zfill(4)\r\n",
    "apt_trd['PNU'] = apt_trd['법정동'].astype(str) + apt_trd['번'] + apt_trd['지']\r\n",
    "apt_trd"
   ]
  },
  {
   "cell_type": "code",
   "execution_count": 564,
   "metadata": {},
   "outputs": [
    {
     "name": "stderr",
     "output_type": "stream",
     "text": [
      "<ipython-input-564-2f30eebbc28c>:7: UserWarning: DataFrame columns are not unique, some columns will be omitted.\n"
     ]
    },
    {
     "data": {
      "text/plain": "{'아파트': '첫마을3단지(퍼스트프라임)'}"
     },
     "execution_count": 564,
     "metadata": {},
     "output_type": "execute_result"
    }
   ],
   "source": [
    "#PNU기준으로 건물명 통일하기\r\n",
    "PUN_col = ['PNU','아파트']\r\n",
    "PNU = apt_trd[PUN_col].drop_duplicates()\r\n",
    "PNU = PNU.set_index('PNU')\r\n",
    "PNU = PNU.transpose()\r\n",
    "\r\n",
    "PNU = PNU.to_dict()\r\n",
    "PNU.get('한솔동09470000')"
   ]
  },
  {
   "cell_type": "code",
   "execution_count": 565,
   "metadata": {},
   "outputs": [
    {
     "name": "stderr",
     "output_type": "stream",
     "text": [
      "C:\\Anaconda\\lib\\site-packages\\pandas\\core\\indexing.py:670: SettingWithCopyWarning: \n",
      "A value is trying to be set on a copy of a slice from a DataFrame\n",
      "\n",
      "See the caveats in the documentation: https://pandas.pydata.org/pandas-docs/stable/user_guide/indexing.html#returning-a-view-versus-a-copy\n"
     ]
    },
    {
     "data": {
      "text/html": "<div>\n<style scoped>\n    .dataframe tbody tr th:only-of-type {\n        vertical-align: middle;\n    }\n\n    .dataframe tbody tr th {\n        vertical-align: top;\n    }\n\n    .dataframe thead th {\n        text-align: right;\n    }\n</style>\n<table border=\"1\" class=\"dataframe\">\n  <thead>\n    <tr style=\"text-align: right;\">\n      <th></th>\n      <th>대지주소</th>\n      <th>면적(전용면적)</th>\n      <th>동명칭</th>\n      <th>건물명</th>\n      <th>PNU</th>\n      <th>법정동코드</th>\n      <th>동</th>\n    </tr>\n  </thead>\n  <tbody>\n    <tr>\n      <th>727</th>\n      <td>세종특별자치시  해밀동 블록 행정중심복합도시 6-4생활권지구 M1블록블록</td>\n      <td>66.0</td>\n      <td>3</td>\n      <td>해밀마을2단지</td>\n      <td>해밀동00000000</td>\n      <td>11600</td>\n      <td>해밀동</td>\n    </tr>\n    <tr>\n      <th>728</th>\n      <td>세종특별자치시  해밀동 블록 행정중심복합도시 6-4생활권지구 M1블록블록</td>\n      <td>84.0</td>\n      <td>561</td>\n      <td>해밀마을2단지</td>\n      <td>해밀동00000000</td>\n      <td>11600</td>\n      <td>해밀동</td>\n    </tr>\n    <tr>\n      <th>729</th>\n      <td>세종특별자치시  해밀동 블록 행정중심복합도시 6-4생활권지구 M1블록블록</td>\n      <td>102.0</td>\n      <td>234</td>\n      <td>해밀마을2단지</td>\n      <td>해밀동00000000</td>\n      <td>11600</td>\n      <td>해밀동</td>\n    </tr>\n    <tr>\n      <th>730</th>\n      <td>세종특별자치시  해밀동 블록 행정중심복합도시 6-4생활권지구 M1블록블록</td>\n      <td>112.0</td>\n      <td>186</td>\n      <td>해밀마을2단지</td>\n      <td>해밀동00000000</td>\n      <td>11600</td>\n      <td>해밀동</td>\n    </tr>\n    <tr>\n      <th>731</th>\n      <td>세종특별자치시  해밀동 블록 행정중심복합도시 6-4생활권지구 M1블록블록</td>\n      <td>120.0</td>\n      <td>50</td>\n      <td>해밀마을2단지</td>\n      <td>해밀동00000000</td>\n      <td>11600</td>\n      <td>해밀동</td>\n    </tr>\n  </tbody>\n</table>\n</div>",
      "text/plain": "                                         대지주소  면적(전용면적)  동명칭      건물명  \\\n727  세종특별자치시  해밀동 블록 행정중심복합도시 6-4생활권지구 M1블록블록      66.0    3  해밀마을2단지   \n728  세종특별자치시  해밀동 블록 행정중심복합도시 6-4생활권지구 M1블록블록      84.0  561  해밀마을2단지   \n729  세종특별자치시  해밀동 블록 행정중심복합도시 6-4생활권지구 M1블록블록     102.0  234  해밀마을2단지   \n730  세종특별자치시  해밀동 블록 행정중심복합도시 6-4생활권지구 M1블록블록     112.0  186  해밀마을2단지   \n731  세종특별자치시  해밀동 블록 행정중심복합도시 6-4생활권지구 M1블록블록     120.0   50  해밀마을2단지   \n\n             PNU  법정동코드    동  \n727  해밀동00000000  11600  해밀동  \n728  해밀동00000000  11600  해밀동  \n729  해밀동00000000  11600  해밀동  \n730  해밀동00000000  11600  해밀동  \n731  해밀동00000000  11600  해밀동  "
     },
     "execution_count": 565,
     "metadata": {},
     "output_type": "execute_result"
    }
   ],
   "source": [
    "# 건물명 채우기\r\n",
    "for i in apt_group.index :\r\n",
    "    pnu_value = apt_group['PNU'].iloc[i]\r\n",
    "    apt_group['건물명'].iloc[i] = PNU.get(pnu_value)['아파트'] if pnu_value in PNU else apt_group['건물명'].iloc[i]\r\n",
    "\r\n",
    "apt_group.tail()"
   ]
  },
  {
   "cell_type": "code",
   "execution_count": 566,
   "metadata": {},
   "outputs": [
    {
     "name": "stderr",
     "output_type": "stream",
     "text": [
      "C:\\Anaconda\\lib\\site-packages\\pandas\\core\\strings.py:2001: UserWarning: This pattern has match groups. To actually get the groups, use str.extract.\n",
      "C:\\Anaconda\\lib\\site-packages\\pandas\\core\\strings.py:2001: UserWarning: This pattern has match groups. To actually get the groups, use str.extract.\n",
      "C:\\Anaconda\\lib\\site-packages\\pandas\\core\\strings.py:2001: UserWarning: This pattern has match groups. To actually get the groups, use str.extract.\n",
      "C:\\Anaconda\\lib\\site-packages\\pandas\\core\\strings.py:2001: UserWarning: This pattern has match groups. To actually get the groups, use str.extract.\n",
      "C:\\Anaconda\\lib\\site-packages\\pandas\\core\\strings.py:2001: UserWarning: This pattern has match groups. To actually get the groups, use str.extract.\n",
      "C:\\Anaconda\\lib\\site-packages\\pandas\\core\\strings.py:2001: UserWarning: This pattern has match groups. To actually get the groups, use str.extract.\n",
      "C:\\Anaconda\\lib\\site-packages\\pandas\\core\\strings.py:2001: UserWarning: This pattern has match groups. To actually get the groups, use str.extract.\n",
      "C:\\Anaconda\\lib\\site-packages\\pandas\\core\\strings.py:2001: UserWarning: This pattern has match groups. To actually get the groups, use str.extract.\n",
      "C:\\Anaconda\\lib\\site-packages\\pandas\\core\\strings.py:2001: UserWarning: This pattern has match groups. To actually get the groups, use str.extract.\n",
      "C:\\Anaconda\\lib\\site-packages\\pandas\\core\\strings.py:2001: UserWarning: This pattern has match groups. To actually get the groups, use str.extract.\n",
      "C:\\Anaconda\\lib\\site-packages\\pandas\\core\\strings.py:2001: UserWarning: This pattern has match groups. To actually get the groups, use str.extract.\n",
      "C:\\Anaconda\\lib\\site-packages\\pandas\\core\\strings.py:2001: UserWarning: This pattern has match groups. To actually get the groups, use str.extract.\n",
      "C:\\Anaconda\\lib\\site-packages\\pandas\\core\\strings.py:2001: UserWarning: This pattern has match groups. To actually get the groups, use str.extract.\n",
      "C:\\Anaconda\\lib\\site-packages\\pandas\\core\\strings.py:2001: UserWarning: This pattern has match groups. To actually get the groups, use str.extract.\n",
      "C:\\Anaconda\\lib\\site-packages\\pandas\\core\\strings.py:2001: UserWarning: This pattern has match groups. To actually get the groups, use str.extract.\n",
      "C:\\Anaconda\\lib\\site-packages\\pandas\\core\\strings.py:2001: UserWarning: This pattern has match groups. To actually get the groups, use str.extract.\n",
      "C:\\Anaconda\\lib\\site-packages\\pandas\\core\\strings.py:2001: UserWarning: This pattern has match groups. To actually get the groups, use str.extract.\n",
      "C:\\Anaconda\\lib\\site-packages\\pandas\\core\\strings.py:2001: UserWarning: This pattern has match groups. To actually get the groups, use str.extract.\n",
      "C:\\Anaconda\\lib\\site-packages\\pandas\\core\\strings.py:2001: UserWarning: This pattern has match groups. To actually get the groups, use str.extract.\n",
      "C:\\Anaconda\\lib\\site-packages\\pandas\\core\\strings.py:2001: UserWarning: This pattern has match groups. To actually get the groups, use str.extract.\n",
      "C:\\Anaconda\\lib\\site-packages\\pandas\\core\\strings.py:2001: UserWarning: This pattern has match groups. To actually get the groups, use str.extract.\n",
      "C:\\Anaconda\\lib\\site-packages\\pandas\\core\\strings.py:2001: UserWarning: This pattern has match groups. To actually get the groups, use str.extract.\n",
      "C:\\Anaconda\\lib\\site-packages\\pandas\\core\\strings.py:2001: UserWarning: This pattern has match groups. To actually get the groups, use str.extract.\n",
      "C:\\Anaconda\\lib\\site-packages\\pandas\\core\\strings.py:2001: UserWarning: This pattern has match groups. To actually get the groups, use str.extract.\n",
      "C:\\Anaconda\\lib\\site-packages\\pandas\\core\\strings.py:2001: UserWarning: This pattern has match groups. To actually get the groups, use str.extract.\n",
      "C:\\Anaconda\\lib\\site-packages\\pandas\\core\\strings.py:2001: UserWarning: This pattern has match groups. To actually get the groups, use str.extract.\n",
      "C:\\Anaconda\\lib\\site-packages\\pandas\\core\\strings.py:2001: UserWarning: This pattern has match groups. To actually get the groups, use str.extract.\n",
      "C:\\Anaconda\\lib\\site-packages\\pandas\\core\\strings.py:2001: UserWarning: This pattern has match groups. To actually get the groups, use str.extract.\n",
      "C:\\Anaconda\\lib\\site-packages\\pandas\\core\\strings.py:2001: UserWarning: This pattern has match groups. To actually get the groups, use str.extract.\n",
      "C:\\Anaconda\\lib\\site-packages\\pandas\\core\\strings.py:2001: UserWarning: This pattern has match groups. To actually get the groups, use str.extract.\n",
      "C:\\Anaconda\\lib\\site-packages\\pandas\\core\\strings.py:2001: UserWarning: This pattern has match groups. To actually get the groups, use str.extract.\n",
      "C:\\Anaconda\\lib\\site-packages\\pandas\\core\\strings.py:2001: UserWarning: This pattern has match groups. To actually get the groups, use str.extract.\n",
      "C:\\Anaconda\\lib\\site-packages\\pandas\\core\\strings.py:2001: UserWarning: This pattern has match groups. To actually get the groups, use str.extract.\n",
      "C:\\Anaconda\\lib\\site-packages\\pandas\\core\\strings.py:2001: UserWarning: This pattern has match groups. To actually get the groups, use str.extract.\n",
      "C:\\Anaconda\\lib\\site-packages\\pandas\\core\\strings.py:2001: UserWarning: This pattern has match groups. To actually get the groups, use str.extract.\n",
      "C:\\Anaconda\\lib\\site-packages\\pandas\\core\\strings.py:2001: UserWarning: This pattern has match groups. To actually get the groups, use str.extract.\n",
      "C:\\Anaconda\\lib\\site-packages\\pandas\\core\\strings.py:2001: UserWarning: This pattern has match groups. To actually get the groups, use str.extract.\n",
      "C:\\Anaconda\\lib\\site-packages\\pandas\\core\\strings.py:2001: UserWarning: This pattern has match groups. To actually get the groups, use str.extract.\n",
      "C:\\Anaconda\\lib\\site-packages\\pandas\\core\\strings.py:2001: UserWarning: This pattern has match groups. To actually get the groups, use str.extract.\n",
      "C:\\Anaconda\\lib\\site-packages\\pandas\\core\\strings.py:2001: UserWarning: This pattern has match groups. To actually get the groups, use str.extract.\n",
      "C:\\Anaconda\\lib\\site-packages\\pandas\\core\\strings.py:2001: UserWarning: This pattern has match groups. To actually get the groups, use str.extract.\n",
      "C:\\Anaconda\\lib\\site-packages\\pandas\\core\\strings.py:2001: UserWarning: This pattern has match groups. To actually get the groups, use str.extract.\n",
      "C:\\Anaconda\\lib\\site-packages\\pandas\\core\\strings.py:2001: UserWarning: This pattern has match groups. To actually get the groups, use str.extract.\n",
      "C:\\Anaconda\\lib\\site-packages\\pandas\\core\\strings.py:2001: UserWarning: This pattern has match groups. To actually get the groups, use str.extract.\n",
      "C:\\Anaconda\\lib\\site-packages\\pandas\\core\\strings.py:2001: UserWarning: This pattern has match groups. To actually get the groups, use str.extract.\n",
      "C:\\Anaconda\\lib\\site-packages\\pandas\\core\\strings.py:2001: UserWarning: This pattern has match groups. To actually get the groups, use str.extract.\n",
      "C:\\Anaconda\\lib\\site-packages\\pandas\\core\\strings.py:2001: UserWarning: This pattern has match groups. To actually get the groups, use str.extract.\n",
      "C:\\Anaconda\\lib\\site-packages\\pandas\\core\\strings.py:2001: UserWarning: This pattern has match groups. To actually get the groups, use str.extract.\n",
      "C:\\Anaconda\\lib\\site-packages\\pandas\\core\\strings.py:2001: UserWarning: This pattern has match groups. To actually get the groups, use str.extract.\n",
      "C:\\Anaconda\\lib\\site-packages\\pandas\\core\\strings.py:2001: UserWarning: This pattern has match groups. To actually get the groups, use str.extract.\n",
      "C:\\Anaconda\\lib\\site-packages\\pandas\\core\\strings.py:2001: UserWarning: This pattern has match groups. To actually get the groups, use str.extract.\n",
      "C:\\Anaconda\\lib\\site-packages\\pandas\\core\\strings.py:2001: UserWarning: This pattern has match groups. To actually get the groups, use str.extract.\n",
      "C:\\Anaconda\\lib\\site-packages\\pandas\\core\\strings.py:2001: UserWarning: This pattern has match groups. To actually get the groups, use str.extract.\n",
      "C:\\Anaconda\\lib\\site-packages\\pandas\\core\\strings.py:2001: UserWarning: This pattern has match groups. To actually get the groups, use str.extract.\n",
      "C:\\Anaconda\\lib\\site-packages\\pandas\\core\\strings.py:2001: UserWarning: This pattern has match groups. To actually get the groups, use str.extract.\n",
      "C:\\Anaconda\\lib\\site-packages\\pandas\\core\\strings.py:2001: UserWarning: This pattern has match groups. To actually get the groups, use str.extract.\n",
      "C:\\Anaconda\\lib\\site-packages\\pandas\\core\\strings.py:2001: UserWarning: This pattern has match groups. To actually get the groups, use str.extract.\n",
      "C:\\Anaconda\\lib\\site-packages\\pandas\\core\\strings.py:2001: UserWarning: This pattern has match groups. To actually get the groups, use str.extract.\n",
      "C:\\Anaconda\\lib\\site-packages\\pandas\\core\\strings.py:2001: UserWarning: This pattern has match groups. To actually get the groups, use str.extract.\n",
      "C:\\Anaconda\\lib\\site-packages\\pandas\\core\\strings.py:2001: UserWarning: This pattern has match groups. To actually get the groups, use str.extract.\n",
      "C:\\Anaconda\\lib\\site-packages\\pandas\\core\\strings.py:2001: UserWarning: This pattern has match groups. To actually get the groups, use str.extract.\n",
      "C:\\Anaconda\\lib\\site-packages\\pandas\\core\\strings.py:2001: UserWarning: This pattern has match groups. To actually get the groups, use str.extract.\n",
      "C:\\Anaconda\\lib\\site-packages\\pandas\\core\\strings.py:2001: UserWarning: This pattern has match groups. To actually get the groups, use str.extract.\n",
      "C:\\Anaconda\\lib\\site-packages\\pandas\\core\\strings.py:2001: UserWarning: This pattern has match groups. To actually get the groups, use str.extract.\n",
      "C:\\Anaconda\\lib\\site-packages\\pandas\\core\\strings.py:2001: UserWarning: This pattern has match groups. To actually get the groups, use str.extract.\n",
      "C:\\Anaconda\\lib\\site-packages\\pandas\\core\\strings.py:2001: UserWarning: This pattern has match groups. To actually get the groups, use str.extract.\n",
      "C:\\Anaconda\\lib\\site-packages\\pandas\\core\\strings.py:2001: UserWarning: This pattern has match groups. To actually get the groups, use str.extract.\n",
      "C:\\Anaconda\\lib\\site-packages\\pandas\\core\\strings.py:2001: UserWarning: This pattern has match groups. To actually get the groups, use str.extract.\n",
      "C:\\Anaconda\\lib\\site-packages\\pandas\\core\\strings.py:2001: UserWarning: This pattern has match groups. To actually get the groups, use str.extract.\n",
      "C:\\Anaconda\\lib\\site-packages\\pandas\\core\\strings.py:2001: UserWarning: This pattern has match groups. To actually get the groups, use str.extract.\n",
      "C:\\Anaconda\\lib\\site-packages\\pandas\\core\\strings.py:2001: UserWarning: This pattern has match groups. To actually get the groups, use str.extract.\n",
      "C:\\Anaconda\\lib\\site-packages\\pandas\\core\\strings.py:2001: UserWarning: This pattern has match groups. To actually get the groups, use str.extract.\n",
      "C:\\Anaconda\\lib\\site-packages\\pandas\\core\\strings.py:2001: UserWarning: This pattern has match groups. To actually get the groups, use str.extract.\n",
      "C:\\Anaconda\\lib\\site-packages\\pandas\\core\\strings.py:2001: UserWarning: This pattern has match groups. To actually get the groups, use str.extract.\n",
      "C:\\Anaconda\\lib\\site-packages\\pandas\\core\\strings.py:2001: UserWarning: This pattern has match groups. To actually get the groups, use str.extract.\n",
      "C:\\Anaconda\\lib\\site-packages\\pandas\\core\\strings.py:2001: UserWarning: This pattern has match groups. To actually get the groups, use str.extract.\n",
      "C:\\Anaconda\\lib\\site-packages\\pandas\\core\\strings.py:2001: UserWarning: This pattern has match groups. To actually get the groups, use str.extract.\n",
      "C:\\Anaconda\\lib\\site-packages\\pandas\\core\\strings.py:2001: UserWarning: This pattern has match groups. To actually get the groups, use str.extract.\n",
      "C:\\Anaconda\\lib\\site-packages\\pandas\\core\\strings.py:2001: UserWarning: This pattern has match groups. To actually get the groups, use str.extract.\n",
      "C:\\Anaconda\\lib\\site-packages\\pandas\\core\\strings.py:2001: UserWarning: This pattern has match groups. To actually get the groups, use str.extract.\n",
      "C:\\Anaconda\\lib\\site-packages\\pandas\\core\\strings.py:2001: UserWarning: This pattern has match groups. To actually get the groups, use str.extract.\n",
      "C:\\Anaconda\\lib\\site-packages\\pandas\\core\\strings.py:2001: UserWarning: This pattern has match groups. To actually get the groups, use str.extract.\n",
      "C:\\Anaconda\\lib\\site-packages\\pandas\\core\\strings.py:2001: UserWarning: This pattern has match groups. To actually get the groups, use str.extract.\n",
      "C:\\Anaconda\\lib\\site-packages\\pandas\\core\\strings.py:2001: UserWarning: This pattern has match groups. To actually get the groups, use str.extract.\n",
      "C:\\Anaconda\\lib\\site-packages\\pandas\\core\\strings.py:2001: UserWarning: This pattern has match groups. To actually get the groups, use str.extract.\n",
      "C:\\Anaconda\\lib\\site-packages\\pandas\\core\\strings.py:2001: UserWarning: This pattern has match groups. To actually get the groups, use str.extract.\n",
      "C:\\Anaconda\\lib\\site-packages\\pandas\\core\\strings.py:2001: UserWarning: This pattern has match groups. To actually get the groups, use str.extract.\n",
      "C:\\Anaconda\\lib\\site-packages\\pandas\\core\\strings.py:2001: UserWarning: This pattern has match groups. To actually get the groups, use str.extract.\n",
      "C:\\Anaconda\\lib\\site-packages\\pandas\\core\\strings.py:2001: UserWarning: This pattern has match groups. To actually get the groups, use str.extract.\n",
      "C:\\Anaconda\\lib\\site-packages\\pandas\\core\\strings.py:2001: UserWarning: This pattern has match groups. To actually get the groups, use str.extract.\n",
      "C:\\Anaconda\\lib\\site-packages\\pandas\\core\\strings.py:2001: UserWarning: This pattern has match groups. To actually get the groups, use str.extract.\n",
      "C:\\Anaconda\\lib\\site-packages\\pandas\\core\\strings.py:2001: UserWarning: This pattern has match groups. To actually get the groups, use str.extract.\n",
      "C:\\Anaconda\\lib\\site-packages\\pandas\\core\\strings.py:2001: UserWarning: This pattern has match groups. To actually get the groups, use str.extract.\n",
      "C:\\Anaconda\\lib\\site-packages\\pandas\\core\\strings.py:2001: UserWarning: This pattern has match groups. To actually get the groups, use str.extract.\n",
      "C:\\Anaconda\\lib\\site-packages\\pandas\\core\\strings.py:2001: UserWarning: This pattern has match groups. To actually get the groups, use str.extract.\n",
      "C:\\Anaconda\\lib\\site-packages\\pandas\\core\\strings.py:2001: UserWarning: This pattern has match groups. To actually get the groups, use str.extract.\n",
      "C:\\Anaconda\\lib\\site-packages\\pandas\\core\\strings.py:2001: UserWarning: This pattern has match groups. To actually get the groups, use str.extract.\n",
      "C:\\Anaconda\\lib\\site-packages\\pandas\\core\\strings.py:2001: UserWarning: This pattern has match groups. To actually get the groups, use str.extract.\n",
      "C:\\Anaconda\\lib\\site-packages\\pandas\\core\\strings.py:2001: UserWarning: This pattern has match groups. To actually get the groups, use str.extract.\n",
      "C:\\Anaconda\\lib\\site-packages\\pandas\\core\\strings.py:2001: UserWarning: This pattern has match groups. To actually get the groups, use str.extract.\n",
      "C:\\Anaconda\\lib\\site-packages\\pandas\\core\\strings.py:2001: UserWarning: This pattern has match groups. To actually get the groups, use str.extract.\n",
      "C:\\Anaconda\\lib\\site-packages\\pandas\\core\\strings.py:2001: UserWarning: This pattern has match groups. To actually get the groups, use str.extract.\n",
      "C:\\Anaconda\\lib\\site-packages\\pandas\\core\\strings.py:2001: UserWarning: This pattern has match groups. To actually get the groups, use str.extract.\n",
      "C:\\Anaconda\\lib\\site-packages\\pandas\\core\\strings.py:2001: UserWarning: This pattern has match groups. To actually get the groups, use str.extract.\n",
      "C:\\Anaconda\\lib\\site-packages\\pandas\\core\\strings.py:2001: UserWarning: This pattern has match groups. To actually get the groups, use str.extract.\n",
      "C:\\Anaconda\\lib\\site-packages\\pandas\\core\\strings.py:2001: UserWarning: This pattern has match groups. To actually get the groups, use str.extract.\n",
      "C:\\Anaconda\\lib\\site-packages\\pandas\\core\\strings.py:2001: UserWarning: This pattern has match groups. To actually get the groups, use str.extract.\n",
      "C:\\Anaconda\\lib\\site-packages\\pandas\\core\\strings.py:2001: UserWarning: This pattern has match groups. To actually get the groups, use str.extract.\n",
      "C:\\Anaconda\\lib\\site-packages\\pandas\\core\\strings.py:2001: UserWarning: This pattern has match groups. To actually get the groups, use str.extract.\n",
      "C:\\Anaconda\\lib\\site-packages\\pandas\\core\\strings.py:2001: UserWarning: This pattern has match groups. To actually get the groups, use str.extract.\n",
      "C:\\Anaconda\\lib\\site-packages\\pandas\\core\\strings.py:2001: UserWarning: This pattern has match groups. To actually get the groups, use str.extract.\n",
      "C:\\Anaconda\\lib\\site-packages\\pandas\\core\\strings.py:2001: UserWarning: This pattern has match groups. To actually get the groups, use str.extract.\n",
      "C:\\Anaconda\\lib\\site-packages\\pandas\\core\\strings.py:2001: UserWarning: This pattern has match groups. To actually get the groups, use str.extract.\n",
      "C:\\Anaconda\\lib\\site-packages\\pandas\\core\\strings.py:2001: UserWarning: This pattern has match groups. To actually get the groups, use str.extract.\n",
      "C:\\Anaconda\\lib\\site-packages\\pandas\\core\\strings.py:2001: UserWarning: This pattern has match groups. To actually get the groups, use str.extract.\n",
      "C:\\Anaconda\\lib\\site-packages\\pandas\\core\\strings.py:2001: UserWarning: This pattern has match groups. To actually get the groups, use str.extract.\n",
      "C:\\Anaconda\\lib\\site-packages\\pandas\\core\\strings.py:2001: UserWarning: This pattern has match groups. To actually get the groups, use str.extract.\n",
      "C:\\Anaconda\\lib\\site-packages\\pandas\\core\\strings.py:2001: UserWarning: This pattern has match groups. To actually get the groups, use str.extract.\n",
      "C:\\Anaconda\\lib\\site-packages\\pandas\\core\\strings.py:2001: UserWarning: This pattern has match groups. To actually get the groups, use str.extract.\n",
      "C:\\Anaconda\\lib\\site-packages\\pandas\\core\\strings.py:2001: UserWarning: This pattern has match groups. To actually get the groups, use str.extract.\n",
      "C:\\Anaconda\\lib\\site-packages\\pandas\\core\\strings.py:2001: UserWarning: This pattern has match groups. To actually get the groups, use str.extract.\n",
      "C:\\Anaconda\\lib\\site-packages\\pandas\\core\\strings.py:2001: UserWarning: This pattern has match groups. To actually get the groups, use str.extract.\n",
      "C:\\Anaconda\\lib\\site-packages\\pandas\\core\\strings.py:2001: UserWarning: This pattern has match groups. To actually get the groups, use str.extract.\n",
      "C:\\Anaconda\\lib\\site-packages\\pandas\\core\\strings.py:2001: UserWarning: This pattern has match groups. To actually get the groups, use str.extract.\n",
      "C:\\Anaconda\\lib\\site-packages\\pandas\\core\\strings.py:2001: UserWarning: This pattern has match groups. To actually get the groups, use str.extract.\n",
      "C:\\Anaconda\\lib\\site-packages\\pandas\\core\\strings.py:2001: UserWarning: This pattern has match groups. To actually get the groups, use str.extract.\n",
      "C:\\Anaconda\\lib\\site-packages\\pandas\\core\\strings.py:2001: UserWarning: This pattern has match groups. To actually get the groups, use str.extract.\n",
      "C:\\Anaconda\\lib\\site-packages\\pandas\\core\\strings.py:2001: UserWarning: This pattern has match groups. To actually get the groups, use str.extract.\n",
      "C:\\Anaconda\\lib\\site-packages\\pandas\\core\\strings.py:2001: UserWarning: This pattern has match groups. To actually get the groups, use str.extract.\n",
      "C:\\Anaconda\\lib\\site-packages\\pandas\\core\\strings.py:2001: UserWarning: This pattern has match groups. To actually get the groups, use str.extract.\n",
      "C:\\Anaconda\\lib\\site-packages\\pandas\\core\\strings.py:2001: UserWarning: This pattern has match groups. To actually get the groups, use str.extract.\n",
      "C:\\Anaconda\\lib\\site-packages\\pandas\\core\\strings.py:2001: UserWarning: This pattern has match groups. To actually get the groups, use str.extract.\n",
      "C:\\Anaconda\\lib\\site-packages\\pandas\\core\\strings.py:2001: UserWarning: This pattern has match groups. To actually get the groups, use str.extract.\n",
      "C:\\Anaconda\\lib\\site-packages\\pandas\\core\\strings.py:2001: UserWarning: This pattern has match groups. To actually get the groups, use str.extract.\n",
      "C:\\Anaconda\\lib\\site-packages\\pandas\\core\\strings.py:2001: UserWarning: This pattern has match groups. To actually get the groups, use str.extract.\n",
      "C:\\Anaconda\\lib\\site-packages\\pandas\\core\\strings.py:2001: UserWarning: This pattern has match groups. To actually get the groups, use str.extract.\n",
      "C:\\Anaconda\\lib\\site-packages\\pandas\\core\\strings.py:2001: UserWarning: This pattern has match groups. To actually get the groups, use str.extract.\n",
      "C:\\Anaconda\\lib\\site-packages\\pandas\\core\\strings.py:2001: UserWarning: This pattern has match groups. To actually get the groups, use str.extract.\n",
      "C:\\Anaconda\\lib\\site-packages\\pandas\\core\\strings.py:2001: UserWarning: This pattern has match groups. To actually get the groups, use str.extract.\n",
      "C:\\Anaconda\\lib\\site-packages\\pandas\\core\\strings.py:2001: UserWarning: This pattern has match groups. To actually get the groups, use str.extract.\n",
      "C:\\Anaconda\\lib\\site-packages\\pandas\\core\\strings.py:2001: UserWarning: This pattern has match groups. To actually get the groups, use str.extract.\n",
      "C:\\Anaconda\\lib\\site-packages\\pandas\\core\\strings.py:2001: UserWarning: This pattern has match groups. To actually get the groups, use str.extract.\n",
      "C:\\Anaconda\\lib\\site-packages\\pandas\\core\\strings.py:2001: UserWarning: This pattern has match groups. To actually get the groups, use str.extract.\n",
      "C:\\Anaconda\\lib\\site-packages\\pandas\\core\\strings.py:2001: UserWarning: This pattern has match groups. To actually get the groups, use str.extract.\n",
      "C:\\Anaconda\\lib\\site-packages\\pandas\\core\\strings.py:2001: UserWarning: This pattern has match groups. To actually get the groups, use str.extract.\n",
      "C:\\Anaconda\\lib\\site-packages\\pandas\\core\\strings.py:2001: UserWarning: This pattern has match groups. To actually get the groups, use str.extract.\n",
      "C:\\Anaconda\\lib\\site-packages\\pandas\\core\\strings.py:2001: UserWarning: This pattern has match groups. To actually get the groups, use str.extract.\n",
      "C:\\Anaconda\\lib\\site-packages\\pandas\\core\\strings.py:2001: UserWarning: This pattern has match groups. To actually get the groups, use str.extract.\n",
      "C:\\Anaconda\\lib\\site-packages\\pandas\\core\\strings.py:2001: UserWarning: This pattern has match groups. To actually get the groups, use str.extract.\n",
      "C:\\Anaconda\\lib\\site-packages\\pandas\\core\\strings.py:2001: UserWarning: This pattern has match groups. To actually get the groups, use str.extract.\n",
      "C:\\Anaconda\\lib\\site-packages\\pandas\\core\\strings.py:2001: UserWarning: This pattern has match groups. To actually get the groups, use str.extract.\n",
      "C:\\Anaconda\\lib\\site-packages\\pandas\\core\\strings.py:2001: UserWarning: This pattern has match groups. To actually get the groups, use str.extract.\n",
      "C:\\Anaconda\\lib\\site-packages\\pandas\\core\\strings.py:2001: UserWarning: This pattern has match groups. To actually get the groups, use str.extract.\n",
      "C:\\Anaconda\\lib\\site-packages\\pandas\\core\\strings.py:2001: UserWarning: This pattern has match groups. To actually get the groups, use str.extract.\n",
      "C:\\Anaconda\\lib\\site-packages\\pandas\\core\\strings.py:2001: UserWarning: This pattern has match groups. To actually get the groups, use str.extract.\n",
      "C:\\Anaconda\\lib\\site-packages\\pandas\\core\\strings.py:2001: UserWarning: This pattern has match groups. To actually get the groups, use str.extract.\n",
      "C:\\Anaconda\\lib\\site-packages\\pandas\\core\\strings.py:2001: UserWarning: This pattern has match groups. To actually get the groups, use str.extract.\n",
      "C:\\Anaconda\\lib\\site-packages\\pandas\\core\\strings.py:2001: UserWarning: This pattern has match groups. To actually get the groups, use str.extract.\n",
      "C:\\Anaconda\\lib\\site-packages\\pandas\\core\\strings.py:2001: UserWarning: This pattern has match groups. To actually get the groups, use str.extract.\n",
      "C:\\Anaconda\\lib\\site-packages\\pandas\\core\\strings.py:2001: UserWarning: This pattern has match groups. To actually get the groups, use str.extract.\n",
      "C:\\Anaconda\\lib\\site-packages\\pandas\\core\\strings.py:2001: UserWarning: This pattern has match groups. To actually get the groups, use str.extract.\n",
      "C:\\Anaconda\\lib\\site-packages\\pandas\\core\\strings.py:2001: UserWarning: This pattern has match groups. To actually get the groups, use str.extract.\n",
      "C:\\Anaconda\\lib\\site-packages\\pandas\\core\\strings.py:2001: UserWarning: This pattern has match groups. To actually get the groups, use str.extract.\n",
      "C:\\Anaconda\\lib\\site-packages\\pandas\\core\\strings.py:2001: UserWarning: This pattern has match groups. To actually get the groups, use str.extract.\n",
      "C:\\Anaconda\\lib\\site-packages\\pandas\\core\\strings.py:2001: UserWarning: This pattern has match groups. To actually get the groups, use str.extract.\n",
      "C:\\Anaconda\\lib\\site-packages\\pandas\\core\\strings.py:2001: UserWarning: This pattern has match groups. To actually get the groups, use str.extract.\n",
      "C:\\Anaconda\\lib\\site-packages\\pandas\\core\\strings.py:2001: UserWarning: This pattern has match groups. To actually get the groups, use str.extract.\n",
      "C:\\Anaconda\\lib\\site-packages\\pandas\\core\\strings.py:2001: UserWarning: This pattern has match groups. To actually get the groups, use str.extract.\n",
      "C:\\Anaconda\\lib\\site-packages\\pandas\\core\\strings.py:2001: UserWarning: This pattern has match groups. To actually get the groups, use str.extract.\n",
      "C:\\Anaconda\\lib\\site-packages\\pandas\\core\\strings.py:2001: UserWarning: This pattern has match groups. To actually get the groups, use str.extract.\n",
      "C:\\Anaconda\\lib\\site-packages\\pandas\\core\\strings.py:2001: UserWarning: This pattern has match groups. To actually get the groups, use str.extract.\n",
      "C:\\Anaconda\\lib\\site-packages\\pandas\\core\\strings.py:2001: UserWarning: This pattern has match groups. To actually get the groups, use str.extract.\n",
      "C:\\Anaconda\\lib\\site-packages\\pandas\\core\\strings.py:2001: UserWarning: This pattern has match groups. To actually get the groups, use str.extract.\n",
      "C:\\Anaconda\\lib\\site-packages\\pandas\\core\\strings.py:2001: UserWarning: This pattern has match groups. To actually get the groups, use str.extract.\n",
      "C:\\Anaconda\\lib\\site-packages\\pandas\\core\\strings.py:2001: UserWarning: This pattern has match groups. To actually get the groups, use str.extract.\n",
      "C:\\Anaconda\\lib\\site-packages\\pandas\\core\\strings.py:2001: UserWarning: This pattern has match groups. To actually get the groups, use str.extract.\n",
      "C:\\Anaconda\\lib\\site-packages\\pandas\\core\\strings.py:2001: UserWarning: This pattern has match groups. To actually get the groups, use str.extract.\n",
      "C:\\Anaconda\\lib\\site-packages\\pandas\\core\\strings.py:2001: UserWarning: This pattern has match groups. To actually get the groups, use str.extract.\n",
      "C:\\Anaconda\\lib\\site-packages\\pandas\\core\\strings.py:2001: UserWarning: This pattern has match groups. To actually get the groups, use str.extract.\n",
      "C:\\Anaconda\\lib\\site-packages\\pandas\\core\\strings.py:2001: UserWarning: This pattern has match groups. To actually get the groups, use str.extract.\n",
      "C:\\Anaconda\\lib\\site-packages\\pandas\\core\\strings.py:2001: UserWarning: This pattern has match groups. To actually get the groups, use str.extract.\n",
      "C:\\Anaconda\\lib\\site-packages\\pandas\\core\\strings.py:2001: UserWarning: This pattern has match groups. To actually get the groups, use str.extract.\n",
      "C:\\Anaconda\\lib\\site-packages\\pandas\\core\\strings.py:2001: UserWarning: This pattern has match groups. To actually get the groups, use str.extract.\n",
      "C:\\Anaconda\\lib\\site-packages\\pandas\\core\\strings.py:2001: UserWarning: This pattern has match groups. To actually get the groups, use str.extract.\n",
      "C:\\Anaconda\\lib\\site-packages\\pandas\\core\\strings.py:2001: UserWarning: This pattern has match groups. To actually get the groups, use str.extract.\n",
      "C:\\Anaconda\\lib\\site-packages\\pandas\\core\\strings.py:2001: UserWarning: This pattern has match groups. To actually get the groups, use str.extract.\n",
      "C:\\Anaconda\\lib\\site-packages\\pandas\\core\\strings.py:2001: UserWarning: This pattern has match groups. To actually get the groups, use str.extract.\n",
      "C:\\Anaconda\\lib\\site-packages\\pandas\\core\\strings.py:2001: UserWarning: This pattern has match groups. To actually get the groups, use str.extract.\n",
      "C:\\Anaconda\\lib\\site-packages\\pandas\\core\\strings.py:2001: UserWarning: This pattern has match groups. To actually get the groups, use str.extract.\n",
      "C:\\Anaconda\\lib\\site-packages\\pandas\\core\\strings.py:2001: UserWarning: This pattern has match groups. To actually get the groups, use str.extract.\n",
      "C:\\Anaconda\\lib\\site-packages\\pandas\\core\\strings.py:2001: UserWarning: This pattern has match groups. To actually get the groups, use str.extract.\n",
      "C:\\Anaconda\\lib\\site-packages\\pandas\\core\\strings.py:2001: UserWarning: This pattern has match groups. To actually get the groups, use str.extract.\n",
      "C:\\Anaconda\\lib\\site-packages\\pandas\\core\\strings.py:2001: UserWarning: This pattern has match groups. To actually get the groups, use str.extract.\n",
      "C:\\Anaconda\\lib\\site-packages\\pandas\\core\\strings.py:2001: UserWarning: This pattern has match groups. To actually get the groups, use str.extract.\n",
      "C:\\Anaconda\\lib\\site-packages\\pandas\\core\\strings.py:2001: UserWarning: This pattern has match groups. To actually get the groups, use str.extract.\n",
      "C:\\Anaconda\\lib\\site-packages\\pandas\\core\\strings.py:2001: UserWarning: This pattern has match groups. To actually get the groups, use str.extract.\n",
      "C:\\Anaconda\\lib\\site-packages\\pandas\\core\\strings.py:2001: UserWarning: This pattern has match groups. To actually get the groups, use str.extract.\n",
      "C:\\Anaconda\\lib\\site-packages\\pandas\\core\\strings.py:2001: UserWarning: This pattern has match groups. To actually get the groups, use str.extract.\n",
      "C:\\Anaconda\\lib\\site-packages\\pandas\\core\\strings.py:2001: UserWarning: This pattern has match groups. To actually get the groups, use str.extract.\n",
      "C:\\Anaconda\\lib\\site-packages\\pandas\\core\\strings.py:2001: UserWarning: This pattern has match groups. To actually get the groups, use str.extract.\n",
      "C:\\Anaconda\\lib\\site-packages\\pandas\\core\\strings.py:2001: UserWarning: This pattern has match groups. To actually get the groups, use str.extract.\n",
      "C:\\Anaconda\\lib\\site-packages\\pandas\\core\\strings.py:2001: UserWarning: This pattern has match groups. To actually get the groups, use str.extract.\n",
      "C:\\Anaconda\\lib\\site-packages\\pandas\\core\\strings.py:2001: UserWarning: This pattern has match groups. To actually get the groups, use str.extract.\n",
      "C:\\Anaconda\\lib\\site-packages\\pandas\\core\\strings.py:2001: UserWarning: This pattern has match groups. To actually get the groups, use str.extract.\n",
      "C:\\Anaconda\\lib\\site-packages\\pandas\\core\\strings.py:2001: UserWarning: This pattern has match groups. To actually get the groups, use str.extract.\n",
      "C:\\Anaconda\\lib\\site-packages\\pandas\\core\\strings.py:2001: UserWarning: This pattern has match groups. To actually get the groups, use str.extract.\n",
      "C:\\Anaconda\\lib\\site-packages\\pandas\\core\\strings.py:2001: UserWarning: This pattern has match groups. To actually get the groups, use str.extract.\n",
      "C:\\Anaconda\\lib\\site-packages\\pandas\\core\\strings.py:2001: UserWarning: This pattern has match groups. To actually get the groups, use str.extract.\n",
      "C:\\Anaconda\\lib\\site-packages\\pandas\\core\\strings.py:2001: UserWarning: This pattern has match groups. To actually get the groups, use str.extract.\n",
      "C:\\Anaconda\\lib\\site-packages\\pandas\\core\\strings.py:2001: UserWarning: This pattern has match groups. To actually get the groups, use str.extract.\n",
      "C:\\Anaconda\\lib\\site-packages\\pandas\\core\\strings.py:2001: UserWarning: This pattern has match groups. To actually get the groups, use str.extract.\n",
      "C:\\Anaconda\\lib\\site-packages\\pandas\\core\\strings.py:2001: UserWarning: This pattern has match groups. To actually get the groups, use str.extract.\n",
      "C:\\Anaconda\\lib\\site-packages\\pandas\\core\\strings.py:2001: UserWarning: This pattern has match groups. To actually get the groups, use str.extract.\n",
      "C:\\Anaconda\\lib\\site-packages\\pandas\\core\\strings.py:2001: UserWarning: This pattern has match groups. To actually get the groups, use str.extract.\n",
      "C:\\Anaconda\\lib\\site-packages\\pandas\\core\\strings.py:2001: UserWarning: This pattern has match groups. To actually get the groups, use str.extract.\n",
      "C:\\Anaconda\\lib\\site-packages\\pandas\\core\\strings.py:2001: UserWarning: This pattern has match groups. To actually get the groups, use str.extract.\n",
      "C:\\Anaconda\\lib\\site-packages\\pandas\\core\\strings.py:2001: UserWarning: This pattern has match groups. To actually get the groups, use str.extract.\n",
      "C:\\Anaconda\\lib\\site-packages\\pandas\\core\\strings.py:2001: UserWarning: This pattern has match groups. To actually get the groups, use str.extract.\n",
      "C:\\Anaconda\\lib\\site-packages\\pandas\\core\\strings.py:2001: UserWarning: This pattern has match groups. To actually get the groups, use str.extract.\n",
      "C:\\Anaconda\\lib\\site-packages\\pandas\\core\\strings.py:2001: UserWarning: This pattern has match groups. To actually get the groups, use str.extract.\n",
      "C:\\Anaconda\\lib\\site-packages\\pandas\\core\\strings.py:2001: UserWarning: This pattern has match groups. To actually get the groups, use str.extract.\n",
      "C:\\Anaconda\\lib\\site-packages\\pandas\\core\\strings.py:2001: UserWarning: This pattern has match groups. To actually get the groups, use str.extract.\n",
      "C:\\Anaconda\\lib\\site-packages\\pandas\\core\\strings.py:2001: UserWarning: This pattern has match groups. To actually get the groups, use str.extract.\n",
      "C:\\Anaconda\\lib\\site-packages\\pandas\\core\\strings.py:2001: UserWarning: This pattern has match groups. To actually get the groups, use str.extract.\n"
     ]
    }
   ],
   "source": [
    "list_mean = []\r\n",
    "list_count = []\r\n",
    "\r\n",
    "for i in apt_group.index :\r\n",
    "    area = apt_group['면적(전용면적)'].loc[i]\r\n",
    "    bid = apt_group['건물명'].loc[i]\r\n",
    "\r\n",
    "    sample = apt_trd[apt_trd['전용면적'] == area]\r\n",
    "    sample = sample[sample['아파트'].astype(str).str.contains(bid)]\r\n",
    "    sample = sample.sort_values('계약일자', ascending = False)\r\n",
    "\r\n",
    "    count_5 = sample.head(5)['거래금액'].count()\r\n",
    "    mean_5 = sample.head(5)['거래금액'].mean()\r\n",
    "\r\n",
    "    list_mean.append(mean_5)\r\n",
    "    list_count.append(count_5)\r\n",
    "\r\n",
    "\r\n",
    "apt_group['최근5건'] = list_mean\r\n",
    "apt_group['최근5건수'] = list_count"
   ]
  },
  {
   "cell_type": "code",
   "execution_count": 567,
   "metadata": {},
   "outputs": [
    {
     "data": {
      "text/html": "<div>\n<style scoped>\n    .dataframe tbody tr th:only-of-type {\n        vertical-align: middle;\n    }\n\n    .dataframe tbody tr th {\n        vertical-align: top;\n    }\n\n    .dataframe thead th {\n        text-align: right;\n    }\n</style>\n<table border=\"1\" class=\"dataframe\">\n  <thead>\n    <tr style=\"text-align: right;\">\n      <th></th>\n      <th>대지주소</th>\n      <th>면적(전용면적)</th>\n      <th>동명칭</th>\n      <th>건물명</th>\n      <th>PNU</th>\n      <th>법정동코드</th>\n      <th>동</th>\n      <th>최근5건</th>\n      <th>최근5건수</th>\n    </tr>\n  </thead>\n  <tbody>\n    <tr>\n      <th>710</th>\n      <td>세종특별자치시  해밀동 블록 행정중심복합도시 6-4 생활권지구 L1블록</td>\n      <td>59.0</td>\n      <td>930</td>\n      <td>해밀마을1단지</td>\n      <td>해밀동00000000</td>\n      <td>11600</td>\n      <td>해밀동</td>\n      <td>41670.000000</td>\n      <td>4</td>\n    </tr>\n    <tr>\n      <th>711</th>\n      <td>세종특별자치시  해밀동 블록 행정중심복합도시 6-4 생활권지구 L1블록</td>\n      <td>84.0</td>\n      <td>780</td>\n      <td>해밀마을1단지</td>\n      <td>해밀동00000000</td>\n      <td>11600</td>\n      <td>해밀동</td>\n      <td>84340.000000</td>\n      <td>5</td>\n    </tr>\n    <tr>\n      <th>713</th>\n      <td>세종특별자치시  해밀동 블록 행정중심복합도시 6-4 생활권지구 L1블록</td>\n      <td>120.0</td>\n      <td>100</td>\n      <td>해밀마을1단지</td>\n      <td>해밀동00000000</td>\n      <td>11600</td>\n      <td>해밀동</td>\n      <td>80000.000000</td>\n      <td>1</td>\n    </tr>\n    <tr>\n      <th>728</th>\n      <td>세종특별자치시  해밀동 블록 행정중심복합도시 6-4생활권지구 M1블록블록</td>\n      <td>84.0</td>\n      <td>561</td>\n      <td>해밀마을2단지</td>\n      <td>해밀동00000000</td>\n      <td>11600</td>\n      <td>해밀동</td>\n      <td>72200.000000</td>\n      <td>5</td>\n    </tr>\n    <tr>\n      <th>729</th>\n      <td>세종특별자치시  해밀동 블록 행정중심복합도시 6-4생활권지구 M1블록블록</td>\n      <td>102.0</td>\n      <td>234</td>\n      <td>해밀마을2단지</td>\n      <td>해밀동00000000</td>\n      <td>11600</td>\n      <td>해밀동</td>\n      <td>108333.333333</td>\n      <td>3</td>\n    </tr>\n  </tbody>\n</table>\n</div>",
      "text/plain": "                                         대지주소  면적(전용면적)  동명칭      건물명  \\\n710   세종특별자치시  해밀동 블록 행정중심복합도시 6-4 생활권지구 L1블록      59.0  930  해밀마을1단지   \n711   세종특별자치시  해밀동 블록 행정중심복합도시 6-4 생활권지구 L1블록      84.0  780  해밀마을1단지   \n713   세종특별자치시  해밀동 블록 행정중심복합도시 6-4 생활권지구 L1블록     120.0  100  해밀마을1단지   \n728  세종특별자치시  해밀동 블록 행정중심복합도시 6-4생활권지구 M1블록블록      84.0  561  해밀마을2단지   \n729  세종특별자치시  해밀동 블록 행정중심복합도시 6-4생활권지구 M1블록블록     102.0  234  해밀마을2단지   \n\n             PNU  법정동코드    동           최근5건  최근5건수  \n710  해밀동00000000  11600  해밀동   41670.000000      4  \n711  해밀동00000000  11600  해밀동   84340.000000      5  \n713  해밀동00000000  11600  해밀동   80000.000000      1  \n728  해밀동00000000  11600  해밀동   72200.000000      5  \n729  해밀동00000000  11600  해밀동  108333.333333      3  "
     },
     "execution_count": 567,
     "metadata": {},
     "output_type": "execute_result"
    }
   ],
   "source": [
    "final = apt_group[~apt_group['최근5건'].isnull()]\r\n",
    "final.tail()"
   ]
  },
  {
   "cell_type": "markdown",
   "metadata": {},
   "source": [
    "## KNN"
   ]
  },
  {
   "cell_type": "code",
   "execution_count": 557,
   "metadata": {},
   "outputs": [],
   "source": [
    "from math import sqrt\r\n",
    "\r\n",
    "# calculate the Euclidean distance between two vectors\r\n",
    "# row = [x, y, type]\r\n",
    "def euclidean_distance(row1, row2):\r\n",
    "\tdistance = 0.0\r\n",
    "\tfor i in range(len(row1)-1):\r\n",
    "\t\tdistance += (row1[i] - row2[i])**2\r\n",
    "\treturn sqrt(distance)"
   ]
  },
  {
   "cell_type": "code",
   "execution_count": 623,
   "metadata": {},
   "outputs": [
    {
     "data": {
      "text/html": "<div>\n<style scoped>\n    .dataframe tbody tr th:only-of-type {\n        vertical-align: middle;\n    }\n\n    .dataframe tbody tr th {\n        vertical-align: top;\n    }\n\n    .dataframe thead th {\n        text-align: right;\n    }\n</style>\n<table border=\"1\" class=\"dataframe\">\n  <thead>\n    <tr style=\"text-align: right;\">\n      <th></th>\n      <th>면적(전용면적)</th>\n      <th>동</th>\n      <th>최근5건</th>\n      <th>건물명</th>\n    </tr>\n  </thead>\n  <tbody>\n    <tr>\n      <th>155</th>\n      <td>59.0</td>\n      <td>해밀동</td>\n      <td>41670.000000</td>\n      <td>해밀마을1단지</td>\n    </tr>\n    <tr>\n      <th>156</th>\n      <td>84.0</td>\n      <td>해밀동</td>\n      <td>84340.000000</td>\n      <td>해밀마을1단지</td>\n    </tr>\n    <tr>\n      <th>157</th>\n      <td>120.0</td>\n      <td>해밀동</td>\n      <td>80000.000000</td>\n      <td>해밀마을1단지</td>\n    </tr>\n    <tr>\n      <th>158</th>\n      <td>84.0</td>\n      <td>해밀동</td>\n      <td>72200.000000</td>\n      <td>해밀마을2단지</td>\n    </tr>\n    <tr>\n      <th>159</th>\n      <td>102.0</td>\n      <td>해밀동</td>\n      <td>108333.333333</td>\n      <td>해밀마을2단지</td>\n    </tr>\n  </tbody>\n</table>\n</div>",
      "text/plain": "     면적(전용면적)    동           최근5건      건물명\n155      59.0  해밀동   41670.000000  해밀마을1단지\n156      84.0  해밀동   84340.000000  해밀마을1단지\n157     120.0  해밀동   80000.000000  해밀마을1단지\n158      84.0  해밀동   72200.000000  해밀마을2단지\n159     102.0  해밀동  108333.333333  해밀마을2단지"
     },
     "execution_count": 623,
     "metadata": {},
     "output_type": "execute_result"
    }
   ],
   "source": [
    "test_col = ['면적(전용면적)','동','최근5건','건물명']\r\n",
    "test = final[test_col]\r\n",
    "test = test.reset_index(drop = True)\r\n",
    "test.tail()"
   ]
  },
  {
   "cell_type": "code",
   "execution_count": 624,
   "metadata": {},
   "outputs": [],
   "source": [
    "from sklearn.model_selection import train_test_split\r\n",
    "X_col = ['면적(전용면적)','최근5건']\r\n",
    "X = test[X_col]\r\n",
    "y = test['동']\r\n",
    "\r\n",
    "X_train, X_test, y_train, y_test = train_test_split(X, y, random_state=0)"
   ]
  },
  {
   "cell_type": "code",
   "execution_count": 625,
   "metadata": {},
   "outputs": [],
   "source": [
    "from sklearn.neighbors import KNeighborsClassifier\r\n",
    "clf = KNeighborsClassifier(n_neighbors=3)"
   ]
  },
  {
   "cell_type": "code",
   "execution_count": 626,
   "metadata": {},
   "outputs": [
    {
     "data": {
      "text/plain": "KNeighborsClassifier(n_neighbors=3)"
     },
     "execution_count": 626,
     "metadata": {},
     "output_type": "execute_result"
    }
   ],
   "source": [
    "clf.fit(X_train, y_train)"
   ]
  },
  {
   "cell_type": "code",
   "execution_count": 628,
   "metadata": {},
   "outputs": [
    {
     "name": "stdout",
     "output_type": "stream",
     "text": [
      "테스트 세트 예측: ['다정동' '다정동' '고운동' '고운동' '다정동' '다정동' '나성동' '도담동' '다정동' '어진동' '조치원읍' '다정동'\n",
      " '다정동' '다정동' '나성동' '다정동' '다정동' '새롬동' '나성동' '소담동' '소담동' '고운동' '다정동' '보람동'\n",
      " '다정동' '고운동' '다정동' '다정동' '도담동' '나성동' '다정동' '소담동' '다정동' '도담동' '보람동' '도담동'\n",
      " '조치원읍' '도담동' '도담동' '도담동']\n"
     ]
    }
   ],
   "source": [
    "print(\"테스트 세트 예측: {}\".format(clf.predict(X_test)))"
   ]
  },
  {
   "cell_type": "code",
   "execution_count": 629,
   "metadata": {},
   "outputs": [
    {
     "name": "stdout",
     "output_type": "stream",
     "text": [
      "테스트 세트 정확도: 0.25\n"
     ]
    }
   ],
   "source": [
    "print(\"테스트 세트 정확도: {:.2f}\".format(clf.score(X_test, y_test)))"
   ]
  },
  {
   "cell_type": "markdown",
   "metadata": {},
   "source": [
    "## 아파트 기타용도텍스트 카운팅"
   ]
  },
  {
   "cell_type": "code",
   "execution_count": 57,
   "metadata": {},
   "outputs": [],
   "source": [
    "# 아파트 추출\r\n",
    "apt_unit = b_unit[b_unit['용도코드명']=='아파트']\r\n",
    "\r\n",
    "list_pur = apt_unit['기타용도'].str.split('(').str[0]\r\n",
    "list_pur = list_pur.tolist()\r\n",
    "\r\n",
    "list_pur01 = []\r\n",
    "for i in list_pur:\r\n",
    "    a = i.split(',')\r\n",
    "    if len(a) == 1 :\r\n",
    "        list_pur01.append(a[0])\r\n",
    "    else :\r\n",
    "        for i in range(len(a)) :\r\n",
    "            list_pur01.append(a[i])\r\n"
   ]
  },
  {
   "cell_type": "code",
   "execution_count": 81,
   "metadata": {},
   "outputs": [
    {
     "data": {
      "text/plain": "계단실      97471\n아파트      92046\n벽체       76238\n지하주차장    59329\n승강기      59102\ndtype: int64"
     },
     "execution_count": 81,
     "metadata": {},
     "output_type": "execute_result"
    }
   ],
   "source": [
    "list_pur02 = pd.Series(list_pur01)\r\n",
    "result = list_pur02.value_counts().head(5)\r\n",
    "result"
   ]
  },
  {
   "cell_type": "code",
   "execution_count": null,
   "metadata": {},
   "outputs": [],
   "source": []
  }
 ],
 "metadata": {
  "kernelspec": {
   "display_name": "Python 3.8.5 64-bit (conda)",
   "metadata": {
    "interpreter": {
     "hash": "ed225720166559e7176d3793db16a2fd8d295f725007103b21ac3099d2a89ee8"
    }
   },
   "name": "python3"
  },
  "language_info": {
   "codemirror_mode": {
    "name": "ipython",
    "version": 3
   },
   "file_extension": ".py",
   "mimetype": "text/x-python",
   "name": "python",
   "nbconvert_exporter": "python",
   "pygments_lexer": "ipython3",
   "version": "3.8.5"
  },
  "orig_nbformat": 2
 },
 "nbformat": 4,
 "nbformat_minor": 2
}